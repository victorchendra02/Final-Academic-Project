{
 "cells": [
  {
   "cell_type": "code",
   "execution_count": 1,
   "metadata": {},
   "outputs": [],
   "source": [
    "# Import library needed\n",
    "import pandas as pd\n",
    "import numpy as np\n",
    "import seaborn as sns\n",
    "import matplotlib.pyplot as plt\n",
    "\n",
    "from sklearn.feature_extraction.text import TfidfVectorizer\n",
    "from sklearn.naive_bayes import MultinomialNB\n",
    "from sklearn.model_selection import train_test_split\n",
    "from sklearn.metrics import accuracy_score, precision_score, recall_score, f1_score, confusion_matrix, ConfusionMatrixDisplay\n"
   ]
  },
  {
   "cell_type": "code",
   "execution_count": 2,
   "metadata": {},
   "outputs": [],
   "source": [
    "# Read dataset\n",
    "data = pd.read_csv('imo.csv')\n"
   ]
  },
  {
   "cell_type": "code",
   "execution_count": 3,
   "metadata": {},
   "outputs": [
    {
     "data": {
      "text/html": [
       "<div>\n",
       "<style scoped>\n",
       "    .dataframe tbody tr th:only-of-type {\n",
       "        vertical-align: middle;\n",
       "    }\n",
       "\n",
       "    .dataframe tbody tr th {\n",
       "        vertical-align: top;\n",
       "    }\n",
       "\n",
       "    .dataframe thead th {\n",
       "        text-align: right;\n",
       "    }\n",
       "</style>\n",
       "<table border=\"1\" class=\"dataframe\">\n",
       "  <thead>\n",
       "    <tr style=\"text-align: right;\">\n",
       "      <th></th>\n",
       "      <th>id_key</th>\n",
       "      <th>no</th>\n",
       "      <th>contest_category</th>\n",
       "      <th>contest_name</th>\n",
       "      <th>year</th>\n",
       "      <th>link</th>\n",
       "      <th>pdf</th>\n",
       "      <th>post_rendered</th>\n",
       "      <th>post_canonical</th>\n",
       "      <th>label</th>\n",
       "    </tr>\n",
       "  </thead>\n",
       "  <tbody>\n",
       "    <tr>\n",
       "      <th>2809</th>\n",
       "      <td>10515</td>\n",
       "      <td>P4</td>\n",
       "      <td>International Contest</td>\n",
       "      <td>tournament_of_towns</td>\n",
       "      <td>20202021_tournament_of_towns</td>\n",
       "      <td>https://artofproblemsolving.com/community/c329...</td>\n",
       "      <td>https://artofproblemsolving.com/downloads/prin...</td>\n",
       "      <td>The &lt;img src=\"//latex.artofproblemsolving.com/...</td>\n",
       "      <td>The $X{}$ pentomino consists of five $1\\times1...</td>\n",
       "      <td>Combinatorics</td>\n",
       "    </tr>\n",
       "    <tr>\n",
       "      <th>2141</th>\n",
       "      <td>7385</td>\n",
       "      <td>C1</td>\n",
       "      <td>International Contest</td>\n",
       "      <td>jbmo_shortlists</td>\n",
       "      <td>2018_jbmo_shortlist</td>\n",
       "      <td>https://artofproblemsolving.com/community/c903...</td>\n",
       "      <td>https://artofproblemsolving.com/downloads/prin...</td>\n",
       "      <td>A set &lt;img src=\"//latex.artofproblemsolving.co...</td>\n",
       "      <td>A set $S$ is called neighbouring  if it has th...</td>\n",
       "      <td>Combinatorics</td>\n",
       "    </tr>\n",
       "    <tr>\n",
       "      <th>1613</th>\n",
       "      <td>4404</td>\n",
       "      <td>C5</td>\n",
       "      <td>International Contest</td>\n",
       "      <td>balkan_mo_shortlist</td>\n",
       "      <td>2010_balkan_mo_shortlist</td>\n",
       "      <td>https://artofproblemsolving.com/community/c111...</td>\n",
       "      <td>https://artofproblemsolving.com/downloads/prin...</td>\n",
       "      <td>A train consist of &lt;img src=\"//latex.artofprob...</td>\n",
       "      <td>A train consist of $2010$ wagons containing go...</td>\n",
       "      <td>Combinatorics</td>\n",
       "    </tr>\n",
       "    <tr>\n",
       "      <th>1193</th>\n",
       "      <td>2874</td>\n",
       "      <td>12</td>\n",
       "      <td>International Contest</td>\n",
       "      <td>imo_longlists</td>\n",
       "      <td>1980_imo_longlists</td>\n",
       "      <td>https://artofproblemsolving.com/community/c401...</td>\n",
       "      <td>https://artofproblemsolving.com/downloads/prin...</td>\n",
       "      <td>Find all pairs of solutions &lt;span style=\"white...</td>\n",
       "      <td>Find all pairs of solutions $(x,y)$:  \\[ x^3 +...</td>\n",
       "      <td>Number Theory</td>\n",
       "    </tr>\n",
       "  </tbody>\n",
       "</table>\n",
       "</div>"
      ],
      "text/plain": [
       "      id_key  no       contest_category         contest_name  \\\n",
       "2809   10515  P4  International Contest  tournament_of_towns   \n",
       "2141    7385  C1  International Contest      jbmo_shortlists   \n",
       "1613    4404  C5  International Contest  balkan_mo_shortlist   \n",
       "1193    2874  12  International Contest        imo_longlists   \n",
       "\n",
       "                              year  \\\n",
       "2809  20202021_tournament_of_towns   \n",
       "2141           2018_jbmo_shortlist   \n",
       "1613      2010_balkan_mo_shortlist   \n",
       "1193            1980_imo_longlists   \n",
       "\n",
       "                                                   link  \\\n",
       "2809  https://artofproblemsolving.com/community/c329...   \n",
       "2141  https://artofproblemsolving.com/community/c903...   \n",
       "1613  https://artofproblemsolving.com/community/c111...   \n",
       "1193  https://artofproblemsolving.com/community/c401...   \n",
       "\n",
       "                                                    pdf  \\\n",
       "2809  https://artofproblemsolving.com/downloads/prin...   \n",
       "2141  https://artofproblemsolving.com/downloads/prin...   \n",
       "1613  https://artofproblemsolving.com/downloads/prin...   \n",
       "1193  https://artofproblemsolving.com/downloads/prin...   \n",
       "\n",
       "                                          post_rendered  \\\n",
       "2809  The <img src=\"//latex.artofproblemsolving.com/...   \n",
       "2141  A set <img src=\"//latex.artofproblemsolving.co...   \n",
       "1613  A train consist of <img src=\"//latex.artofprob...   \n",
       "1193  Find all pairs of solutions <span style=\"white...   \n",
       "\n",
       "                                         post_canonical          label  \n",
       "2809  The $X{}$ pentomino consists of five $1\\times1...  Combinatorics  \n",
       "2141  A set $S$ is called neighbouring  if it has th...  Combinatorics  \n",
       "1613  A train consist of $2010$ wagons containing go...  Combinatorics  \n",
       "1193  Find all pairs of solutions $(x,y)$:  \\[ x^3 +...  Number Theory  "
      ]
     },
     "metadata": {},
     "output_type": "display_data"
    },
    {
     "name": "stdout",
     "output_type": "stream",
     "text": [
      "(2871, 10)\n",
      "\n",
      "Algebra       = 683\n",
      "Combinatorics = 565\n",
      "Geometry      = 962\n",
      "Number Theory = 661\n"
     ]
    }
   ],
   "source": [
    "# Display data\n",
    "data_notna = data[data[\"label\"].notna()]\n",
    "\n",
    "# Reset index\n",
    "data_notna.reset_index(drop=True, inplace=True)\n",
    "\n",
    "X, y = data_notna[\"post_canonical\"], data_notna[\"label\"]\n",
    "\n",
    "display(data_notna.sample(4))\n",
    "print(f\"{data_notna.shape}\\n\")\n",
    "\n",
    "number_of_occurrences = [\n",
    "    data_notna[data_notna['label'] == 'Algebra'].shape[0],\n",
    "    data_notna[data_notna['label'] == 'Combinatorics'].shape[0],\n",
    "    data_notna[data_notna['label'] == 'Geometry'].shape[0],\n",
    "    data_notna[data_notna['label'] == 'Number Theory'].shape[0]\n",
    "]\n",
    "print(f\"Algebra       = {number_of_occurrences[0]}\")\n",
    "print(f\"Combinatorics = {number_of_occurrences[1]}\")\n",
    "print(f\"Geometry      = {number_of_occurrences[2]}\")\n",
    "print(f\"Number Theory = {number_of_occurrences[3]}\")\n"
   ]
  },
  {
   "cell_type": "code",
   "execution_count": 4,
   "metadata": {},
   "outputs": [
    {
     "name": "stdout",
     "output_type": "stream",
     "text": [
      "Overall accuracy model:\n",
      "Accuracy  = 89.565%\n",
      "Precision = 89.535%\n",
      "Recall    = 89.565%\n",
      "F1-score  = 89.492%\n",
      "\n",
      "Accuracy model for each label:\n",
      "Algebra       = 87.857%\n",
      "Combinatorics = 86.408%\n",
      "Geometry      = 97.980%\n",
      "Number Theory = 81.343%\n",
      "\n"
     ]
    },
    {
     "data": {
      "image/png": "[encoded data removed]",
      "text/plain": [
       "<Figure size 640x480 with 2 Axes>"
      ]
     },
     "metadata": {},
     "output_type": "display_data"
    }
   ],
   "source": [
    "# Preprocess text data (Representation text to numeric)\n",
    "vectorizer = TfidfVectorizer()\n",
    "text_features = vectorizer.fit_transform(X)\n",
    "\n",
    "# Split training and test \n",
    "X_train, X_test, y_train, y_test = train_test_split(text_features, y, test_size=0.2, random_state=2)\n",
    "\n",
    "# Train the Naive Bayes model with train dataset\n",
    "model = MultinomialNB()\n",
    "model.fit(X_train, y_train)\n",
    "\n",
    "# Make predictions\n",
    "y_pred = model.predict(X_test)\n",
    "\n",
    "# Evaluate model performance\n",
    "accuracy = accuracy_score(y_test, y_pred)\n",
    "precision = precision_score(y_test, y_pred, average='weighted')\n",
    "recall = recall_score(y_test, y_pred, average='weighted')\n",
    "f1 = f1_score(y_test, y_pred, average='weighted')\n",
    "\n",
    "# Print the results\n",
    "print(\"Overall accuracy model:\")\n",
    "print(f\"Accuracy  = {accuracy*100:<.3f}%\")\n",
    "print(f\"Precision = {precision*100:<.3f}%\")\n",
    "print(f\"Recall    = {recall*100:<.3f}%\")\n",
    "print(f\"F1-score  = {f1*100:<.3f}%\\n\")\n",
    "\n",
    "# Get confusion matrix\n",
    "cm = confusion_matrix(y_test, y_pred, labels=model.classes_)\n",
    "\n",
    "# Create heatmap for cm\n",
    "heatmap = ConfusionMatrixDisplay(\n",
    "    confusion_matrix=cm,\n",
    "    display_labels=model.classes_\n",
    ")\n",
    "\n",
    "labels = np.unique(y_test)  # [\"Algebra\", \"Combinatorics\", \"Geometry\", \"Number Theory\"]\n",
    "\n",
    "# Accuracy model for each label\n",
    "print(\"Accuracy model for each label:\")\n",
    "for label in labels:\n",
    "    idx = np.where(model.classes_ == label)[0][0]\n",
    "    label_accuracy = cm[idx, idx] / np.sum(cm[idx, :])\n",
    "    print(f\"{label:<14s}= {label_accuracy*100:.3f}%\")\n",
    "print()\n",
    "\n",
    "# Plot the cm to heatmap\n",
    "heatmap.plot()\n",
    "plt.show()\n"
   ]
  },
  {
   "cell_type": "markdown",
   "metadata": {},
   "source": [
    "Model berhasil dibuat\n",
    "\n",
    "Markicob sampel pada data yang belum terlabel"
   ]
  },
  {
   "cell_type": "code",
   "execution_count": 5,
   "metadata": {},
   "outputs": [],
   "source": [
    "data_isnull = data[data['label'].isnull()]\n",
    "data_isnull.reset_index(drop=True, inplace=True)\n",
    "\n",
    "temp = data_isnull.sample(5)\n",
    "\n"
   ]
  },
  {
   "cell_type": "code",
   "execution_count": 5,
   "metadata": {},
   "outputs": [
    {
     "name": "stdout",
     "output_type": "stream",
     "text": [
      "{'Algebra': 11.32051109169855, 'Combinatorics': 63.250297702448954, 'Geometry': 7.263803834766382, 'Number Theory': 18.165387371086315}\n",
      "{'Algebra': 11.32051109169855, 'Combinatorics': 63.250297702448954, 'Geometry': 7.263803834766382, 'Number Theory': 18.165387371086315}\n",
      "\n",
      "Algebra       = 11.32%\n",
      "Combinatorics = 63.25%\n",
      "Geometry      = 7.26%\n",
      "Number Theory = 18.17%\n"
     ]
    }
   ],
   "source": [
    "# For new predict\n",
    "sample = ['In a country every 2 cities are connected either by a direct bus route or a direct plane flight. A $clique$ is a set of cities such that every 2 cities in the set are connected by a direct flight. A $cluque$ is a set of cities such that every 2 cities in the set are connected by a direct flight, and every 2 cities in the set are connected to the same number of cities by a bus route. A $claque$ is a set of cities such that every 2 cities in the set are connected by a direct flight, and every 2 numbers of bus routes from a city in the set are different. Prove that the number of cities of any clique is at most the product of the biggest possible number of cities in a cluque and the the biggest possible number of cities in a claque.  Tuymaada 2017 Q3 Juniors']\n",
    "processed = vectorizer.transform(sample)\n",
    "pred = model.predict_proba(processed)\n",
    "\n",
    "class_labels = model.classes_\n",
    "class_probabilities = {class_labels[i]: pred[0][i] * 100 for i in range(len(class_labels))}\n",
    "print(class_probabilities)\n",
    "\n",
    "sorted_class_probabilities = {label: class_probabilities[label] for label in ['Algebra', 'Combinatorics', 'Geometry', 'Number Theory']}\n",
    "print(sorted_class_probabilities)\n",
    "\n",
    "print()\n",
    "for label, prob in zip(class_labels, pred[0]):\n",
    "    print(f\"{label:<14s}= {prob*100:.2f}%\")\n",
    "    "
   ]
  },
  {
   "cell_type": "code",
   "execution_count": 28,
   "metadata": {},
   "outputs": [
    {
     "data": {
      "text/plain": [
       "'In a country every 2 cities are connected either by a direct bus route or a direct plane flight. A $clique$ is a set of cities such that every 2 cities in the set are connected by a direct flight. A $cluque$ is a set of cities such that every 2 cities in the set are connected by a direct flight, and every 2 cities in the set are connected to the same number of cities by a bus route. A $claque$ is a set of cities such that every 2 cities in the set are connected by a direct flight, and every 2 numbers of bus routes from a city in the set are different. Prove that the number of cities of any clique is at most the product of the biggest possible number of cities in a cluque and the the biggest possible number of cities in a claque.  Tuymaada 2017 Q3 Juniors'"
      ]
     },
     "execution_count": 28,
     "metadata": {},
     "output_type": "execute_result"
    }
   ],
   "source": [
    "temp.iloc[1, :].post_canonical"
   ]
  },
  {
   "cell_type": "code",
   "execution_count": null,
   "metadata": {},
   "outputs": [],
   "source": []
  }
 ],
 "metadata": {
  "kernelspec": {
   "display_name": "artofproblemsolving",
   "language": "python",
   "name": "python3"
  },
  "language_info": {
   "codemirror_mode": {
    "name": "ipython",
    "version": 3
   },
   "file_extension": ".py",
   "mimetype": "text/x-python",
   "name": "python",
   "nbconvert_exporter": "python",
   "pygments_lexer": "ipython3",
   "version": "3.9.12"
  }
 },
 "nbformat": 4,
 "nbformat_minor": 2
}
