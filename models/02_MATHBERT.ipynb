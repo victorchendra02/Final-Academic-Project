{
 "cells": [
  {
   "cell_type": "markdown",
   "metadata": {},
   "source": [
    "Conda env: `aops_mathbert`"
   ]
  },
  {
   "cell_type": "code",
   "execution_count": 1,
   "metadata": {},
   "outputs": [
    {
     "name": "stderr",
     "output_type": "stream",
     "text": [
      "c:\\Users\\IBDA\\.conda\\envs\\victor_aops_mathbert\\lib\\site-packages\\tensorflow_addons\\utils\\tfa_eol_msg.py:23: UserWarning: \n",
      "\n",
      "TensorFlow Addons (TFA) has ended development and introduction of new features.\n",
      "TFA has entered a minimal maintenance and release mode until a planned end of life in May 2024.\n",
      "Please modify downstream libraries to take dependencies from other repositories in our TensorFlow community (e.g. Keras, Keras-CV, and Keras-NLP). \n",
      "\n",
      "For more information see: https://github.com/tensorflow/addons/issues/2807 \n",
      "\n",
      "  warnings.warn(\n",
      "c:\\Users\\IBDA\\.conda\\envs\\victor_aops_mathbert\\lib\\site-packages\\tensorflow_addons\\utils\\ensure_tf_install.py:53: UserWarning: Tensorflow Addons supports using Python ops for all Tensorflow versions above or equal to 2.12.0 and strictly below 2.15.0 (nightly versions are not supported). \n",
      " The versions of TensorFlow you are currently using is 2.10.1 and is not supported. \n",
      "Some things might work, some things might not.\n",
      "If you were to encounter a bug, do not file an issue.\n",
      "If you want to make sure you're using a tested and supported configuration, either change the TensorFlow version or the TensorFlow Addons's version. \n",
      "You can find the compatibility matrix in TensorFlow Addon's readme:\n",
      "https://github.com/tensorflow/addons\n",
      "  warnings.warn(\n"
     ]
    }
   ],
   "source": [
    "import numpy as np\n",
    "import pandas as pd\n",
    "from time import perf_counter\n",
    "\n",
    "import tensorflow as tf\n",
    "import tensorflow_hub as hub\n",
    "import tensorflow_text as text\n",
    "import matplotlib.pyplot as plt\n",
    "from official.nlp import optimization  # to create AdamW optimizer\n",
    "\n",
    "from transformers import BertTokenizer, TFBertModel\n",
    "\n",
    "def compare_actual_and_predict_values(model, list_of_texts, list_of_actual):\n",
    "    from sklearn.metrics import mean_squared_error, mean_absolute_error, r2_score\n",
    "    import matplotlib.pyplot as plt\n",
    "    import seaborn as sns\n",
    "    import numpy as np\n",
    "\n",
    "    predicted = model(tf.constant(list_of_texts))\n",
    "    predicted = predicted.numpy().flatten()\n",
    "    list_of_actual = np.array(list_of_actual)\n",
    "    \n",
    "    for i in range(len(list_of_texts)):\n",
    "        print(f\"{str(i+1):>2s}. {list_of_texts[i]}\")\n",
    "        print(f\"    Actual   Predicted\")\n",
    "        print(f\"    {list_of_actual[i]:.3f}    {predicted[i]:.3f}\")\n",
    "        print()\n",
    "\n",
    "    df_ = pd.DataFrame({\n",
    "        'actual': list_of_actual,\n",
    "        'predicted': predicted\n",
    "    })\n",
    "    pd.set_option('display.max_rows', 500)\n",
    "    display(df_)\n",
    "    print(f\"           actual              predict\")\n",
    "    print(f\"Average    {np.average(list_of_actual)}    {np.average(predicted)}\")\n",
    "    print(f\"Variance   {np.var(list_of_actual)}    {np.var(predicted)}\")\n",
    "    print(f\"STD        {np.std(list_of_actual)}    {np.std(predicted)}\")\n",
    "    print()\n",
    "\n",
    "    loss_sk = mean_squared_error(y_true=list_of_actual, y_pred=predicted)\n",
    "    mae_sk = mean_absolute_error(y_true=list_of_actual, y_pred=predicted)\n",
    "    r2_sk = r2_score(y_true=list_of_actual, y_pred=predicted)\n",
    "    print(f\"loss(mse)            mae                   r2\")\n",
    "    print(f\"{loss_sk}    {mae_sk}    {r2_sk}\")\n",
    "\n",
    "    fig, ax = plt.subplots(1, 1, figsize=(16, 6), constrained_layout=True)\n",
    "    sns.kdeplot(list_of_actual, label='Actual', shade=True, color='blue', linewidth=2)\n",
    "    sns.kdeplot(predicted, label='Predicted', shade=True, color='red', linewidth=2)\n",
    "\n",
    "    plt.xlim((-1, 11))\n",
    "    plt.title('Density Plot of Actual & Predicted Values')\n",
    "    plt.xlabel('Values')\n",
    "    plt.ylabel('Density')\n",
    "    plt.legend()\n",
    "\n",
    "    fig, ax = plt.subplots(1, 2, figsize=(16, 6), constrained_layout=True)\n",
    "    plt.subplot(1, 2, 1)\n",
    "    plt.xlim((-1, 11))\n",
    "    sns.kdeplot(list_of_actual, label='Actual', shade=True, color='blue', linewidth=2)\n",
    "    plt.legend()\n",
    "\n",
    "    plt.subplot(1, 2, 2)\n",
    "    sns.kdeplot(predicted, label='Predicted', shade=True, color='red', linewidth=2)\n",
    "    plt.legend()\n",
    "\n",
    "    # Scatter plot\n",
    "    fig, ax = plt.subplots(1, 1, figsize=(16, 6), constrained_layout=True)\n",
    "    plt.subplot(1, 1, 1)\n",
    "    plt.scatter(list_of_actual, predicted, color='blue', marker='o', label='Data Points')\n",
    "    fx_x = np.linspace(0, 10, 100)  # Generate x values for the line\n",
    "    plt.plot(fx_x, fx_x, color='red', linestyle='--', label='f(x) = x')\n",
    "    plt.xlabel('Actual')\n",
    "    plt.ylabel('Predicted')\n",
    "    plt.title('Scatter Plot of Predict & Actual')\n",
    "    plt.grid(True)\n",
    "    plt.legend()\n",
    "\n",
    "    # Set x and y axis limits to range from 0 to 10\n",
    "    plt.xlim(0, 10)\n",
    "    plt.ylim(0, 10)\n",
    "\n",
    "    plt.show()\n"
   ]
  },
  {
   "cell_type": "markdown",
   "metadata": {},
   "source": [
    "## Example"
   ]
  },
  {
   "cell_type": "code",
   "execution_count": null,
   "metadata": {},
   "outputs": [],
   "source": [
    "tokenizer = BertTokenizer.from_pretrained('tbs17/MathBERT', output_hidden_states=True)\n",
    "encoder = TFBertModel.from_pretrained(\"tbs17/MathBERT\", from_pt=True)"
   ]
  },
  {
   "cell_type": "code",
   "execution_count": null,
   "metadata": {},
   "outputs": [],
   "source": [
    "example_text = \"Determine all functions f : mathbb R to mathbb R satisfying the following two conditions: (a) f(x + y) + f(x - y) = 2f(x)f(y) for all x, y in mathbb R, and (b) lim_{x to infty} f(x) = 0.\"\n",
    "encoded_inputs = tokenizer(example_text, return_tensors=\"tf\", padding=\"max_length\", max_length=512, truncation=True)\n",
    "\n",
    "print(f\"output keys                     -> {list(encoded_inputs.keys())}\")\n",
    "print(f\"input_word_ids _ input_ids      -> {encoded_inputs['input_ids'][0, :12]}\")\n",
    "print(f\"input_mask _ attention_mask     -> {encoded_inputs['attention_mask'][0, :12]}\")\n",
    "print(f\"input_type_ids _ token_type_ids -> {encoded_inputs['token_type_ids'][0, :12]}\")\n",
    "print(f\"shape: {encoded_inputs['attention_mask'].shape}\\n\")\n",
    "\n",
    "# output = model(encoded_inputs)\n",
    "# output"
   ]
  },
  {
   "cell_type": "code",
   "execution_count": null,
   "metadata": {},
   "outputs": [],
   "source": [
    "example_text = 'hElLO an bisa the aku'\n",
    "encoded_inputs = tokenizer(example_text, return_tensors=\"tf\", padding=\"max_length\", max_length=12, truncation=True)\n",
    "\n",
    "print(f\"INPUT TEXT               --> '{example_text}'\")\n",
    "print(f\"tokenize                 --> {tokenizer.tokenize(example_text)}\")\n",
    "print(f\"decode                   --> {tokenizer.decode(encoded_inputs['input_ids'][0])}\")\n",
    "print(f\"encode                   --> {tokenizer.encode(example_text)}\")\n",
    "print(f\"convert_ids_to_tokens    --> {tokenizer.convert_ids_to_tokens([101, 7592, 2019, 20377, 2050, 1996, 17712, 2226, 102])}\")\n",
    "print(f\"convert_tokens_to_ids    --> {tokenizer.convert_tokens_to_ids(['[CLS]', 'hello', 'an', 'bis', '##a', 'the', 'ak', '##u', '[SEP]'])}\")\n",
    "print(f\"convert_tokens_to_string --> {tokenizer.convert_tokens_to_string(['hello', 'an', 'bis', '##a', 'the', 'ak', '##u'])}\")\n",
    "\n",
    "print()\n",
    "print(f\"cls_token : {tokenizer.cls_token}  - cls_token_id: {tokenizer.cls_token_id}\")\n",
    "print(f\"mask_token: {tokenizer.mask_token} - mask_token_id: {tokenizer.mask_token_id}\")\n",
    "print(f\"pad_token : {tokenizer.pad_token}  - pad_token_id: {tokenizer.pad_token_id} - pad_token_type_id: {tokenizer.pad_token_type_id}\")\n",
    "print(f\"unk_token : {tokenizer.unk_token}  - unk_token_id: {tokenizer.unk_token_id}\")\n",
    "print(f\"sep_token : {tokenizer.sep_token}  - sep_token_id: {tokenizer.sep_token_id}\")\n",
    "print()\n",
    "print(f\"all_special_ids             --> {tokenizer.all_special_ids}\")\n",
    "print(f\"all_special_tokens          --> {tokenizer.all_special_tokens}\")\n",
    "print(f\"all_special_tokens_extended --> {tokenizer.all_special_tokens_extended}\")\n",
    "print()\n",
    "print(f\"name_or_path              --> {tokenizer.name_or_path}\")\n",
    "print(f\"vocab_size                --> {tokenizer.vocab_size}\")\n",
    "print(f\"model_max_length          --> {tokenizer.model_max_length}\")\n",
    "print(f\"model_input_names         --> {tokenizer.model_input_names}\")\n",
    "print(f\"prepare_for_model         --> {tokenizer.prepare_for_model([101, 7592, 2019, 20377])}\")\n",
    "\n",
    "print(f\"SPECIAL_TOKENS_ATTRIBUTES --> {tokenizer.SPECIAL_TOKENS_ATTRIBUTES}\")\n"
   ]
  },
  {
   "cell_type": "markdown",
   "metadata": {},
   "source": [
    "## Prepare & Load Dataset"
   ]
  },
  {
   "cell_type": "code",
   "execution_count": 2,
   "metadata": {},
   "outputs": [],
   "source": [
    "class DataMaster:\n",
    "    def __init__(self, path: str=None, max_length=512):\n",
    "        self.path = path\n",
    "        self.tokenizer = BertTokenizer.from_pretrained('tbs17/MathBERT', output_hidden_states=True)\n",
    "        self.max_length = max_length\n",
    "        \n",
    "    def tokenize_text(self, kalimat: str):\n",
    "        return self.tokenizer(kalimat, padding='max_length', max_length=self.max_length, truncation=True, return_tensors='tf')\n",
    "\n",
    "    def load_tokenized_train_val_test_ds(self, batch_size, seed, AUTOTUNE=tf.data.AUTOTUNE):\n",
    "        df_train = pd.read_csv(f\"{self.path}train.csv\")\n",
    "        df_test = pd.read_csv(f\"{self.path}test.csv\")\n",
    "        df_val = pd.read_csv(f\"{self.path}val.csv\")\n",
    "\n",
    "        train_post_canonical = list(df_train['post_canonical'].values)\n",
    "        train_score = df_train['score'].values\n",
    "\n",
    "        test_post_canonical = list(df_test['post_canonical'].values)\n",
    "        test_score = df_test['score'].values\n",
    "\n",
    "        val_post_canonical = list(df_val['post_canonical'].values)\n",
    "        val_score = df_val['score'].values\n",
    "\n",
    "        temp_train = self.tokenize_text(train_post_canonical)\n",
    "        temp_val = self.tokenize_text(val_post_canonical)\n",
    "        temp_test = self.tokenize_text(test_post_canonical)\n",
    "        \n",
    "        train_ds = tf.data.Dataset.from_tensor_slices((\n",
    "            (temp_train['input_ids'], temp_train['attention_mask'], temp_train['token_type_ids']), \n",
    "            train_score))\n",
    "        val_ds = tf.data.Dataset.from_tensor_slices((\n",
    "            (temp_val['input_ids'], temp_val['attention_mask'], temp_val['token_type_ids']), \n",
    "            val_score))\n",
    "        test_ds = tf.data.Dataset.from_tensor_slices((\n",
    "            (temp_test['input_ids'], temp_test['attention_mask'], temp_test['token_type_ids']), \n",
    "            test_score))\n",
    "        \n",
    "        train_ds = train_ds.shuffle(buffer_size=len(df_train), seed=seed).batch(batch_size).prefetch(buffer_size=AUTOTUNE)\n",
    "        val_ds = val_ds.batch(batch_size).prefetch(buffer_size=AUTOTUNE)\n",
    "        test_ds = test_ds.batch(batch_size).prefetch(buffer_size=AUTOTUNE)\n",
    "        \n",
    "        return train_ds, val_ds, test_ds\n",
    "\n",
    "AUTOTUNE = tf.data.AUTOTUNE\n",
    "batch_size = 16\n",
    "seed = 42\n"
   ]
  },
  {
   "cell_type": "markdown",
   "metadata": {},
   "source": [
    "## Modeling"
   ]
  },
  {
   "cell_type": "code",
   "execution_count": 3,
   "metadata": {},
   "outputs": [],
   "source": [
    "class MathBertRegressorModel:\n",
    "    def __init__(self, max_length=512) -> None:\n",
    "        self.max_length = max_length\n",
    "        self.encoder = TFBertModel.from_pretrained(\"tbs17/MathBERT\", from_pt=True)\n",
    "        \n",
    "        self.model = self.build_model()\n",
    "        \n",
    "        self.train_ds = None\n",
    "        self.validation_data = None\n",
    "        self.epochs = None\n",
    "        \n",
    "        self.history = None\n",
    "\n",
    "    def build_model(self):\n",
    "        input_ids_layer = tf.keras.Input(shape=(self.max_length,), dtype=tf.int32, name='input_ids_layer')\n",
    "        attention_mask_layer = tf.keras.Input(shape=(self.max_length,), dtype=tf.int32, name='attention_mask_layer')\n",
    "        token_type_ids_layer = tf.keras.Input(shape=(self.max_length,), dtype=tf.int32, name='token_type_ids_layer')\n",
    "        inputs = [input_ids_layer, attention_mask_layer, token_type_ids_layer]\n",
    "        \n",
    "        self.encoder.trainable = False\n",
    "        encoded_text = self.encoder(\n",
    "            input_ids=input_ids_layer, \n",
    "            attention_mask=attention_mask_layer,\n",
    "            token_type_ids=token_type_ids_layer)\n",
    "        last_hidden_state = encoded_text['last_hidden_state'][:, 0, :]  # Output -> dict.keys(['last_hidden_state', 'pooler_output'])\n",
    "        \n",
    "        net = tf.keras.layers.Dropout(0.1)(last_hidden_state)\n",
    "        net = tf.keras.layers.Dense(512, activation='relu')(net)\n",
    "        net = tf.keras.layers.Dropout(0.1)(net)\n",
    "        net = tf.keras.layers.Dense(256, activation='relu')(net)\n",
    "        net = tf.keras.layers.Dropout(0.1)(net)\n",
    "        net = tf.keras.layers.Dense(128, activation='relu')(net)\n",
    "        net = tf.keras.layers.Dropout(0.1)(net)\n",
    "        net = tf.keras.layers.Dense(1, activation='linear')(net)\n",
    "    \n",
    "        return tf.keras.Model(inputs=inputs, outputs=net)\n",
    "    \n",
    "    def compile_model(self, train_ds, validation_data, epochs, learning_rate, optimizer_type='adamw', loss=tf.keras.losses.mean_squared_error, metrics=['mae']):\n",
    "        self.train_ds = train_ds\n",
    "        self.validation_data = validation_data\n",
    "        self.epochs = epochs\n",
    "        \n",
    "        steps_per_epoch = tf.data.experimental.cardinality(self.train_ds).numpy()\n",
    "        num_train_steps = steps_per_epoch * self.epochs\n",
    "        optimizer = optimization.create_optimizer(\n",
    "            init_lr=learning_rate,\n",
    "            num_train_steps=num_train_steps,\n",
    "            num_warmup_steps=int(0.1*num_train_steps),\n",
    "            optimizer_type=optimizer_type\n",
    "        )\n",
    "        self.model.compile(optimizer=optimizer, loss=loss, metrics=metrics)\n",
    "\n",
    "    def train(self):\n",
    "        print(\"Start training..\")\n",
    "        start = perf_counter()\n",
    "        history = self.model.fit(\n",
    "            self.train_ds, \n",
    "            validation_data=self.validation_data, \n",
    "            epochs=self.epochs\n",
    "        )\n",
    "        end = perf_counter()\n",
    "        print(f\"\\nTotal training time: {end-start:.2f}s\")\n",
    "\n",
    "        self.history = history.history\n",
    "        return history\n",
    "    \n",
    "    def evaluate_test(self, test_ds):\n",
    "        loss, mae = self.model.evaluate(test_ds)\n",
    "        return {'loss': loss, 'mae': mae}\n",
    "        \n",
    "    def plot_training_history_over_time(self, figsize=(14, 12)):\n",
    "        print(self.history.keys())\n",
    "        print(\"Training history over time\")\n",
    "        \n",
    "        mae = self.history['mae']\n",
    "        val_acc = self.history['val_mae']\n",
    "        loss = self.history['loss']\n",
    "        val_mae = self.history['val_mae']\n",
    "        epochs = range(1, len(mae) + 1)\n",
    "        \n",
    "        figure, ax = plt.subplots(2, 1, figsize=figsize, layout=\"constrained\")\n",
    "        # loss\n",
    "        plt.subplot(2, 1, 1)\n",
    "        plt.plot(epochs, loss, 'r', label='Training loss')\n",
    "        plt.plot(epochs, val_mae, 'b', label='Validation loss')\n",
    "        plt.title('Training and validation loss')\n",
    "        plt.xlabel('Epochs')\n",
    "        plt.ylabel('Loss')\n",
    "        plt.legend(loc='upper right')\n",
    "\n",
    "        # mae\n",
    "        plt.subplot(2, 1, 2)\n",
    "        plt.plot(epochs, mae, 'r', label='Training mae')\n",
    "        plt.plot(epochs, val_acc, 'b', label='Validation mae')\n",
    "        plt.title('Training and validation mae')\n",
    "        plt.xlabel('Epochs')\n",
    "        plt.ylabel('MAE')\n",
    "        plt.legend(loc='upper right')\n",
    "\n",
    "epochs = 64\n",
    "learning_rate = 1e-4\n",
    "optimizer_type = 'adamw'\n",
    "loss = tf.keras.losses.mean_squared_error\n",
    "metrics = ['mae']\n"
   ]
  },
  {
   "cell_type": "markdown",
   "metadata": {},
   "source": [
    "## `IMO`"
   ]
  },
  {
   "cell_type": "markdown",
   "metadata": {},
   "source": [
    "### 1. Compile"
   ]
  },
  {
   "cell_type": "code",
   "execution_count": 4,
   "metadata": {},
   "outputs": [],
   "source": [
    "datamaster = DataMaster(\"../data/regression/imo/\")\n",
    "train_ds, val_ds, test_ds = datamaster.load_tokenized_train_val_test_ds(batch_size=batch_size, seed=seed, AUTOTUNE=AUTOTUNE)\n"
   ]
  },
  {
   "cell_type": "code",
   "execution_count": 5,
   "metadata": {},
   "outputs": [
    {
     "name": "stderr",
     "output_type": "stream",
     "text": [
      "Some weights of the PyTorch model were not used when initializing the TF 2.0 model TFBertModel: ['cls.predictions.decoder.weight', 'cls.seq_relationship.weight', 'bert.embeddings.position_ids', 'cls.predictions.decoder.bias', 'cls.predictions.transform.dense.bias', 'cls.predictions.transform.LayerNorm.bias', 'cls.predictions.bias', 'cls.predictions.transform.dense.weight', 'cls.predictions.transform.LayerNorm.weight', 'cls.seq_relationship.bias']\n",
      "- This IS expected if you are initializing TFBertModel from a PyTorch model trained on another task or with another architecture (e.g. initializing a TFBertForSequenceClassification model from a BertForPreTraining model).\n",
      "- This IS NOT expected if you are initializing TFBertModel from a PyTorch model that you expect to be exactly identical (e.g. initializing a TFBertForSequenceClassification model from a BertForSequenceClassification model).\n",
      "All the weights of TFBertModel were initialized from the PyTorch model.\n",
      "If your task is similar to the task the model of the checkpoint was trained on, you can already use TFBertModel for predictions without further training.\n"
     ]
    }
   ],
   "source": [
    "mathbert_regressor_model = MathBertRegressorModel()\n",
    "mathbert_regressor_model.compile_model(\n",
    "    train_ds, \n",
    "    val_ds, \n",
    "    epochs=epochs, \n",
    "    learning_rate=learning_rate, \n",
    "    optimizer_type=optimizer_type, \n",
    "    loss=loss, \n",
    "    metrics=metrics\n",
    ")\n"
   ]
  },
  {
   "cell_type": "markdown",
   "metadata": {},
   "source": [
    "### 2. Training"
   ]
  },
  {
   "cell_type": "code",
   "execution_count": 6,
   "metadata": {},
   "outputs": [
    {
     "name": "stdout",
     "output_type": "stream",
     "text": [
      "Start training..\n",
      "Epoch 1/64\n",
      "18/18 [==============================] - 16s 322ms/step - loss: 27.2150 - mae: 4.6892 - val_loss: 19.9741 - val_mae: 4.0258\n",
      "Epoch 2/64\n",
      "18/18 [==============================] - 3s 166ms/step - loss: 20.6958 - mae: 3.9568 - val_loss: 10.8054 - val_mae: 2.7436\n",
      "Epoch 3/64\n",
      "18/18 [==============================] - 3s 169ms/step - loss: 10.4159 - mae: 2.6418 - val_loss: 4.5782 - val_mae: 1.8318\n",
      "Epoch 4/64\n",
      "18/18 [==============================] - 3s 167ms/step - loss: 6.1807 - mae: 2.0330 - val_loss: 5.2407 - val_mae: 1.8750\n",
      "Epoch 5/64\n",
      "18/18 [==============================] - 3s 168ms/step - loss: 5.5266 - mae: 1.9530 - val_loss: 3.9786 - val_mae: 1.7142\n",
      "Epoch 6/64\n",
      "18/18 [==============================] - 3s 170ms/step - loss: 5.3568 - mae: 1.9257 - val_loss: 4.2067 - val_mae: 1.7206\n",
      "Epoch 7/64\n",
      "18/18 [==============================] - 3s 166ms/step - loss: 5.4349 - mae: 1.8984 - val_loss: 4.0998 - val_mae: 1.7384\n",
      "Epoch 8/64\n",
      "18/18 [==============================] - 3s 168ms/step - loss: 4.9613 - mae: 1.8528 - val_loss: 3.9607 - val_mae: 1.7234\n",
      "Epoch 9/64\n",
      "18/18 [==============================] - 3s 170ms/step - loss: 4.9176 - mae: 1.8084 - val_loss: 3.8232 - val_mae: 1.7104\n",
      "Epoch 10/64\n",
      "18/18 [==============================] - 3s 168ms/step - loss: 4.6538 - mae: 1.7606 - val_loss: 3.7130 - val_mae: 1.6940\n",
      "Epoch 11/64\n",
      "18/18 [==============================] - 3s 168ms/step - loss: 4.3608 - mae: 1.7150 - val_loss: 3.6713 - val_mae: 1.6708\n",
      "Epoch 12/64\n",
      "18/18 [==============================] - 3s 170ms/step - loss: 4.7196 - mae: 1.7384 - val_loss: 3.7215 - val_mae: 1.6828\n",
      "Epoch 13/64\n",
      "18/18 [==============================] - 3s 168ms/step - loss: 4.3295 - mae: 1.6558 - val_loss: 3.5507 - val_mae: 1.6650\n",
      "Epoch 14/64\n",
      "18/18 [==============================] - 3s 168ms/step - loss: 4.2634 - mae: 1.6785 - val_loss: 3.5979 - val_mae: 1.6598\n",
      "Epoch 15/64\n",
      "18/18 [==============================] - 3s 170ms/step - loss: 4.2440 - mae: 1.6733 - val_loss: 3.6264 - val_mae: 1.6505\n",
      "Epoch 16/64\n",
      "18/18 [==============================] - 3s 166ms/step - loss: 3.9311 - mae: 1.6545 - val_loss: 3.5860 - val_mae: 1.6410\n",
      "Epoch 17/64\n",
      "18/18 [==============================] - 3s 169ms/step - loss: 3.9606 - mae: 1.6221 - val_loss: 3.5812 - val_mae: 1.6277\n",
      "Epoch 18/64\n",
      "18/18 [==============================] - 3s 167ms/step - loss: 3.8785 - mae: 1.6033 - val_loss: 3.3940 - val_mae: 1.5871\n",
      "Epoch 19/64\n",
      "18/18 [==============================] - 3s 171ms/step - loss: 3.5667 - mae: 1.5334 - val_loss: 3.4725 - val_mae: 1.5806\n",
      "Epoch 20/64\n",
      "18/18 [==============================] - 3s 166ms/step - loss: 3.5355 - mae: 1.4953 - val_loss: 3.4808 - val_mae: 1.5765\n",
      "Epoch 21/64\n",
      "18/18 [==============================] - 3s 167ms/step - loss: 3.2126 - mae: 1.4840 - val_loss: 3.5600 - val_mae: 1.5808\n",
      "Epoch 22/64\n",
      "18/18 [==============================] - 3s 169ms/step - loss: 3.5500 - mae: 1.5412 - val_loss: 3.5032 - val_mae: 1.5783\n",
      "Epoch 23/64\n",
      "18/18 [==============================] - 3s 167ms/step - loss: 3.2361 - mae: 1.4546 - val_loss: 3.4845 - val_mae: 1.5653\n",
      "Epoch 24/64\n",
      "18/18 [==============================] - 3s 168ms/step - loss: 3.6088 - mae: 1.4909 - val_loss: 3.5203 - val_mae: 1.5958\n",
      "Epoch 25/64\n",
      "18/18 [==============================] - 3s 169ms/step - loss: 3.1459 - mae: 1.4324 - val_loss: 3.6219 - val_mae: 1.6065\n",
      "Epoch 26/64\n",
      "18/18 [==============================] - 3s 167ms/step - loss: 2.6688 - mae: 1.3075 - val_loss: 3.9724 - val_mae: 1.6981\n",
      "Epoch 27/64\n",
      "18/18 [==============================] - 3s 169ms/step - loss: 3.3319 - mae: 1.4755 - val_loss: 3.5376 - val_mae: 1.6051\n",
      "Epoch 28/64\n",
      "18/18 [==============================] - 3s 165ms/step - loss: 3.2682 - mae: 1.4781 - val_loss: 3.5130 - val_mae: 1.6098\n",
      "Epoch 29/64\n",
      "18/18 [==============================] - 3s 165ms/step - loss: 3.1043 - mae: 1.3748 - val_loss: 3.5069 - val_mae: 1.5821\n",
      "Epoch 30/64\n",
      "18/18 [==============================] - 3s 167ms/step - loss: 3.4044 - mae: 1.5054 - val_loss: 3.5273 - val_mae: 1.5897\n",
      "Epoch 31/64\n",
      "18/18 [==============================] - 3s 165ms/step - loss: 2.5983 - mae: 1.3210 - val_loss: 3.6467 - val_mae: 1.5958\n",
      "Epoch 32/64\n",
      "18/18 [==============================] - 3s 164ms/step - loss: 2.7021 - mae: 1.3267 - val_loss: 3.6946 - val_mae: 1.6305\n",
      "Epoch 33/64\n",
      "18/18 [==============================] - 3s 167ms/step - loss: 3.1487 - mae: 1.4144 - val_loss: 3.8133 - val_mae: 1.6765\n",
      "Epoch 34/64\n",
      "18/18 [==============================] - 3s 165ms/step - loss: 2.5803 - mae: 1.2992 - val_loss: 3.8719 - val_mae: 1.6890\n",
      "Epoch 35/64\n",
      "18/18 [==============================] - 3s 166ms/step - loss: 3.3729 - mae: 1.4309 - val_loss: 3.8083 - val_mae: 1.6850\n",
      "Epoch 36/64\n",
      "18/18 [==============================] - 3s 167ms/step - loss: 2.7846 - mae: 1.3728 - val_loss: 3.8187 - val_mae: 1.6856\n",
      "Epoch 37/64\n",
      "18/18 [==============================] - 3s 166ms/step - loss: 2.8800 - mae: 1.3633 - val_loss: 3.8591 - val_mae: 1.6932\n",
      "Epoch 38/64\n",
      "18/18 [==============================] - 3s 167ms/step - loss: 2.6819 - mae: 1.3256 - val_loss: 3.8136 - val_mae: 1.6809\n",
      "Epoch 39/64\n",
      "18/18 [==============================] - 3s 166ms/step - loss: 2.9000 - mae: 1.3506 - val_loss: 3.8268 - val_mae: 1.6913\n",
      "Epoch 40/64\n",
      "18/18 [==============================] - 3s 165ms/step - loss: 2.6762 - mae: 1.3110 - val_loss: 3.7340 - val_mae: 1.6538\n",
      "Epoch 41/64\n",
      "18/18 [==============================] - 3s 168ms/step - loss: 2.9170 - mae: 1.3653 - val_loss: 3.8263 - val_mae: 1.6800\n",
      "Epoch 42/64\n",
      "18/18 [==============================] - 3s 165ms/step - loss: 2.6768 - mae: 1.3114 - val_loss: 3.8532 - val_mae: 1.6867\n",
      "Epoch 43/64\n",
      "18/18 [==============================] - 3s 164ms/step - loss: 2.5690 - mae: 1.2808 - val_loss: 3.7903 - val_mae: 1.6772\n",
      "Epoch 44/64\n",
      "18/18 [==============================] - 3s 172ms/step - loss: 2.6412 - mae: 1.3383 - val_loss: 3.8470 - val_mae: 1.6943\n",
      "Epoch 45/64\n",
      "18/18 [==============================] - 3s 169ms/step - loss: 2.7771 - mae: 1.3110 - val_loss: 3.7563 - val_mae: 1.6713\n",
      "Epoch 46/64\n",
      "18/18 [==============================] - 3s 168ms/step - loss: 2.9135 - mae: 1.3695 - val_loss: 3.8347 - val_mae: 1.6904\n",
      "Epoch 47/64\n",
      "18/18 [==============================] - 3s 167ms/step - loss: 2.6821 - mae: 1.3162 - val_loss: 3.7939 - val_mae: 1.6737\n",
      "Epoch 48/64\n",
      "18/18 [==============================] - 3s 167ms/step - loss: 2.6329 - mae: 1.2930 - val_loss: 3.8289 - val_mae: 1.6846\n",
      "Epoch 49/64\n",
      "18/18 [==============================] - 3s 169ms/step - loss: 2.7119 - mae: 1.3305 - val_loss: 3.8163 - val_mae: 1.6768\n",
      "Epoch 50/64\n",
      "18/18 [==============================] - 3s 167ms/step - loss: 2.8166 - mae: 1.3018 - val_loss: 3.9462 - val_mae: 1.7064\n",
      "Epoch 51/64\n",
      "18/18 [==============================] - 3s 167ms/step - loss: 2.4346 - mae: 1.2360 - val_loss: 3.9064 - val_mae: 1.7008\n",
      "Epoch 52/64\n",
      "18/18 [==============================] - 3s 169ms/step - loss: 2.2821 - mae: 1.2282 - val_loss: 3.9149 - val_mae: 1.6946\n",
      "Epoch 53/64\n",
      "18/18 [==============================] - 3s 167ms/step - loss: 2.5767 - mae: 1.2960 - val_loss: 3.8801 - val_mae: 1.6848\n",
      "Epoch 54/64\n",
      "18/18 [==============================] - 3s 169ms/step - loss: 2.3456 - mae: 1.2215 - val_loss: 3.8491 - val_mae: 1.6764\n",
      "Epoch 55/64\n",
      "18/18 [==============================] - 3s 167ms/step - loss: 2.3422 - mae: 1.2304 - val_loss: 3.8775 - val_mae: 1.6842\n",
      "Epoch 56/64\n",
      "18/18 [==============================] - 3s 167ms/step - loss: 2.4242 - mae: 1.2331 - val_loss: 3.9056 - val_mae: 1.6907\n",
      "Epoch 57/64\n",
      "18/18 [==============================] - 3s 170ms/step - loss: 2.3101 - mae: 1.2119 - val_loss: 3.8565 - val_mae: 1.6795\n",
      "Epoch 58/64\n",
      "18/18 [==============================] - 3s 168ms/step - loss: 2.3397 - mae: 1.2047 - val_loss: 3.8391 - val_mae: 1.6732\n",
      "Epoch 59/64\n",
      "18/18 [==============================] - 3s 168ms/step - loss: 2.2423 - mae: 1.1809 - val_loss: 3.8540 - val_mae: 1.6792\n",
      "Epoch 60/64\n",
      "18/18 [==============================] - 3s 171ms/step - loss: 2.5487 - mae: 1.2635 - val_loss: 3.8781 - val_mae: 1.6831\n",
      "Epoch 61/64\n",
      "18/18 [==============================] - 3s 167ms/step - loss: 2.5898 - mae: 1.2869 - val_loss: 3.8954 - val_mae: 1.6849\n",
      "Epoch 62/64\n",
      "18/18 [==============================] - 3s 170ms/step - loss: 2.3183 - mae: 1.2226 - val_loss: 3.8702 - val_mae: 1.6802\n",
      "Epoch 63/64\n",
      "18/18 [==============================] - 3s 168ms/step - loss: 2.8202 - mae: 1.3208 - val_loss: 3.8560 - val_mae: 1.6775\n",
      "Epoch 64/64\n",
      "18/18 [==============================] - 3s 168ms/step - loss: 2.7813 - mae: 1.2944 - val_loss: 3.8534 - val_mae: 1.6766\n",
      "\n",
      "Total training time: 205.77s\n"
     ]
    },
    {
     "data": {
      "text/plain": [
       "<keras.callbacks.History at 0x18c19193070>"
      ]
     },
     "execution_count": 6,
     "metadata": {},
     "output_type": "execute_result"
    }
   ],
   "source": [
    "mathbert_regressor_model.train()\n"
   ]
  },
  {
   "cell_type": "markdown",
   "metadata": {},
   "source": [
    "### 3. Evaluate test"
   ]
  },
  {
   "cell_type": "code",
   "execution_count": 11,
   "metadata": {},
   "outputs": [
    {
     "name": "stdout",
     "output_type": "stream",
     "text": [
      "5/5 [==============================] - 1s 120ms/step - loss: 6.9029 - mae: 2.1576\n",
      "\n",
      "Loss : 6.902899265289307\n",
      "MAE  : 2.157618761062622\n"
     ]
    }
   ],
   "source": [
    "result = mathbert_regressor_model.evaluate_test(test_ds)\n",
    "loss, mae = result['loss'], result['mae']\n",
    "print()\n",
    "print(f'Loss : {loss}')\n",
    "print(f'MAE  : {mae}')\n"
   ]
  },
  {
   "cell_type": "markdown",
   "metadata": {},
   "source": [
    "### 4. Plot epoch over time"
   ]
  },
  {
   "cell_type": "code",
   "execution_count": 12,
   "metadata": {},
   "outputs": [
    {
     "name": "stdout",
     "output_type": "stream",
     "text": [
      "dict_keys(['loss', 'mae', 'val_loss', 'val_mae'])\n",
      "Training history over time\n"
     ]
    },
    {
     "data": {
      "image/png": "[encoded data removed]",
      "text/plain": [
       "<Figure size 1008x864 with 2 Axes>"
      ]
     },
     "metadata": {
      "needs_background": "light"
     },
     "output_type": "display_data"
    }
   ],
   "source": [
    "mathbert_regressor_model.plot_training_history_over_time()\n"
   ]
  },
  {
   "cell_type": "markdown",
   "metadata": {},
   "source": [
    "### 5. Save model"
   ]
  },
  {
   "cell_type": "code",
   "execution_count": 13,
   "metadata": {},
   "outputs": [
    {
     "name": "stderr",
     "output_type": "stream",
     "text": [
      "WARNING:absl:Found untraced functions such as embeddings_layer_call_fn, embeddings_layer_call_and_return_conditional_losses, encoder_layer_call_fn, encoder_layer_call_and_return_conditional_losses, pooler_layer_call_fn while saving (showing 5 of 420). These functions will not be directly callable after loading.\n"
     ]
    },
    {
     "name": "stdout",
     "output_type": "stream",
     "text": [
      "INFO:tensorflow:Assets written to: saved_models/regression/IMO-MATHBERT\\assets\n"
     ]
    },
    {
     "name": "stderr",
     "output_type": "stream",
     "text": [
      "INFO:tensorflow:Assets written to: saved_models/regression/IMO-MATHBERT\\assets\n"
     ]
    }
   ],
   "source": [
    "temp_path = \"saved_models/regression/IMO-MATHBERT\"\n",
    "mathbert_regressor_model.model.save(temp_path)\n"
   ]
  },
  {
   "cell_type": "markdown",
   "metadata": {},
   "source": [
    "### Reload model (compare actual & predict)"
   ]
  },
  {
   "cell_type": "code",
   "execution_count": 14,
   "metadata": {},
   "outputs": [
    {
     "ename": "ValueError",
     "evalue": "Could not find matching concrete function to call loaded from the SavedModel. Got:\n  Positional arguments (3 total):\n    * <tf.Tensor 'inputs:0' shape=(77,) dtype=string>\n    * False\n    * None\n  Keyword arguments: {}\n\n Expected these arguments to match one of the following 4 option(s):\n\nOption 1:\n  Positional arguments (3 total):\n    * [TensorSpec(shape=(None, 512), dtype=tf.int32, name='input_ids_layer'),\n TensorSpec(shape=(None, 512), dtype=tf.int32, name='attention_mask_layer'),\n TensorSpec(shape=(None, 512), dtype=tf.int32, name='token_type_ids_layer')]\n    * False\n    * None\n  Keyword arguments: {}\n\nOption 2:\n  Positional arguments (3 total):\n    * [TensorSpec(shape=(None, 512), dtype=tf.int32, name='inputs/0'),\n TensorSpec(shape=(None, 512), dtype=tf.int32, name='inputs/1'),\n TensorSpec(shape=(None, 512), dtype=tf.int32, name='inputs/2')]\n    * False\n    * None\n  Keyword arguments: {}\n\nOption 3:\n  Positional arguments (3 total):\n    * [TensorSpec(shape=(None, 512), dtype=tf.int32, name='inputs/0'),\n TensorSpec(shape=(None, 512), dtype=tf.int32, name='inputs/1'),\n TensorSpec(shape=(None, 512), dtype=tf.int32, name='inputs/2')]\n    * True\n    * None\n  Keyword arguments: {}\n\nOption 4:\n  Positional arguments (3 total):\n    * [TensorSpec(shape=(None, 512), dtype=tf.int32, name='input_ids_layer'),\n TensorSpec(shape=(None, 512), dtype=tf.int32, name='attention_mask_layer'),\n TensorSpec(shape=(None, 512), dtype=tf.int32, name='token_type_ids_layer')]\n    * True\n    * None\n  Keyword arguments: {}",
     "output_type": "error",
     "traceback": [
      "\u001b[1;31m---------------------------------------------------------------------------\u001b[0m",
      "\u001b[1;31mValueError\u001b[0m                                Traceback (most recent call last)",
      "Input \u001b[1;32mIn [14]\u001b[0m, in \u001b[0;36m<cell line: 8>\u001b[1;34m()\u001b[0m\n\u001b[0;32m      5\u001b[0m examples_scores \u001b[38;5;241m=\u001b[39m df[\u001b[38;5;124m'\u001b[39m\u001b[38;5;124mscore\u001b[39m\u001b[38;5;124m'\u001b[39m]\u001b[38;5;241m.\u001b[39mvalues\n\u001b[0;32m      7\u001b[0m reloaded_model \u001b[38;5;241m=\u001b[39m tf\u001b[38;5;241m.\u001b[39msaved_model\u001b[38;5;241m.\u001b[39mload(\u001b[38;5;124m'\u001b[39m\u001b[38;5;124msaved_models/regression/IMO-MATHBERT\u001b[39m\u001b[38;5;124m'\u001b[39m)\n\u001b[1;32m----> 8\u001b[0m \u001b[43mcompare_actual_and_predict_values\u001b[49m\u001b[43m(\u001b[49m\u001b[43mreloaded_model\u001b[49m\u001b[43m,\u001b[49m\u001b[43m \u001b[49m\u001b[43mexamples_texts\u001b[49m\u001b[43m,\u001b[49m\u001b[43m \u001b[49m\u001b[43mexamples_scores\u001b[49m\u001b[43m)\u001b[49m\n",
      "Input \u001b[1;32mIn [1]\u001b[0m, in \u001b[0;36mcompare_actual_and_predict_values\u001b[1;34m(model, list_of_texts, list_of_actual)\u001b[0m\n\u001b[0;32m     16\u001b[0m \u001b[38;5;28;01mimport\u001b[39;00m \u001b[38;5;21;01mseaborn\u001b[39;00m \u001b[38;5;28;01mas\u001b[39;00m \u001b[38;5;21;01msns\u001b[39;00m\n\u001b[0;32m     17\u001b[0m \u001b[38;5;28;01mimport\u001b[39;00m \u001b[38;5;21;01mnumpy\u001b[39;00m \u001b[38;5;28;01mas\u001b[39;00m \u001b[38;5;21;01mnp\u001b[39;00m\n\u001b[1;32m---> 19\u001b[0m predicted \u001b[38;5;241m=\u001b[39m \u001b[43mmodel\u001b[49m\u001b[43m(\u001b[49m\u001b[43mtf\u001b[49m\u001b[38;5;241;43m.\u001b[39;49m\u001b[43mconstant\u001b[49m\u001b[43m(\u001b[49m\u001b[43mlist_of_texts\u001b[49m\u001b[43m)\u001b[49m\u001b[43m)\u001b[49m\n\u001b[0;32m     20\u001b[0m predicted \u001b[38;5;241m=\u001b[39m predicted\u001b[38;5;241m.\u001b[39mnumpy()\u001b[38;5;241m.\u001b[39mflatten()\n\u001b[0;32m     21\u001b[0m list_of_actual \u001b[38;5;241m=\u001b[39m np\u001b[38;5;241m.\u001b[39marray(list_of_actual)\n",
      "File \u001b[1;32mc:\\Users\\IBDA\\.conda\\envs\\victor_aops_mathbert\\lib\\site-packages\\tensorflow\\python\\saved_model\\load.py:704\u001b[0m, in \u001b[0;36m_call_attribute\u001b[1;34m(instance, *args, **kwargs)\u001b[0m\n\u001b[0;32m    703\u001b[0m \u001b[38;5;28;01mdef\u001b[39;00m \u001b[38;5;21m_call_attribute\u001b[39m(instance, \u001b[38;5;241m*\u001b[39margs, \u001b[38;5;241m*\u001b[39m\u001b[38;5;241m*\u001b[39mkwargs):\n\u001b[1;32m--> 704\u001b[0m   \u001b[38;5;28;01mreturn\u001b[39;00m instance\u001b[38;5;241m.\u001b[39m\u001b[38;5;21m__call__\u001b[39m(\u001b[38;5;241m*\u001b[39margs, \u001b[38;5;241m*\u001b[39m\u001b[38;5;241m*\u001b[39mkwargs)\n",
      "File \u001b[1;32mc:\\Users\\IBDA\\.conda\\envs\\victor_aops_mathbert\\lib\\site-packages\\tensorflow\\python\\util\\traceback_utils.py:153\u001b[0m, in \u001b[0;36mfilter_traceback.<locals>.error_handler\u001b[1;34m(*args, **kwargs)\u001b[0m\n\u001b[0;32m    151\u001b[0m \u001b[38;5;28;01mexcept\u001b[39;00m \u001b[38;5;167;01mException\u001b[39;00m \u001b[38;5;28;01mas\u001b[39;00m e:\n\u001b[0;32m    152\u001b[0m   filtered_tb \u001b[38;5;241m=\u001b[39m _process_traceback_frames(e\u001b[38;5;241m.\u001b[39m__traceback__)\n\u001b[1;32m--> 153\u001b[0m   \u001b[38;5;28;01mraise\u001b[39;00m e\u001b[38;5;241m.\u001b[39mwith_traceback(filtered_tb) \u001b[38;5;28;01mfrom\u001b[39;00m \u001b[38;5;28mNone\u001b[39m\n\u001b[0;32m    154\u001b[0m \u001b[38;5;28;01mfinally\u001b[39;00m:\n\u001b[0;32m    155\u001b[0m   \u001b[38;5;28;01mdel\u001b[39;00m filtered_tb\n",
      "File \u001b[1;32mc:\\Users\\IBDA\\.conda\\envs\\victor_aops_mathbert\\lib\\site-packages\\tensorflow\\python\\saved_model\\function_deserialization.py:295\u001b[0m, in \u001b[0;36mrecreate_function.<locals>.restored_function_body\u001b[1;34m(*args, **kwargs)\u001b[0m\n\u001b[0;32m    291\u001b[0m   positional, keyword \u001b[38;5;241m=\u001b[39m concrete_function\u001b[38;5;241m.\u001b[39mstructured_input_signature\n\u001b[0;32m    292\u001b[0m   signature_descriptions\u001b[38;5;241m.\u001b[39mappend(\n\u001b[0;32m    293\u001b[0m       \u001b[38;5;124m\"\u001b[39m\u001b[38;5;124mOption \u001b[39m\u001b[38;5;132;01m{}\u001b[39;00m\u001b[38;5;124m:\u001b[39m\u001b[38;5;130;01m\\n\u001b[39;00m\u001b[38;5;124m  \u001b[39m\u001b[38;5;132;01m{}\u001b[39;00m\u001b[38;5;130;01m\\n\u001b[39;00m\u001b[38;5;124m  Keyword arguments: \u001b[39m\u001b[38;5;132;01m{}\u001b[39;00m\u001b[38;5;124m\"\u001b[39m\u001b[38;5;241m.\u001b[39mformat(\n\u001b[0;32m    294\u001b[0m           index \u001b[38;5;241m+\u001b[39m \u001b[38;5;241m1\u001b[39m, _pretty_format_positional(positional), keyword))\n\u001b[1;32m--> 295\u001b[0m \u001b[38;5;28;01mraise\u001b[39;00m \u001b[38;5;167;01mValueError\u001b[39;00m(\n\u001b[0;32m    296\u001b[0m     \u001b[38;5;124m\"\u001b[39m\u001b[38;5;124mCould not find matching concrete function to call loaded from the \u001b[39m\u001b[38;5;124m\"\u001b[39m\n\u001b[0;32m    297\u001b[0m     \u001b[38;5;124mf\u001b[39m\u001b[38;5;124m\"\u001b[39m\u001b[38;5;124mSavedModel. Got:\u001b[39m\u001b[38;5;130;01m\\n\u001b[39;00m\u001b[38;5;124m  \u001b[39m\u001b[38;5;132;01m{\u001b[39;00m_pretty_format_positional(args)\u001b[38;5;132;01m}\u001b[39;00m\u001b[38;5;130;01m\\n\u001b[39;00m\u001b[38;5;124m  Keyword \u001b[39m\u001b[38;5;124m\"\u001b[39m\n\u001b[0;32m    298\u001b[0m     \u001b[38;5;124mf\u001b[39m\u001b[38;5;124m\"\u001b[39m\u001b[38;5;124marguments: \u001b[39m\u001b[38;5;132;01m{\u001b[39;00mkwargs\u001b[38;5;132;01m}\u001b[39;00m\u001b[38;5;130;01m\\n\u001b[39;00m\u001b[38;5;130;01m\\n\u001b[39;00m\u001b[38;5;124m Expected these arguments to match one of the \u001b[39m\u001b[38;5;124m\"\u001b[39m\n\u001b[0;32m    299\u001b[0m     \u001b[38;5;124mf\u001b[39m\u001b[38;5;124m\"\u001b[39m\u001b[38;5;124mfollowing \u001b[39m\u001b[38;5;132;01m{\u001b[39;00m\u001b[38;5;28mlen\u001b[39m(saved_function\u001b[38;5;241m.\u001b[39mconcrete_functions)\u001b[38;5;132;01m}\u001b[39;00m\u001b[38;5;124m option(s):\u001b[39m\u001b[38;5;130;01m\\n\u001b[39;00m\u001b[38;5;130;01m\\n\u001b[39;00m\u001b[38;5;124m\"\u001b[39m\n\u001b[0;32m    300\u001b[0m     \u001b[38;5;124mf\u001b[39m\u001b[38;5;124m\"\u001b[39m\u001b[38;5;132;01m{\u001b[39;00m(\u001b[38;5;28mchr\u001b[39m(\u001b[38;5;241m10\u001b[39m)\u001b[38;5;241m+\u001b[39m\u001b[38;5;28mchr\u001b[39m(\u001b[38;5;241m10\u001b[39m))\u001b[38;5;241m.\u001b[39mjoin(signature_descriptions)\u001b[38;5;132;01m}\u001b[39;00m\u001b[38;5;124m\"\u001b[39m)\n",
      "\u001b[1;31mValueError\u001b[0m: Could not find matching concrete function to call loaded from the SavedModel. Got:\n  Positional arguments (3 total):\n    * <tf.Tensor 'inputs:0' shape=(77,) dtype=string>\n    * False\n    * None\n  Keyword arguments: {}\n\n Expected these arguments to match one of the following 4 option(s):\n\nOption 1:\n  Positional arguments (3 total):\n    * [TensorSpec(shape=(None, 512), dtype=tf.int32, name='input_ids_layer'),\n TensorSpec(shape=(None, 512), dtype=tf.int32, name='attention_mask_layer'),\n TensorSpec(shape=(None, 512), dtype=tf.int32, name='token_type_ids_layer')]\n    * False\n    * None\n  Keyword arguments: {}\n\nOption 2:\n  Positional arguments (3 total):\n    * [TensorSpec(shape=(None, 512), dtype=tf.int32, name='inputs/0'),\n TensorSpec(shape=(None, 512), dtype=tf.int32, name='inputs/1'),\n TensorSpec(shape=(None, 512), dtype=tf.int32, name='inputs/2')]\n    * False\n    * None\n  Keyword arguments: {}\n\nOption 3:\n  Positional arguments (3 total):\n    * [TensorSpec(shape=(None, 512), dtype=tf.int32, name='inputs/0'),\n TensorSpec(shape=(None, 512), dtype=tf.int32, name='inputs/1'),\n TensorSpec(shape=(None, 512), dtype=tf.int32, name='inputs/2')]\n    * True\n    * None\n  Keyword arguments: {}\n\nOption 4:\n  Positional arguments (3 total):\n    * [TensorSpec(shape=(None, 512), dtype=tf.int32, name='input_ids_layer'),\n TensorSpec(shape=(None, 512), dtype=tf.int32, name='attention_mask_layer'),\n TensorSpec(shape=(None, 512), dtype=tf.int32, name='token_type_ids_layer')]\n    * True\n    * None\n  Keyword arguments: {}"
     ]
    }
   ],
   "source": [
    "df = pd.read_csv(\"../data/regression/imo/test.csv\")\n",
    "df.sort_values(by=['score'], inplace=True)\n",
    "df.reset_index(inplace=True)\n",
    "examples_texts = df['post_canonical'].values\n",
    "examples_scores = df['score'].values\n",
    "\n",
    "reloaded_model = tf.saved_model.load('saved_models/regression/IMO-MATHBERT')\n",
    "compare_actual_and_predict_values(reloaded_model, examples_texts, examples_scores)\n"
   ]
  },
  {
   "cell_type": "markdown",
   "metadata": {},
   "source": [
    "## `COMBINED_ALL`"
   ]
  },
  {
   "cell_type": "markdown",
   "metadata": {},
   "source": [
    "### 1. Compile"
   ]
  },
  {
   "cell_type": "code",
   "execution_count": 4,
   "metadata": {},
   "outputs": [],
   "source": [
    "datamaster = DataMaster(\"../data/regression/\")\n",
    "train_ds, val_ds, test_ds = datamaster.load_tokenized_train_val_test_ds(batch_size=batch_size, seed=seed, AUTOTUNE=AUTOTUNE)\n"
   ]
  },
  {
   "cell_type": "code",
   "execution_count": 5,
   "metadata": {},
   "outputs": [
    {
     "name": "stderr",
     "output_type": "stream",
     "text": [
      "Some weights of the PyTorch model were not used when initializing the TF 2.0 model TFBertModel: ['cls.predictions.decoder.weight', 'cls.predictions.decoder.bias', 'bert.embeddings.position_ids', 'cls.predictions.transform.dense.weight', 'cls.predictions.bias', 'cls.predictions.transform.dense.bias', 'cls.predictions.transform.LayerNorm.weight', 'cls.predictions.transform.LayerNorm.bias', 'cls.seq_relationship.weight', 'cls.seq_relationship.bias']\n",
      "- This IS expected if you are initializing TFBertModel from a PyTorch model trained on another task or with another architecture (e.g. initializing a TFBertForSequenceClassification model from a BertForPreTraining model).\n",
      "- This IS NOT expected if you are initializing TFBertModel from a PyTorch model that you expect to be exactly identical (e.g. initializing a TFBertForSequenceClassification model from a BertForSequenceClassification model).\n",
      "All the weights of TFBertModel were initialized from the PyTorch model.\n",
      "If your task is similar to the task the model of the checkpoint was trained on, you can already use TFBertModel for predictions without further training.\n"
     ]
    }
   ],
   "source": [
    "mathbert_regressor_model = MathBertRegressorModel()\n",
    "mathbert_regressor_model.compile_model(\n",
    "    train_ds, \n",
    "    val_ds, \n",
    "    epochs=epochs, \n",
    "    learning_rate=learning_rate, \n",
    "    optimizer_type=optimizer_type, \n",
    "    loss=loss, \n",
    "    metrics=metrics\n",
    ")\n"
   ]
  },
  {
   "cell_type": "markdown",
   "metadata": {},
   "source": [
    "### 2. Training"
   ]
  },
  {
   "cell_type": "code",
   "execution_count": 6,
   "metadata": {},
   "outputs": [
    {
     "name": "stdout",
     "output_type": "stream",
     "text": [
      "Start training..\n",
      "Epoch 1/64\n",
      "27/27 [==============================] - 17s 270ms/step - loss: 31.3123 - mae: 5.0953 - val_loss: 26.4385 - val_mae: 4.7295\n",
      "Epoch 2/64\n",
      "27/27 [==============================] - 5s 170ms/step - loss: 21.2218 - mae: 4.0310 - val_loss: 11.0207 - val_mae: 2.8310\n",
      "Epoch 3/64\n",
      "27/27 [==============================] - 5s 169ms/step - loss: 8.8910 - mae: 2.4286 - val_loss: 4.9707 - val_mae: 1.8674\n",
      "Epoch 4/64\n",
      "27/27 [==============================] - 5s 171ms/step - loss: 6.2871 - mae: 2.0427 - val_loss: 3.9961 - val_mae: 1.6302\n",
      "Epoch 5/64\n",
      "27/27 [==============================] - 5s 180ms/step - loss: 6.1951 - mae: 2.0639 - val_loss: 3.7806 - val_mae: 1.5650\n",
      "Epoch 6/64\n",
      "27/27 [==============================] - 5s 175ms/step - loss: 5.5326 - mae: 1.9401 - val_loss: 3.7149 - val_mae: 1.5394\n",
      "Epoch 7/64\n",
      "27/27 [==============================] - 5s 173ms/step - loss: 5.3771 - mae: 1.9047 - val_loss: 3.5922 - val_mae: 1.5081\n",
      "Epoch 8/64\n",
      "27/27 [==============================] - 5s 174ms/step - loss: 4.8086 - mae: 1.8104 - val_loss: 4.0195 - val_mae: 1.5911\n",
      "Epoch 9/64\n",
      "27/27 [==============================] - 5s 173ms/step - loss: 4.6537 - mae: 1.7736 - val_loss: 3.8001 - val_mae: 1.5550\n",
      "Epoch 10/64\n",
      "27/27 [==============================] - 5s 173ms/step - loss: 4.6674 - mae: 1.7889 - val_loss: 3.8604 - val_mae: 1.5663\n",
      "Epoch 11/64\n",
      "27/27 [==============================] - 5s 174ms/step - loss: 4.4983 - mae: 1.7283 - val_loss: 3.9113 - val_mae: 1.5741\n",
      "Epoch 12/64\n",
      "27/27 [==============================] - 5s 173ms/step - loss: 4.0822 - mae: 1.6173 - val_loss: 4.1316 - val_mae: 1.6170\n",
      "Epoch 13/64\n",
      "27/27 [==============================] - 5s 173ms/step - loss: 4.1943 - mae: 1.6569 - val_loss: 4.0409 - val_mae: 1.5921\n",
      "Epoch 14/64\n",
      "27/27 [==============================] - 5s 174ms/step - loss: 4.2186 - mae: 1.6670 - val_loss: 4.2569 - val_mae: 1.6518\n",
      "Epoch 15/64\n",
      "27/27 [==============================] - 5s 172ms/step - loss: 4.0652 - mae: 1.6694 - val_loss: 4.2374 - val_mae: 1.6378\n",
      "Epoch 16/64\n",
      "27/27 [==============================] - 5s 174ms/step - loss: 3.6522 - mae: 1.5325 - val_loss: 4.4703 - val_mae: 1.6736\n",
      "Epoch 17/64\n",
      "27/27 [==============================] - 5s 173ms/step - loss: 3.8158 - mae: 1.5936 - val_loss: 4.3963 - val_mae: 1.6580\n",
      "Epoch 18/64\n",
      "27/27 [==============================] - 5s 173ms/step - loss: 3.5336 - mae: 1.5389 - val_loss: 4.5302 - val_mae: 1.6893\n",
      "Epoch 19/64\n",
      "27/27 [==============================] - 5s 172ms/step - loss: 3.5486 - mae: 1.4922 - val_loss: 4.3588 - val_mae: 1.6680\n",
      "Epoch 20/64\n",
      "27/27 [==============================] - 5s 174ms/step - loss: 3.7354 - mae: 1.5629 - val_loss: 4.4019 - val_mae: 1.6838\n",
      "Epoch 21/64\n",
      "27/27 [==============================] - 5s 173ms/step - loss: 3.3890 - mae: 1.4805 - val_loss: 4.3582 - val_mae: 1.6582\n",
      "Epoch 22/64\n",
      "27/27 [==============================] - 5s 174ms/step - loss: 3.5742 - mae: 1.5407 - val_loss: 4.3609 - val_mae: 1.6581\n",
      "Epoch 23/64\n",
      "27/27 [==============================] - 5s 173ms/step - loss: 3.4646 - mae: 1.5125 - val_loss: 4.4680 - val_mae: 1.6755\n",
      "Epoch 24/64\n",
      "27/27 [==============================] - 5s 173ms/step - loss: 3.4347 - mae: 1.4790 - val_loss: 4.9803 - val_mae: 1.8171\n",
      "Epoch 25/64\n",
      "27/27 [==============================] - 5s 173ms/step - loss: 3.0522 - mae: 1.4073 - val_loss: 4.8619 - val_mae: 1.7577\n",
      "Epoch 26/64\n",
      "27/27 [==============================] - 5s 175ms/step - loss: 3.1677 - mae: 1.4135 - val_loss: 4.9391 - val_mae: 1.7636\n",
      "Epoch 27/64\n",
      "27/27 [==============================] - 5s 173ms/step - loss: 3.2430 - mae: 1.4303 - val_loss: 4.8762 - val_mae: 1.7682\n",
      "Epoch 28/64\n",
      "27/27 [==============================] - 5s 175ms/step - loss: 3.4834 - mae: 1.5260 - val_loss: 4.8562 - val_mae: 1.7656\n",
      "Epoch 29/64\n",
      "27/27 [==============================] - 5s 174ms/step - loss: 3.1737 - mae: 1.4518 - val_loss: 4.6923 - val_mae: 1.7411\n",
      "Epoch 30/64\n",
      "27/27 [==============================] - 5s 174ms/step - loss: 3.3025 - mae: 1.4614 - val_loss: 4.6649 - val_mae: 1.7263\n",
      "Epoch 31/64\n",
      "27/27 [==============================] - 5s 174ms/step - loss: 3.0776 - mae: 1.4007 - val_loss: 4.7984 - val_mae: 1.7444\n",
      "Epoch 32/64\n",
      "27/27 [==============================] - 5s 174ms/step - loss: 3.0600 - mae: 1.4016 - val_loss: 4.8043 - val_mae: 1.7652\n",
      "Epoch 33/64\n",
      "27/27 [==============================] - 5s 174ms/step - loss: 2.8381 - mae: 1.3499 - val_loss: 5.1011 - val_mae: 1.8280\n",
      "Epoch 34/64\n",
      "27/27 [==============================] - 5s 172ms/step - loss: 3.0208 - mae: 1.3741 - val_loss: 4.8895 - val_mae: 1.7657\n",
      "Epoch 35/64\n",
      "27/27 [==============================] - 5s 173ms/step - loss: 3.2154 - mae: 1.4326 - val_loss: 5.1799 - val_mae: 1.8359\n",
      "Epoch 36/64\n",
      "27/27 [==============================] - 5s 173ms/step - loss: 2.9858 - mae: 1.4037 - val_loss: 5.0462 - val_mae: 1.8129\n",
      "Epoch 37/64\n",
      "27/27 [==============================] - 5s 174ms/step - loss: 2.9843 - mae: 1.4149 - val_loss: 5.1379 - val_mae: 1.8330\n",
      "Epoch 38/64\n",
      "27/27 [==============================] - 5s 173ms/step - loss: 3.0021 - mae: 1.4014 - val_loss: 5.0463 - val_mae: 1.8162\n",
      "Epoch 39/64\n",
      "27/27 [==============================] - 5s 174ms/step - loss: 2.8018 - mae: 1.3262 - val_loss: 5.0803 - val_mae: 1.8156\n",
      "Epoch 40/64\n",
      "27/27 [==============================] - 5s 173ms/step - loss: 2.8612 - mae: 1.3483 - val_loss: 5.2133 - val_mae: 1.8349\n",
      "Epoch 41/64\n",
      "27/27 [==============================] - 5s 174ms/step - loss: 2.8359 - mae: 1.3451 - val_loss: 5.3489 - val_mae: 1.8539\n",
      "Epoch 42/64\n",
      "27/27 [==============================] - 5s 173ms/step - loss: 2.9063 - mae: 1.3696 - val_loss: 5.2197 - val_mae: 1.8288\n",
      "Epoch 43/64\n",
      "27/27 [==============================] - 5s 174ms/step - loss: 2.8185 - mae: 1.3473 - val_loss: 5.1021 - val_mae: 1.8097\n",
      "Epoch 44/64\n",
      "27/27 [==============================] - 5s 174ms/step - loss: 2.7121 - mae: 1.3253 - val_loss: 5.1160 - val_mae: 1.8270\n",
      "Epoch 45/64\n",
      "27/27 [==============================] - 5s 173ms/step - loss: 2.6822 - mae: 1.3100 - val_loss: 5.0500 - val_mae: 1.8126\n",
      "Epoch 46/64\n",
      "27/27 [==============================] - 5s 173ms/step - loss: 2.8439 - mae: 1.3317 - val_loss: 5.3512 - val_mae: 1.8721\n",
      "Epoch 47/64\n",
      "27/27 [==============================] - 5s 173ms/step - loss: 2.7800 - mae: 1.3288 - val_loss: 5.1595 - val_mae: 1.8335\n",
      "Epoch 48/64\n",
      "27/27 [==============================] - 5s 175ms/step - loss: 2.6952 - mae: 1.3050 - val_loss: 5.2216 - val_mae: 1.8505\n",
      "Epoch 49/64\n",
      "27/27 [==============================] - 5s 174ms/step - loss: 2.5557 - mae: 1.3111 - val_loss: 5.2058 - val_mae: 1.8512\n",
      "Epoch 50/64\n",
      "27/27 [==============================] - 5s 174ms/step - loss: 2.7583 - mae: 1.3421 - val_loss: 5.2845 - val_mae: 1.8770\n",
      "Epoch 51/64\n",
      "27/27 [==============================] - 5s 173ms/step - loss: 2.6159 - mae: 1.2848 - val_loss: 5.2067 - val_mae: 1.8590\n",
      "Epoch 52/64\n",
      "27/27 [==============================] - 5s 174ms/step - loss: 2.9067 - mae: 1.3421 - val_loss: 5.1957 - val_mae: 1.8601\n",
      "Epoch 53/64\n",
      "27/27 [==============================] - 5s 174ms/step - loss: 2.6536 - mae: 1.2987 - val_loss: 5.0836 - val_mae: 1.8223\n",
      "Epoch 54/64\n",
      "27/27 [==============================] - 5s 171ms/step - loss: 2.7772 - mae: 1.3315 - val_loss: 5.1434 - val_mae: 1.8374\n",
      "Epoch 55/64\n",
      "27/27 [==============================] - 5s 171ms/step - loss: 2.7485 - mae: 1.3460 - val_loss: 5.1146 - val_mae: 1.8320\n",
      "Epoch 56/64\n",
      "27/27 [==============================] - 5s 171ms/step - loss: 2.6416 - mae: 1.3018 - val_loss: 5.0914 - val_mae: 1.8255\n",
      "Epoch 57/64\n",
      "27/27 [==============================] - 5s 172ms/step - loss: 2.4631 - mae: 1.2616 - val_loss: 5.2316 - val_mae: 1.8521\n",
      "Epoch 58/64\n",
      "27/27 [==============================] - 5s 171ms/step - loss: 2.5618 - mae: 1.2939 - val_loss: 5.1050 - val_mae: 1.8232\n",
      "Epoch 59/64\n",
      "27/27 [==============================] - 5s 171ms/step - loss: 2.4340 - mae: 1.2294 - val_loss: 5.0861 - val_mae: 1.8270\n",
      "Epoch 60/64\n",
      "27/27 [==============================] - 5s 169ms/step - loss: 2.7890 - mae: 1.3417 - val_loss: 5.1562 - val_mae: 1.8443\n",
      "Epoch 61/64\n",
      "27/27 [==============================] - 5s 170ms/step - loss: 2.6882 - mae: 1.3181 - val_loss: 5.1420 - val_mae: 1.8415\n",
      "Epoch 62/64\n",
      "27/27 [==============================] - 5s 169ms/step - loss: 2.6665 - mae: 1.3275 - val_loss: 5.1053 - val_mae: 1.8330\n",
      "Epoch 63/64\n",
      "27/27 [==============================] - 5s 170ms/step - loss: 2.4893 - mae: 1.2551 - val_loss: 5.1060 - val_mae: 1.8329\n",
      "Epoch 64/64\n",
      "27/27 [==============================] - 5s 169ms/step - loss: 2.4298 - mae: 1.2632 - val_loss: 5.1179 - val_mae: 1.8356\n",
      "\n",
      "Total training time: 311.35s\n"
     ]
    },
    {
     "data": {
      "text/plain": [
       "<keras.callbacks.History at 0x27f46b6d7f0>"
      ]
     },
     "execution_count": 6,
     "metadata": {},
     "output_type": "execute_result"
    }
   ],
   "source": [
    "mathbert_regressor_model.train()\n"
   ]
  },
  {
   "cell_type": "markdown",
   "metadata": {},
   "source": [
    "### 3. Evaluate test"
   ]
  },
  {
   "cell_type": "code",
   "execution_count": 7,
   "metadata": {},
   "outputs": [
    {
     "name": "stdout",
     "output_type": "stream",
     "text": [
      "8/8 [==============================] - 1s 116ms/step - loss: 6.6201 - mae: 2.0636\n",
      "\n",
      "Loss : 6.62012243270874\n",
      "MAE  : 2.063647985458374\n"
     ]
    }
   ],
   "source": [
    "result = mathbert_regressor_model.evaluate_test(test_ds)\n",
    "loss, mae = result['loss'], result['mae']\n",
    "print()\n",
    "print(f'Loss : {loss}')\n",
    "print(f'MAE  : {mae}')\n"
   ]
  },
  {
   "cell_type": "markdown",
   "metadata": {},
   "source": [
    "### 4. Plot epoch over time"
   ]
  },
  {
   "cell_type": "code",
   "execution_count": 8,
   "metadata": {},
   "outputs": [
    {
     "name": "stdout",
     "output_type": "stream",
     "text": [
      "dict_keys(['loss', 'mae', 'val_loss', 'val_mae'])\n",
      "Training history over time\n"
     ]
    },
    {
     "data": {
      "image/png": "[encoded data removed]",
      "text/plain": [
       "<Figure size 1008x864 with 2 Axes>"
      ]
     },
     "metadata": {
      "needs_background": "light"
     },
     "output_type": "display_data"
    }
   ],
   "source": [
    "mathbert_regressor_model.plot_training_history_over_time()\n"
   ]
  },
  {
   "cell_type": "markdown",
   "metadata": {},
   "source": [
    "### 5. Save model"
   ]
  },
  {
   "cell_type": "code",
   "execution_count": 9,
   "metadata": {},
   "outputs": [
    {
     "name": "stderr",
     "output_type": "stream",
     "text": [
      "WARNING:absl:Found untraced functions such as embeddings_layer_call_fn, embeddings_layer_call_and_return_conditional_losses, encoder_layer_call_fn, encoder_layer_call_and_return_conditional_losses, pooler_layer_call_fn while saving (showing 5 of 420). These functions will not be directly callable after loading.\n"
     ]
    },
    {
     "name": "stdout",
     "output_type": "stream",
     "text": [
      "INFO:tensorflow:Assets written to: saved_models/regression/COMBINED_ALL-MATHBERT\\assets\n"
     ]
    },
    {
     "name": "stderr",
     "output_type": "stream",
     "text": [
      "INFO:tensorflow:Assets written to: saved_models/regression/COMBINED_ALL-MATHBERT\\assets\n"
     ]
    }
   ],
   "source": [
    "temp_path = \"saved_models/regression/COMBINED_ALL-MATHBERT\"\n",
    "mathbert_regressor_model.model.save(temp_path)\n"
   ]
  },
  {
   "cell_type": "markdown",
   "metadata": {},
   "source": [
    "### Reload model (compare actual & predict)"
   ]
  },
  {
   "cell_type": "code",
   "execution_count": 10,
   "metadata": {},
   "outputs": [
    {
     "ename": "ValueError",
     "evalue": "Could not find matching concrete function to call loaded from the SavedModel. Got:\n  Positional arguments (3 total):\n    * <tf.Tensor 'inputs:0' shape=(118,) dtype=string>\n    * False\n    * None\n  Keyword arguments: {}\n\n Expected these arguments to match one of the following 4 option(s):\n\nOption 1:\n  Positional arguments (3 total):\n    * [TensorSpec(shape=(None, 512), dtype=tf.int32, name='input_ids_layer'),\n TensorSpec(shape=(None, 512), dtype=tf.int32, name='attention_mask_layer'),\n TensorSpec(shape=(None, 512), dtype=tf.int32, name='token_type_ids_layer')]\n    * False\n    * None\n  Keyword arguments: {}\n\nOption 2:\n  Positional arguments (3 total):\n    * [TensorSpec(shape=(None, 512), dtype=tf.int32, name='inputs/0'),\n TensorSpec(shape=(None, 512), dtype=tf.int32, name='inputs/1'),\n TensorSpec(shape=(None, 512), dtype=tf.int32, name='inputs/2')]\n    * False\n    * None\n  Keyword arguments: {}\n\nOption 3:\n  Positional arguments (3 total):\n    * [TensorSpec(shape=(None, 512), dtype=tf.int32, name='inputs/0'),\n TensorSpec(shape=(None, 512), dtype=tf.int32, name='inputs/1'),\n TensorSpec(shape=(None, 512), dtype=tf.int32, name='inputs/2')]\n    * True\n    * None\n  Keyword arguments: {}\n\nOption 4:\n  Positional arguments (3 total):\n    * [TensorSpec(shape=(None, 512), dtype=tf.int32, name='input_ids_layer'),\n TensorSpec(shape=(None, 512), dtype=tf.int32, name='attention_mask_layer'),\n TensorSpec(shape=(None, 512), dtype=tf.int32, name='token_type_ids_layer')]\n    * True\n    * None\n  Keyword arguments: {}",
     "output_type": "error",
     "traceback": [
      "\u001b[1;31m---------------------------------------------------------------------------\u001b[0m",
      "\u001b[1;31mValueError\u001b[0m                                Traceback (most recent call last)",
      "Input \u001b[1;32mIn [10]\u001b[0m, in \u001b[0;36m<cell line: 8>\u001b[1;34m()\u001b[0m\n\u001b[0;32m      5\u001b[0m examples_scores \u001b[38;5;241m=\u001b[39m df[\u001b[38;5;124m'\u001b[39m\u001b[38;5;124mscore\u001b[39m\u001b[38;5;124m'\u001b[39m]\u001b[38;5;241m.\u001b[39mvalues\n\u001b[0;32m      7\u001b[0m reloaded_model \u001b[38;5;241m=\u001b[39m tf\u001b[38;5;241m.\u001b[39msaved_model\u001b[38;5;241m.\u001b[39mload(\u001b[38;5;124m'\u001b[39m\u001b[38;5;124msaved_models/regression/COMBINED_ALL-MATHBERT\u001b[39m\u001b[38;5;124m'\u001b[39m)\n\u001b[1;32m----> 8\u001b[0m \u001b[43mcompare_actual_and_predict_values\u001b[49m\u001b[43m(\u001b[49m\u001b[43mreloaded_model\u001b[49m\u001b[43m,\u001b[49m\u001b[43m \u001b[49m\u001b[43mexamples_texts\u001b[49m\u001b[43m,\u001b[49m\u001b[43m \u001b[49m\u001b[43mexamples_scores\u001b[49m\u001b[43m)\u001b[49m\n",
      "Input \u001b[1;32mIn [1]\u001b[0m, in \u001b[0;36mcompare_actual_and_predict_values\u001b[1;34m(model, list_of_texts, list_of_actual)\u001b[0m\n\u001b[0;32m     16\u001b[0m \u001b[38;5;28;01mimport\u001b[39;00m \u001b[38;5;21;01mseaborn\u001b[39;00m \u001b[38;5;28;01mas\u001b[39;00m \u001b[38;5;21;01msns\u001b[39;00m\n\u001b[0;32m     17\u001b[0m \u001b[38;5;28;01mimport\u001b[39;00m \u001b[38;5;21;01mnumpy\u001b[39;00m \u001b[38;5;28;01mas\u001b[39;00m \u001b[38;5;21;01mnp\u001b[39;00m\n\u001b[1;32m---> 19\u001b[0m predicted \u001b[38;5;241m=\u001b[39m \u001b[43mmodel\u001b[49m\u001b[43m(\u001b[49m\u001b[43mtf\u001b[49m\u001b[38;5;241;43m.\u001b[39;49m\u001b[43mconstant\u001b[49m\u001b[43m(\u001b[49m\u001b[43mlist_of_texts\u001b[49m\u001b[43m)\u001b[49m\u001b[43m)\u001b[49m\n\u001b[0;32m     20\u001b[0m predicted \u001b[38;5;241m=\u001b[39m predicted\u001b[38;5;241m.\u001b[39mnumpy()\u001b[38;5;241m.\u001b[39mflatten()\n\u001b[0;32m     21\u001b[0m list_of_actual \u001b[38;5;241m=\u001b[39m np\u001b[38;5;241m.\u001b[39marray(list_of_actual)\n",
      "File \u001b[1;32mc:\\Users\\IBDA\\.conda\\envs\\victor_aops_mathbert\\lib\\site-packages\\tensorflow\\python\\saved_model\\load.py:704\u001b[0m, in \u001b[0;36m_call_attribute\u001b[1;34m(instance, *args, **kwargs)\u001b[0m\n\u001b[0;32m    703\u001b[0m \u001b[38;5;28;01mdef\u001b[39;00m \u001b[38;5;21m_call_attribute\u001b[39m(instance, \u001b[38;5;241m*\u001b[39margs, \u001b[38;5;241m*\u001b[39m\u001b[38;5;241m*\u001b[39mkwargs):\n\u001b[1;32m--> 704\u001b[0m   \u001b[38;5;28;01mreturn\u001b[39;00m instance\u001b[38;5;241m.\u001b[39m\u001b[38;5;21m__call__\u001b[39m(\u001b[38;5;241m*\u001b[39margs, \u001b[38;5;241m*\u001b[39m\u001b[38;5;241m*\u001b[39mkwargs)\n",
      "File \u001b[1;32mc:\\Users\\IBDA\\.conda\\envs\\victor_aops_mathbert\\lib\\site-packages\\tensorflow\\python\\util\\traceback_utils.py:153\u001b[0m, in \u001b[0;36mfilter_traceback.<locals>.error_handler\u001b[1;34m(*args, **kwargs)\u001b[0m\n\u001b[0;32m    151\u001b[0m \u001b[38;5;28;01mexcept\u001b[39;00m \u001b[38;5;167;01mException\u001b[39;00m \u001b[38;5;28;01mas\u001b[39;00m e:\n\u001b[0;32m    152\u001b[0m   filtered_tb \u001b[38;5;241m=\u001b[39m _process_traceback_frames(e\u001b[38;5;241m.\u001b[39m__traceback__)\n\u001b[1;32m--> 153\u001b[0m   \u001b[38;5;28;01mraise\u001b[39;00m e\u001b[38;5;241m.\u001b[39mwith_traceback(filtered_tb) \u001b[38;5;28;01mfrom\u001b[39;00m \u001b[38;5;28mNone\u001b[39m\n\u001b[0;32m    154\u001b[0m \u001b[38;5;28;01mfinally\u001b[39;00m:\n\u001b[0;32m    155\u001b[0m   \u001b[38;5;28;01mdel\u001b[39;00m filtered_tb\n",
      "File \u001b[1;32mc:\\Users\\IBDA\\.conda\\envs\\victor_aops_mathbert\\lib\\site-packages\\tensorflow\\python\\saved_model\\function_deserialization.py:295\u001b[0m, in \u001b[0;36mrecreate_function.<locals>.restored_function_body\u001b[1;34m(*args, **kwargs)\u001b[0m\n\u001b[0;32m    291\u001b[0m   positional, keyword \u001b[38;5;241m=\u001b[39m concrete_function\u001b[38;5;241m.\u001b[39mstructured_input_signature\n\u001b[0;32m    292\u001b[0m   signature_descriptions\u001b[38;5;241m.\u001b[39mappend(\n\u001b[0;32m    293\u001b[0m       \u001b[38;5;124m\"\u001b[39m\u001b[38;5;124mOption \u001b[39m\u001b[38;5;132;01m{}\u001b[39;00m\u001b[38;5;124m:\u001b[39m\u001b[38;5;130;01m\\n\u001b[39;00m\u001b[38;5;124m  \u001b[39m\u001b[38;5;132;01m{}\u001b[39;00m\u001b[38;5;130;01m\\n\u001b[39;00m\u001b[38;5;124m  Keyword arguments: \u001b[39m\u001b[38;5;132;01m{}\u001b[39;00m\u001b[38;5;124m\"\u001b[39m\u001b[38;5;241m.\u001b[39mformat(\n\u001b[0;32m    294\u001b[0m           index \u001b[38;5;241m+\u001b[39m \u001b[38;5;241m1\u001b[39m, _pretty_format_positional(positional), keyword))\n\u001b[1;32m--> 295\u001b[0m \u001b[38;5;28;01mraise\u001b[39;00m \u001b[38;5;167;01mValueError\u001b[39;00m(\n\u001b[0;32m    296\u001b[0m     \u001b[38;5;124m\"\u001b[39m\u001b[38;5;124mCould not find matching concrete function to call loaded from the \u001b[39m\u001b[38;5;124m\"\u001b[39m\n\u001b[0;32m    297\u001b[0m     \u001b[38;5;124mf\u001b[39m\u001b[38;5;124m\"\u001b[39m\u001b[38;5;124mSavedModel. Got:\u001b[39m\u001b[38;5;130;01m\\n\u001b[39;00m\u001b[38;5;124m  \u001b[39m\u001b[38;5;132;01m{\u001b[39;00m_pretty_format_positional(args)\u001b[38;5;132;01m}\u001b[39;00m\u001b[38;5;130;01m\\n\u001b[39;00m\u001b[38;5;124m  Keyword \u001b[39m\u001b[38;5;124m\"\u001b[39m\n\u001b[0;32m    298\u001b[0m     \u001b[38;5;124mf\u001b[39m\u001b[38;5;124m\"\u001b[39m\u001b[38;5;124marguments: \u001b[39m\u001b[38;5;132;01m{\u001b[39;00mkwargs\u001b[38;5;132;01m}\u001b[39;00m\u001b[38;5;130;01m\\n\u001b[39;00m\u001b[38;5;130;01m\\n\u001b[39;00m\u001b[38;5;124m Expected these arguments to match one of the \u001b[39m\u001b[38;5;124m\"\u001b[39m\n\u001b[0;32m    299\u001b[0m     \u001b[38;5;124mf\u001b[39m\u001b[38;5;124m\"\u001b[39m\u001b[38;5;124mfollowing \u001b[39m\u001b[38;5;132;01m{\u001b[39;00m\u001b[38;5;28mlen\u001b[39m(saved_function\u001b[38;5;241m.\u001b[39mconcrete_functions)\u001b[38;5;132;01m}\u001b[39;00m\u001b[38;5;124m option(s):\u001b[39m\u001b[38;5;130;01m\\n\u001b[39;00m\u001b[38;5;130;01m\\n\u001b[39;00m\u001b[38;5;124m\"\u001b[39m\n\u001b[0;32m    300\u001b[0m     \u001b[38;5;124mf\u001b[39m\u001b[38;5;124m\"\u001b[39m\u001b[38;5;132;01m{\u001b[39;00m(\u001b[38;5;28mchr\u001b[39m(\u001b[38;5;241m10\u001b[39m)\u001b[38;5;241m+\u001b[39m\u001b[38;5;28mchr\u001b[39m(\u001b[38;5;241m10\u001b[39m))\u001b[38;5;241m.\u001b[39mjoin(signature_descriptions)\u001b[38;5;132;01m}\u001b[39;00m\u001b[38;5;124m\"\u001b[39m)\n",
      "\u001b[1;31mValueError\u001b[0m: Could not find matching concrete function to call loaded from the SavedModel. Got:\n  Positional arguments (3 total):\n    * <tf.Tensor 'inputs:0' shape=(118,) dtype=string>\n    * False\n    * None\n  Keyword arguments: {}\n\n Expected these arguments to match one of the following 4 option(s):\n\nOption 1:\n  Positional arguments (3 total):\n    * [TensorSpec(shape=(None, 512), dtype=tf.int32, name='input_ids_layer'),\n TensorSpec(shape=(None, 512), dtype=tf.int32, name='attention_mask_layer'),\n TensorSpec(shape=(None, 512), dtype=tf.int32, name='token_type_ids_layer')]\n    * False\n    * None\n  Keyword arguments: {}\n\nOption 2:\n  Positional arguments (3 total):\n    * [TensorSpec(shape=(None, 512), dtype=tf.int32, name='inputs/0'),\n TensorSpec(shape=(None, 512), dtype=tf.int32, name='inputs/1'),\n TensorSpec(shape=(None, 512), dtype=tf.int32, name='inputs/2')]\n    * False\n    * None\n  Keyword arguments: {}\n\nOption 3:\n  Positional arguments (3 total):\n    * [TensorSpec(shape=(None, 512), dtype=tf.int32, name='inputs/0'),\n TensorSpec(shape=(None, 512), dtype=tf.int32, name='inputs/1'),\n TensorSpec(shape=(None, 512), dtype=tf.int32, name='inputs/2')]\n    * True\n    * None\n  Keyword arguments: {}\n\nOption 4:\n  Positional arguments (3 total):\n    * [TensorSpec(shape=(None, 512), dtype=tf.int32, name='input_ids_layer'),\n TensorSpec(shape=(None, 512), dtype=tf.int32, name='attention_mask_layer'),\n TensorSpec(shape=(None, 512), dtype=tf.int32, name='token_type_ids_layer')]\n    * True\n    * None\n  Keyword arguments: {}"
     ]
    }
   ],
   "source": [
    "df = pd.read_csv(\"../data/regression/test.csv\")\n",
    "df.sort_values(by=['score'], inplace=True)\n",
    "df.reset_index(inplace=True)\n",
    "examples_texts = df['post_canonical'].values\n",
    "examples_scores = df['score'].values\n",
    "\n",
    "reloaded_model = tf.saved_model.load('saved_models/regression/COMBINED_ALL-MATHBERT')\n",
    "compare_actual_and_predict_values(reloaded_model, examples_texts, examples_scores)\n"
   ]
  }
 ],
 "metadata": {
  "kernelspec": {
   "display_name": "aops_tf",
   "language": "python",
   "name": "python3"
  },
  "language_info": {
   "codemirror_mode": {
    "name": "ipython",
    "version": 3
   },
   "file_extension": ".py",
   "mimetype": "text/x-python",
   "name": "python",
   "nbconvert_exporter": "python",
   "pygments_lexer": "ipython3",
   "version": "3.9.12"
  }
 },
 "nbformat": 4,
 "nbformat_minor": 2
}
