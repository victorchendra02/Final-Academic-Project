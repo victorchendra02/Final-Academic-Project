{
 "cells": [
  {
   "cell_type": "markdown",
   "metadata": {},
   "source": [
    "Split train-test"
   ]
  },
  {
   "cell_type": "code",
   "execution_count": 1,
   "metadata": {},
   "outputs": [
    {
     "name": "stderr",
     "output_type": "stream",
     "text": [
      "c:\\Users\\victo\\anaconda3\\envs\\aops_tenflow\\lib\\site-packages\\bs4\\__init__.py:435: MarkupResemblesLocatorWarning: The input looks more like a filename than markup. You may want to open this file and pass the filehandle into Beautiful Soup.\n",
      "  warnings.warn(\n"
     ]
    },
    {
     "name": "stdout",
     "output_type": "stream",
     "text": [
      "\n",
      "Shape: (3619, 10)\n"
     ]
    }
   ],
   "source": [
    "import os\n",
    "import pandas as pd\n",
    "from utils.preprocessing_text import Preprocess\n",
    "from sklearn.model_selection import train_test_split\n",
    "\n",
    "\n",
    "def create_folder(path):\n",
    "    try:\n",
    "        os.makedirs(path)\n",
    "        print(f\"Folder --> '{path}' created\")\n",
    "    except FileExistsError:\n",
    "        print(f\"Already exist --> '{path}'\")\n",
    "        \n",
    "def string_to_txt(path, file_name, string):\n",
    "    if not file_name.endswith('.txt'):\n",
    "        file_name += '.txt'\n",
    "        \n",
    "    file_path = f\"{path}/{file_name}\"\n",
    "\n",
    "    with open(file_path, 'w') as file:\n",
    "        file.write(string)\n",
    "\n",
    "def split_by_label(df, reduce_algebra=None, reduce_combin=None, reduce_geomet=None, reduce_nt=None, is_truncate=False):\n",
    "    algebra = df[df['label'] == 'Algebra'][['id_key', 'post_canonical', 'label']]\n",
    "    combin = df[df['label'] == 'Combinatorics'][['id_key', 'post_canonical', 'label']]\n",
    "    geomet = df[df['label'] == 'Geometry'][['id_key', 'post_canonical', 'label']]\n",
    "    nt = df[df['label'] == 'Number Theory'][['id_key', 'post_canonical', 'label']]\n",
    "    \n",
    "    # Kalau mau disamain semua\n",
    "    if is_truncate:\n",
    "        m = min([algebra.shape[0], combin.shape[0], geomet.shape[0], nt.shape[0]])\n",
    "        algebra = algebra.sample(m, random_state=42)\n",
    "        combin = combin.sample(m, random_state=42)\n",
    "        geomet = geomet.sample(m, random_state=42)\n",
    "        nt = nt.sample(m, random_state=42)\n",
    "\n",
    "        return algebra, combin, geomet, nt\n",
    "    \n",
    "    if reduce_algebra is not None: algebra=algebra.sample(algebra.shape[0]-reduce_algebra, random_state=42)\n",
    "    if reduce_combin is not None: combin=combin.sample(combin.shape[0]-reduce_combin, random_state=42)\n",
    "    if reduce_geomet is not None: geomet=geomet.sample(geomet.shape[0]-reduce_geomet, random_state=42)\n",
    "    if reduce_nt is not None: nt=nt.sample(nt.shape[0]-reduce_nt, random_state=42)\n",
    "    \n",
    "    return algebra, combin, geomet, nt\n",
    "\n",
    "df = pd.read_csv(\"../data/classification/imo.csv\")\n",
    "df = df[df['label'].notna()]\n",
    "\n",
    "df['post_canonical'] = df['post_rendered'].apply(Preprocess().fit)\n",
    "print(f\"\\nShape: {df.shape}\")\n"
   ]
  },
  {
   "cell_type": "code",
   "execution_count": 2,
   "metadata": {},
   "outputs": [
    {
     "name": "stdout",
     "output_type": "stream",
     "text": [
      "                     n   train    test\n",
      "Algebra       :    815     652     163\n",
      "Combinatorics :    737     590     147\n",
      "Geometry      :    972     778     194\n",
      "NT            :    795     636     159\n",
      "_________________________________________+\n",
      "Total         :   3319    2656     663\n"
     ]
    }
   ],
   "source": [
    "test_size=0.2\n",
    "algebra, combin, geomet, nt = split_by_label(df, reduce_geomet=300)\n",
    "\n",
    "temp1=[algebra.shape[0], combin.shape[0], geomet.shape[0], nt.shape[0]]\n",
    "temp2=[round(temp1[0]*(1-test_size)), round(temp1[1]*(1-test_size)), round(temp1[2]*(1-test_size)), round(temp1[3]*(1-test_size))]\n",
    "temp3=[round(temp1[0]*test_size), round(temp1[1]*test_size), round(temp1[2]*test_size), round(temp1[3]*test_size)]\n",
    "print(f\"               {'n':>7s} {'train':>7s} {'test':>7s}\")\n",
    "print(f\"Algebra       :{str(temp1[0]):>7s} {str(temp2[0]):>7s} {str(temp3[0]):>7s}\")\n",
    "print(f\"Combinatorics :{str(temp1[1]):>7s} {str(temp2[1]):>7s} {str(temp3[1]):>7s}\")\n",
    "print(f\"Geometry      :{str(temp1[2]):>7s} {str(temp2[2]):>7s} {str(temp3[2]):>7s}\")\n",
    "print(f\"NT            :{str(temp1[3]):>7s} {str(temp2[3]):>7s} {str(temp3[3]):>7s}\")\n",
    "print(\"_________________________________________+\")\n",
    "print(f\"Total         :{str(sum(temp1)):>7s} {str(sum(temp2)):>7s} {str(sum(temp3)):>7s}\")\n"
   ]
  },
  {
   "cell_type": "code",
   "execution_count": 3,
   "metadata": {},
   "outputs": [
    {
     "name": "stdout",
     "output_type": "stream",
     "text": [
      "Folder --> '../data/classification/train' created\n",
      "Folder --> '../data/classification/test' created\n",
      "Folder --> '../data/classification/train/Algebra' created\n",
      "Folder --> '../data/classification/test/Algebra' created\n",
      "Folder --> '../data/classification/train/Combinatorics' created\n",
      "Folder --> '../data/classification/test/Combinatorics' created\n",
      "Folder --> '../data/classification/train/Geometry' created\n",
      "Folder --> '../data/classification/test/Geometry' created\n",
      "Folder --> '../data/classification/train/Number Theory' created\n",
      "Folder --> '../data/classification/test/Number Theory' created\n"
     ]
    }
   ],
   "source": [
    "algebra_combin_geomet_nt = [algebra, combin, geomet, nt]\n",
    "\n",
    "train_path = \"../data/classification/train\"\n",
    "test_path = \"../data/classification/test\"\n",
    "create_folder(train_path)\n",
    "create_folder(test_path)\n",
    "\n",
    "for each in algebra_combin_geomet_nt:\n",
    "    train, test = train_test_split(each, test_size=test_size, random_state=42)\n",
    "    \n",
    "    current_label = str(list(each['label'])[0])\n",
    "    current_path_train, current_path_test = f\"{train_path}/{current_label}\", f\"{test_path}/{current_label}\"\n",
    "    create_folder(current_path_train)\n",
    "    create_folder(current_path_test)\n",
    "    \n",
    "    train = train.to_dict('records')\n",
    "    for i in range(len(train)):\n",
    "        id_key = str(train[i]['id_key'])\n",
    "        string = train[i]['post_canonical']\n",
    "        string_to_txt(\n",
    "            path=current_path_train, \n",
    "            file_name=id_key, \n",
    "            string=string\n",
    "        )\n",
    "\n",
    "    test = test.to_dict('records')\n",
    "    for j in range(len(test)):\n",
    "        id_key = str(test[j]['id_key'])\n",
    "        string = test[j]['post_canonical']\n",
    "        string_to_txt(\n",
    "            path=current_path_test, \n",
    "            file_name=id_key, \n",
    "            string=string\n",
    "        )\n"
   ]
  },
  {
   "cell_type": "code",
   "execution_count": null,
   "metadata": {},
   "outputs": [],
   "source": []
  }
 ],
 "metadata": {
  "kernelspec": {
   "display_name": "aops_tenflow",
   "language": "python",
   "name": "python3"
  },
  "language_info": {
   "codemirror_mode": {
    "name": "ipython",
    "version": 3
   },
   "file_extension": ".py",
   "mimetype": "text/x-python",
   "name": "python",
   "nbconvert_exporter": "python",
   "pygments_lexer": "ipython3",
   "version": "3.9.12"
  }
 },
 "nbformat": 4,
 "nbformat_minor": 2
}
