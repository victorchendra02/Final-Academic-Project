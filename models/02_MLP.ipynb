{
 "cells": [
  {
   "cell_type": "code",
   "execution_count": 6,
   "metadata": {},
   "outputs": [],
   "source": [
    "import numpy as np\n",
    "import pandas as pd\n",
    "from sklearn.feature_extraction.text import TfidfVectorizer\n",
    "from sklearn.neural_network import MLPClassifier\n",
    "from sklearn.neural_network import MLPRegressor\n",
    "from sklearn.pipeline import make_pipeline\n",
    "from sklearn.model_selection import train_test_split\n",
    "from sklearn.metrics import classification_report\n",
    "\n",
    "from sklearn.metrics import mean_absolute_error, mean_squared_error, r2_score\n",
    "from sklearn.metrics import accuracy_score\n",
    "\n",
    "# Read dataset\n",
    "temp1 = pd.read_csv('egmo_combined.csv')\n",
    "temp2 = pd.read_csv('imo_combined.csv')\n",
    "df = pd.concat([temp1, temp2], axis=0)\n",
    "df.reset_index(drop=True, inplace=True)\n",
    "\n",
    "df = df.sample(frac=1)\n",
    "df.reset_index(drop=True, inplace=True)\n",
    "\n",
    "df.shape"
   ]
  },
  {
   "cell_type": "code",
   "execution_count": null,
   "metadata": {},
   "outputs": [],
   "source": [
    "X, y = df[\"post_canonical\"], df[\"score\"]\n",
    "X_train, X_test, y_train, y_test = train_test_split(X, y, test_size=0.02, random_state=42)\n",
    "\n",
    "# Creating a pipeline with TF-IDF vectorizer and MLP classifier\n",
    "clf = make_pipeline(\n",
    "    TfidfVectorizer(),\n",
    "    MLPRegressor(\n",
    "        hidden_layer_sizes=(300,), \n",
    "        activation=\"relu\",\n",
    "        solver=\"adam\",\n",
    "        alpha=0.0001,\n",
    "        learning_rate_init=0.0001,\n",
    "        max_iter=1000, \n",
    "        random_state=42)\n",
    ")\n",
    "\n",
    "# Training the classifier\n",
    "clf.fit(X_train, y_train)\n",
    "\n",
    "# Predicting labels for the test set\n",
    "y_pred = clf.predict(X_test)\n",
    "\n",
    "# Evaluating the model\n",
    "# print(classification_report(y_test, y_pred))\n"
   ]
  },
  {
   "cell_type": "code",
   "execution_count": 17,
   "metadata": {},
   "outputs": [
    {
     "name": "stdout",
     "output_type": "stream",
     "text": [
      "MAE: 2.6435426444337145\n",
      "MSE: 10.605275256525001\n",
      "Root Mean Squared Error: 3.2565741595309943\n",
      "R-squared: -0.7990747175265558\n",
      "\n",
      "Percentage of Regression Performance: 77.90486935887131 %\n"
     ]
    }
   ],
   "source": [
    "mae = mean_absolute_error(y_test, y_pred)\n",
    "mse = mean_squared_error(y_test, y_pred)\n",
    "rmse = np.sqrt(mse)\n",
    "r2 = r2_score(y_test, y_pred)\n",
    "\n",
    "print(\"MAE:\", mae)\n",
    "print(\"MSE:\", mse)\n",
    "print(\"Root Mean Squared Error:\", rmse)\n",
    "print(\"R-squared:\", r2)\n",
    "\n",
    "percentage_performance = 100 - (mse / (sum(y_test) / len(y_test))) * 10\n",
    "print(\"\\nPercentage of Regression Performance:\", percentage_performance, \"%\")"
   ]
  },
  {
   "cell_type": "code",
   "execution_count": 23,
   "metadata": {},
   "outputs": [
    {
     "name": "stdout",
     "output_type": "stream",
     "text": [
      "[4.0625, 7.012987012987013, 2.21483942414175, 1.5102040816326523, 7.894345238095238, 0.8333333333333337, 6.555023923444976, 7.405741957800069, 5.706666666666667, 4.802604802604803]\n",
      "[5.0220357547388295, 5.289297656301426, 7.955672357085305, 3.0113522190867505, 4.858094436160839, 6.957863219149323, 3.17744314262454, 6.332957679684216, 8.471576569636623, 4.93676941546324]\n"
     ]
    }
   ],
   "source": [
    "print(f\"{list(y_test)}\\n{list(y_pred)}\")"
   ]
  },
  {
   "cell_type": "code",
   "execution_count": null,
   "metadata": {},
   "outputs": [],
   "source": []
  }
 ],
 "metadata": {
  "kernelspec": {
   "display_name": "artofproblemsolving",
   "language": "python",
   "name": "python3"
  },
  "language_info": {
   "codemirror_mode": {
    "name": "ipython",
    "version": 3
   },
   "file_extension": ".py",
   "mimetype": "text/x-python",
   "name": "python",
   "nbconvert_exporter": "python",
   "pygments_lexer": "ipython3",
   "version": "3.9.12"
  }
 },
 "nbformat": 4,
 "nbformat_minor": 2
}
