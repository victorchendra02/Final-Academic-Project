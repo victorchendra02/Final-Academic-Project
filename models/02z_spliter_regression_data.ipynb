{
 "cells": [
  {
   "cell_type": "markdown",
   "metadata": {},
   "source": [
    "Split train-test"
   ]
  },
  {
   "cell_type": "code",
   "execution_count": 1,
   "metadata": {},
   "outputs": [
    {
     "name": "stderr",
     "output_type": "stream",
     "text": [
      "c:\\Users\\victo\\anaconda3\\envs\\aops_tenflow\\lib\\site-packages\\bs4\\__init__.py:435: MarkupResemblesLocatorWarning: The input looks more like a filename than markup. You may want to open this file and pass the filehandle into Beautiful Soup.\n",
      "  warnings.warn(\n",
      "c:\\Users\\victo\\anaconda3\\envs\\aops_tenflow\\lib\\site-packages\\bs4\\__init__.py:435: MarkupResemblesLocatorWarning: The input looks more like a filename than markup. You may want to open this file and pass the filehandle into Beautiful Soup.\n",
      "  warnings.warn(\n",
      "c:\\Users\\victo\\anaconda3\\envs\\aops_tenflow\\lib\\site-packages\\bs4\\__init__.py:435: MarkupResemblesLocatorWarning: The input looks more like a filename than markup. You may want to open this file and pass the filehandle into Beautiful Soup.\n",
      "  warnings.warn(\n",
      "c:\\Users\\victo\\anaconda3\\envs\\aops_tenflow\\lib\\site-packages\\bs4\\__init__.py:435: MarkupResemblesLocatorWarning: The input looks more like a filename than markup. You may want to open this file and pass the filehandle into Beautiful Soup.\n",
      "  warnings.warn(\n",
      "c:\\Users\\victo\\anaconda3\\envs\\aops_tenflow\\lib\\site-packages\\bs4\\__init__.py:435: MarkupResemblesLocatorWarning: The input looks more like a filename than markup. You may want to open this file and pass the filehandle into Beautiful Soup.\n",
      "  warnings.warn(\n"
     ]
    }
   ],
   "source": [
    "import pandas as pd\n",
    "from utils.preprocessing_text import Preprocess\n",
    "from sklearn.model_selection import train_test_split\n",
    "\n",
    "\n",
    "def split_and_save_data_for_regression_train_test_val_(df, path_to_save, test_size=0.2, val_size=0.1, random_state=42):\n",
    "    train, test = train_test_split(df, test_size=test_size, random_state=random_state)\n",
    "    train, val = train_test_split(train, test_size=val_size, random_state=random_state)\n",
    "    \n",
    "    train.to_csv(f\"{path_to_save}train.csv\", index=False)\n",
    "    test.to_csv(f\"{path_to_save}test.csv\", index=False)\n",
    "    val.to_csv(f\"{path_to_save}val.csv\", index=False)\n",
    "\n",
    "    print(f\"\\nSuccessfully save in: '{path_to_save}'\")\n",
    "    print(f\"{'n':>8s} {'train':>8s} {'test':>8s} {'val':>8s}\")\n",
    "    print(f\"{str(df.shape[0]):>8s} {str(train.shape[0]):>8s} {str(test.shape[0]):>8s} {str(val.shape[0]):>8s}\")\n",
    "\n",
    "def preapare_and_load_dataset(csv_file) ->pd.DataFrame:\n",
    "    df = pd.read_csv(csv_file)\n",
    "    df['post_canonical'] = df['post_rendered'].apply(Preprocess().fit)\n",
    "    df = df[['post_canonical', 'score', 'level']]\n",
    "    return df\n",
    "\n",
    "apmo_combined =    preapare_and_load_dataset(\"../data/regression/apmo/apmo_combined.csv\")\n",
    "benelux_combined = preapare_and_load_dataset(\"../data/regression/benelux/benelux_combined.csv\")\n",
    "egmo_combined =    preapare_and_load_dataset(\"../data/regression/egmo/egmo_combined.csv\")\n",
    "imo_combined =     preapare_and_load_dataset(\"../data/regression/imo/imo_combined.csv\")\n",
    "\n",
    "combined_all =     preapare_and_load_dataset(\"../data/regression/combined_all.csv\")"
   ]
  },
  {
   "cell_type": "code",
   "execution_count": 2,
   "metadata": {},
   "outputs": [
    {
     "name": "stdout",
     "output_type": "stream",
     "text": [
      "\n",
      "Successfully save in: '../data/regression/apmo/'\n",
      "       n    train     test      val\n",
      "      70       50       14        6\n",
      "\n",
      "Successfully save in: '../data/regression/benelux/'\n",
      "       n    train     test      val\n",
      "      60       43       12        5\n",
      "\n",
      "Successfully save in: '../data/regression/egmo/'\n",
      "       n    train     test      val\n",
      "      74       53       15        6\n",
      "\n",
      "Successfully save in: '../data/regression/imo/'\n",
      "       n    train     test      val\n",
      "     384      276       77       31\n",
      "\n",
      "Successfully save in: '../data/regression/'\n",
      "       n    train     test      val\n",
      "     588      423      118       47\n"
     ]
    }
   ],
   "source": [
    "split_and_save_data_for_regression_train_test_val_(apmo_combined, \"../data/regression/apmo/\", test_size=0.2, val_size=0.1, random_state=42)\n",
    "split_and_save_data_for_regression_train_test_val_(benelux_combined, \"../data/regression/benelux/\", test_size=0.2, val_size=0.1, random_state=42)\n",
    "split_and_save_data_for_regression_train_test_val_(egmo_combined, \"../data/regression/egmo/\", test_size=0.2, val_size=0.1, random_state=42)\n",
    "split_and_save_data_for_regression_train_test_val_(imo_combined, \"../data/regression/imo/\", test_size=0.2, val_size=0.1, random_state=42)\n",
    "\n",
    "split_and_save_data_for_regression_train_test_val_(combined_all, \"../data/regression/\", test_size=0.2, val_size=0.1, random_state=42)"
   ]
  },
  {
   "cell_type": "code",
   "execution_count": null,
   "metadata": {},
   "outputs": [],
   "source": []
  }
 ],
 "metadata": {
  "kernelspec": {
   "display_name": "aops_tenflow",
   "language": "python",
   "name": "python3"
  },
  "language_info": {
   "codemirror_mode": {
    "name": "ipython",
    "version": 3
   },
   "file_extension": ".py",
   "mimetype": "text/x-python",
   "name": "python",
   "nbconvert_exporter": "python",
   "pygments_lexer": "ipython3",
   "version": "3.9.12"
  }
 },
 "nbformat": 4,
 "nbformat_minor": 2
}
