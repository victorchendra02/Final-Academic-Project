{
 "cells": [
  {
   "cell_type": "markdown",
   "metadata": {},
   "source": [
    "Conda env: `aops_tenflow`"
   ]
  },
  {
   "cell_type": "code",
   "execution_count": 1,
   "metadata": {},
   "outputs": [
    {
     "name": "stderr",
     "output_type": "stream",
     "text": [
      "c:\\Users\\IBDA\\.conda\\envs\\victor_aops_tenflow\\lib\\site-packages\\tensorflow_addons\\utils\\tfa_eol_msg.py:23: UserWarning: \n",
      "\n",
      "TensorFlow Addons (TFA) has ended development and introduction of new features.\n",
      "TFA has entered a minimal maintenance and release mode until a planned end of life in May 2024.\n",
      "Please modify downstream libraries to take dependencies from other repositories in our TensorFlow community (e.g. Keras, Keras-CV, and Keras-NLP). \n",
      "\n",
      "For more information see: https://github.com/tensorflow/addons/issues/2807 \n",
      "\n",
      "  warnings.warn(\n",
      "c:\\Users\\IBDA\\.conda\\envs\\victor_aops_tenflow\\lib\\site-packages\\tensorflow_addons\\utils\\ensure_tf_install.py:53: UserWarning: Tensorflow Addons supports using Python ops for all Tensorflow versions above or equal to 2.12.0 and strictly below 2.15.0 (nightly versions are not supported). \n",
      " The versions of TensorFlow you are currently using is 2.10.1 and is not supported. \n",
      "Some things might work, some things might not.\n",
      "If you were to encounter a bug, do not file an issue.\n",
      "If you want to make sure you're using a tested and supported configuration, either change the TensorFlow version or the TensorFlow Addons's version. \n",
      "You can find the compatibility matrix in TensorFlow Addon's readme:\n",
      "https://github.com/tensorflow/addons\n",
      "  warnings.warn(\n"
     ]
    }
   ],
   "source": [
    "import tensorflow as tf\n",
    "import tensorflow_hub as hub\n",
    "import tensorflow_text as text\n",
    "from official.nlp import optimization  # to create AdamW optimizer\n",
    "from time import perf_counter\n",
    "\n",
    "import numpy as np\n",
    "import pandas as pd\n",
    "import matplotlib.pyplot as plt\n",
    "\n",
    "from utils.utils_for_classification import classification_evaluation\n",
    "tf.get_logger().setLevel('ERROR')\n",
    "\n",
    "AUTOTUNE = tf.data.AUTOTUNE\n",
    "batch_size = 16\n",
    "\n",
    "epochs = 8\n",
    "learning_rate = 1e-6\n"
   ]
  },
  {
   "cell_type": "markdown",
   "metadata": {},
   "source": [
    "## Load Dataset"
   ]
  },
  {
   "cell_type": "code",
   "execution_count": 2,
   "metadata": {},
   "outputs": [
    {
     "name": "stdout",
     "output_type": "stream",
     "text": [
      "Found 2524 files belonging to 4 classes.\n",
      "Found 703 files belonging to 4 classes.\n",
      "Found 283 files belonging to 4 classes.\n"
     ]
    }
   ],
   "source": [
    "train_ds_ = tf.keras.utils.text_dataset_from_directory('../data/classification/train', batch_size=batch_size)\n",
    "train_ds = train_ds_.cache().prefetch(buffer_size=AUTOTUNE)\n",
    "\n",
    "test_ds = tf.keras.utils.text_dataset_from_directory('../data/classification/test', batch_size=batch_size)\n",
    "test_ds = test_ds.cache().prefetch(buffer_size=AUTOTUNE)\n",
    "\n",
    "val_ds = tf.keras.utils.text_dataset_from_directory('../data/classification/val', batch_size=batch_size)\n",
    "val_ds = val_ds.cache().prefetch(buffer_size=AUTOTUNE)\n",
    "\n",
    "class_names = train_ds_.class_names\n",
    "\n",
    "# Map string labels to integer indices\n",
    "label_processor = tf.keras.layers.StringLookup(\n",
    "    vocabulary=['Algebra', 'Combinatorics', 'Geometry', 'Number Theory'],\n",
    "    mask_token=None  # Treats unknown tokens as missing values\n",
    ")\n",
    "\n",
    "train_labels = train_ds.map(lambda text, label: label_processor(label))\n",
    "test_labels = test_ds.map(lambda text, label: label_processor(label))\n",
    "val_labels = val_ds.map(lambda text, label: label_processor(label))\n"
   ]
  },
  {
   "cell_type": "markdown",
   "metadata": {},
   "source": [
    "## Modeling"
   ]
  },
  {
   "cell_type": "code",
   "execution_count": 3,
   "metadata": {},
   "outputs": [],
   "source": [
    "class ClassifierModel:\n",
    "    def __init__(self, tfhub_preprocess, tfhub_encoder, seq_length=512):\n",
    "        self.tfhub_preprocess = tfhub_preprocess\n",
    "        self.tfhub_encoder = tfhub_encoder\n",
    "        self.seq_length = seq_length\n",
    "        self.model = self.__build_model()\n",
    "        self.history = None\n",
    "        \n",
    "        self.train_ds = None\n",
    "        self.validation_data = None\n",
    "        self.epochs = None\n",
    "        self.learning_rate = None\n",
    "        self.optimizer_type = None\n",
    "        self.loss = None\n",
    "        self.metrics = None\n",
    "        self.optimizer = None\n",
    "        self.__is_compiled = False\n",
    "        \n",
    "        self.__is_trained = False\n",
    "\n",
    "        self.training_time = None\n",
    "\n",
    "    def __build_model(self):\n",
    "        # Step 1: Define text input layer\n",
    "        text_input = tf.keras.layers.Input(shape=(), dtype=tf.string, name='text')\n",
    "        \n",
    "        # Step 2: Tokenize batches of text inputs\n",
    "        bert_preprocess = hub.load(self.tfhub_preprocess)\n",
    "        tokenize = hub.KerasLayer(bert_preprocess.tokenize)\n",
    "        tokenized_input = tokenize(text_input)\n",
    "        \n",
    "        # Step 3: Pack input sequences for the Transformer encoder\n",
    "        bert_pack_inputs = hub.KerasLayer(\n",
    "            bert_preprocess.bert_pack_inputs,\n",
    "            arguments=dict(seq_length=self.seq_length))\n",
    "        encoder_inputs = bert_pack_inputs([tokenized_input])\n",
    "        \n",
    "        # Load BERT encoder\n",
    "        encoder = hub.KerasLayer(self.tfhub_encoder, trainable=True, name='BERT_encoder')\n",
    "        # Pass encoder inputs through BERT encoder\n",
    "        outputs = encoder(encoder_inputs)\n",
    "\n",
    "        # Define classifier layers\n",
    "        net = outputs['pooled_output']\n",
    "        net = tf.keras.layers.Dropout(0.1)(net)\n",
    "        net = tf.keras.layers.Dense(512, activation='relu')(net)  # Additional dense layer\n",
    "        net = tf.keras.layers.Dropout(0.1)(net)\n",
    "        net = tf.keras.layers.Dense(256, activation='relu')(net)  # Additional dense layer\n",
    "        net = tf.keras.layers.Dropout(0.1)(net)\n",
    "        net = tf.keras.layers.Dense(128, activation='relu')(net)  # Additional dense layer\n",
    "        net = tf.keras.layers.Dropout(0.1)(net)\n",
    "        net = tf.keras.layers.Dense(4, activation='softmax', name='classifier')(net)\n",
    "        \n",
    "        return tf.keras.Model(text_input, net)\n",
    "    \n",
    "    def compile_model(\n",
    "        self, \n",
    "        train_ds, \n",
    "        validation_data,\n",
    "        epochs, \n",
    "        learning_rate, \n",
    "        optimizer_type='adamw', \n",
    "        loss=tf.keras.losses.sparse_categorical_crossentropy,   # Assuming you have integer labels\n",
    "        metrics=['accuracy']):\n",
    "        \n",
    "        self.train_ds = train_ds\n",
    "        self.validation_data = validation_data\n",
    "        self.epochs = epochs\n",
    "        self.learning_rate = learning_rate\n",
    "        self.optimizer_type = optimizer_type\n",
    "        self.loss = loss\n",
    "        self.metrics = metrics\n",
    "        \n",
    "        steps_per_epoch = tf.data.experimental.cardinality(self.train_ds).numpy()\n",
    "        num_train_steps = steps_per_epoch * self.epochs\n",
    "        optimizer = optimization.create_optimizer(\n",
    "            init_lr=self.learning_rate,\n",
    "            num_train_steps=num_train_steps,\n",
    "            num_warmup_steps=int(0.1*num_train_steps),\n",
    "            optimizer_type=self.optimizer_type\n",
    "        )\n",
    "        self.optimizer= optimizer\n",
    "        \n",
    "        # Comple model\n",
    "        self.model.compile(optimizer=self.optimizer, loss=self.loss, metrics=self.metrics)\n",
    "        self.__is_compiled = True\n",
    "    \n",
    "    def train(self):\n",
    "        if self.__is_compiled is False: raise Warning(\"Model is not compiled yet\")\n",
    "        \n",
    "        print(f\"Model       : {self.tfhub_encoder}\")\n",
    "        print(f\"Preprocessor: {self.tfhub_preprocess}\\n\")\n",
    "\n",
    "        print(f\"epochs       : {self.epochs}\")\n",
    "        print(f\"learning_rate: {self.learning_rate}\\n\")\n",
    "\n",
    "        start = perf_counter()\n",
    "        history = self.model.fit(\n",
    "            self.train_ds, \n",
    "            validation_data=self.validation_data, \n",
    "            epochs=self.epochs\n",
    "            )\n",
    "        end = perf_counter()\n",
    "        print(f\"\\nTotal training time: {end-start:.2f}s\")\n",
    "        \n",
    "        self.training_time = end-start\n",
    "        self.history = history.history\n",
    "        self.__is_trained = True\n",
    "        return history\n",
    "    \n",
    "    def evaluate_test(self, test_ds):\n",
    "        if self.__is_trained is False: raise Warning(\"Model is not trained yet\")\n",
    "\n",
    "        self.model.evaluate(test_ds)\n",
    "\n",
    "        X_test, y_actual_string, y_actual_mapped = [], [], []\n",
    "        for text_, label_ in test_ds:\n",
    "            text_, label_ = list(text_.numpy()), list(label_.numpy())\n",
    "            y_actual_mapped += label_\n",
    "            for i, item in enumerate(label_):\n",
    "                if item == 0:\n",
    "                    label_[i] = class_names[0]\n",
    "                elif item == 1:\n",
    "                    label_[i] = class_names[1]\n",
    "                elif item == 2:\n",
    "                    label_[i] = class_names[2]\n",
    "                elif item == 3:\n",
    "                    label_[i] = class_names[3]\n",
    "                else: raise ValueError(\"Tidak mungkin error!\")\n",
    "            X_test += text_\n",
    "            y_actual_string += label_\n",
    "\n",
    "        y_actual_mapped = tf.constant(y_actual_mapped)\n",
    "        y_pred = self.predict(X_test)\n",
    "        y_pred_listed = list(y_pred)\n",
    "        for i, item in enumerate(y_pred_listed):\n",
    "            temp = list(item)\n",
    "            if temp.index(max(temp)) == 0: y_pred_listed[i] = class_names[0]\n",
    "            elif temp.index(max(temp)) == 1: y_pred_listed[i] = class_names[1]\n",
    "            elif temp.index(max(temp)) == 2: y_pred_listed[i] = class_names[2]\n",
    "            elif temp.index(max(temp)) == 3: y_pred_listed[i] = class_names[3]\n",
    "            else: raise ValueError(\"Never error!\")\n",
    "\n",
    "        print()\n",
    "        heatmap, report = classification_evaluation(y_actual_string, y_pred_listed)\n",
    "        loss_test = tf.reduce_mean(tf.keras.losses.sparse_categorical_crossentropy(y_actual_mapped, y_pred))\n",
    "        print(f\"loss: {loss_test}\")\n",
    "        heatmap.plot()\n",
    "        plt.show()\n",
    "        \n",
    "        return report, loss_test, heatmap\n",
    "\n",
    "    def plot_training_history_over_time(self, figsize=(14, 4)):\n",
    "        if self.history is None: raise Warning(\"Nothing to plot because model is not trained yet\")\n",
    "        \n",
    "        print(self.history.keys())\n",
    "        print(\"Training history over time\")\n",
    "        \n",
    "        acc = self.history['accuracy']\n",
    "        val_acc = self.history['val_accuracy']\n",
    "        loss = self.history['loss']\n",
    "        val_loss = self.history['val_loss']\n",
    "        epochs = range(1, len(acc) + 1)\n",
    "        \n",
    "        figure, ax = plt.subplots(1, 2, figsize=figsize, layout=\"constrained\")\n",
    "\n",
    "        plt.subplot(1, 2, 1)\n",
    "        plt.plot(epochs, loss, 'r', label='Training loss')  # r is for \"solid red line\"\n",
    "        plt.plot(epochs, val_loss, 'b', label='Validation loss')  # b is for \"solid blue line\"\n",
    "        plt.title('Training and validation loss')\n",
    "        plt.xlabel('Epochs')\n",
    "        plt.ylabel('Loss')\n",
    "        plt.legend()\n",
    "\n",
    "        plt.subplot(1, 2, 2)\n",
    "        plt.plot(epochs, acc, 'r', label='Training acc')\n",
    "        plt.plot(epochs, val_acc, 'b', label='Validation acc')\n",
    "        plt.title('Training and validation accuracy')\n",
    "        plt.xlabel('Epochs')\n",
    "        plt.ylabel('Accuracy')\n",
    "        plt.legend(loc='lower right')\n",
    "\n",
    "    def predict(self, text: list):\n",
    "        \"\"\"\n",
    "            text: should parsed like this --> [\"Your text here!\"]\n",
    "        \"\"\"\n",
    "        return self.model.predict(tf.constant(text))\n",
    "\n",
    "optimizer_type = 'adamw'\n",
    "loss = tf.keras.losses.sparse_categorical_crossentropy\n",
    "metrics = ['accuracy']\n"
   ]
  },
  {
   "cell_type": "code",
   "execution_count": 4,
   "metadata": {},
   "outputs": [],
   "source": [
    "tfhub_map = {\n",
    "    \"BERT-EN-CASED-L-12-H-768-A-12\" : \"https://www.kaggle.com/models/tensorflow/bert/frameworks/TensorFlow2/variations/en-cased-l-12-h-768-a-12/versions/4\",\n",
    "    \"BERT-EN-UNCASED-L-2-H-512-A-8\": \"https://www.kaggle.com/models/tensorflow/bert/TensorFlow2/bert-en-uncased-l-2-h-512-a-8/2\",\n",
    "\n",
    "    \"BERT-EN-CASED-PREPROCESSOR\"  : \"https://www.kaggle.com/models/tensorflow/bert/frameworks/TensorFlow2/variations/en-cased-preprocess/versions/3\",\n",
    "    \"BERT-EN-UNCASED-PREPROCESSOR\": \"https://www.kaggle.com/models/tensorflow/bert/frameworks/TensorFlow2/variations/en-uncased-preprocess/versions/3\",\n",
    "}\n",
    "\n",
    "bert_encoder = \"BERT-EN-UNCASED-L-2-H-512-A-8\"\n",
    "preprocessor = \"BERT-EN-UNCASED-PREPROCESSOR\"\n",
    "classifier_model_1 = ClassifierModel(tfhub_map[preprocessor], tfhub_map[bert_encoder])\n",
    "classifier_model_1.compile_model(train_ds=train_ds,\n",
    "                                 validation_data=val_ds,\n",
    "                                 epochs=epochs, \n",
    "                                 learning_rate=learning_rate, \n",
    "                                 optimizer_type=optimizer_type, \n",
    "                                 loss=loss, \n",
    "                                 metrics=metrics)\n"
   ]
  },
  {
   "cell_type": "code",
   "execution_count": 5,
   "metadata": {},
   "outputs": [
    {
     "name": "stdout",
     "output_type": "stream",
     "text": [
      "Model       : https://www.kaggle.com/models/tensorflow/bert/TensorFlow2/bert-en-uncased-l-2-h-512-a-8/2\n",
      "Preprocessor: https://www.kaggle.com/models/tensorflow/bert/frameworks/TensorFlow2/variations/en-uncased-preprocess/versions/3\n",
      "\n",
      "epochs       : 8\n",
      "learning_rate: 1e-06\n",
      "\n",
      "Epoch 1/8\n",
      "158/158 [==============================] - 17s 83ms/step - loss: 1.4101 - accuracy: 0.2758 - val_loss: 1.3424 - val_accuracy: 0.3322\n",
      "Epoch 2/8\n",
      "158/158 [==============================] - 12s 78ms/step - loss: 1.3606 - accuracy: 0.3162 - val_loss: 1.2815 - val_accuracy: 0.4629\n",
      "Epoch 3/8\n",
      "158/158 [==============================] - 12s 78ms/step - loss: 1.3195 - accuracy: 0.3712 - val_loss: 1.2293 - val_accuracy: 0.5972\n",
      "Epoch 4/8\n",
      "158/158 [==============================] - 12s 78ms/step - loss: 1.2723 - accuracy: 0.4469 - val_loss: 1.1772 - val_accuracy: 0.6608\n",
      "Epoch 5/8\n",
      "158/158 [==============================] - 12s 78ms/step - loss: 1.2377 - accuracy: 0.5012 - val_loss: 1.1389 - val_accuracy: 0.6820\n",
      "Epoch 6/8\n",
      "158/158 [==============================] - 12s 78ms/step - loss: 1.2109 - accuracy: 0.5178 - val_loss: 1.1100 - val_accuracy: 0.6855\n",
      "Epoch 7/8\n",
      "158/158 [==============================] - 12s 78ms/step - loss: 1.1871 - accuracy: 0.5515 - val_loss: 1.0926 - val_accuracy: 0.6890\n",
      "Epoch 8/8\n",
      "158/158 [==============================] - 12s 78ms/step - loss: 1.1757 - accuracy: 0.5586 - val_loss: 1.0872 - val_accuracy: 0.6890\n",
      "\n",
      "Total training time: 103.08s\n"
     ]
    }
   ],
   "source": [
    "classifier_model_1.train()\n",
    "training_time = classifier_model_1.training_time\n"
   ]
  },
  {
   "cell_type": "code",
   "execution_count": 6,
   "metadata": {},
   "outputs": [
    {
     "name": "stdout",
     "output_type": "stream",
     "text": [
      "44/44 [==============================] - 2s 41ms/step - loss: 1.0987 - accuracy: 0.7098\n",
      "22/22 [==============================] - 2s 100ms/step\n",
      "\n",
      "               precision    recall  f1-score   support\n",
      "\n",
      "      Algebra     0.5556    0.8333    0.6667       174\n",
      "Combinatorics     0.8641    0.5633    0.6820       158\n",
      "     Geometry     0.7906    0.9391    0.8585       197\n",
      "Number Theory     0.7714    0.4655    0.5806       174\n",
      "\n",
      "     accuracy                         0.7112       703\n",
      "    macro avg     0.7454    0.7003    0.6969       703\n",
      " weighted avg     0.7442    0.7112    0.7026       703\n",
      "\n",
      "loss: 1.098677396774292\n"
     ]
    },
    {
     "data": {
      "image/png": "[encoded data removed]",
      "text/plain": [
       "<Figure size 432x288 with 2 Axes>"
      ]
     },
     "metadata": {
      "needs_background": "light"
     },
     "output_type": "display_data"
    }
   ],
   "source": [
    "report, loss, heatmap = classifier_model_1.evaluate_test(test_ds)\n",
    "accuracy, precision, recall, f1 = report['accuracy'], report['weighted avg']['precision'], report['weighted avg']['recall'], report['weighted avg']['f1-score']\n"
   ]
  },
  {
   "cell_type": "code",
   "execution_count": 7,
   "metadata": {},
   "outputs": [
    {
     "name": "stdout",
     "output_type": "stream",
     "text": [
      "xx,classification,BERT-EN-UNCASED-L-2-H-512-A-8,16,8,1e-06,adamw,tf.keras.losses.sparse_categorical_crossentropy,1.098677396774292,0.7112375533428165,0.7441925649897034,0.7112375533428165,0.7025681035603188,103.0834864\n"
     ]
    }
   ],
   "source": [
    "print(f\"xx,classification,{bert_encoder},{batch_size},{epochs},{learning_rate},{optimizer_type},tf.keras.losses.sparse_categorical_crossentropy,{loss},{accuracy},{precision},{recall},{f1},{training_time}\")\n"
   ]
  },
  {
   "cell_type": "code",
   "execution_count": 8,
   "metadata": {},
   "outputs": [],
   "source": [
    "# classifier_model_1.plot_training_history_over_time(figsize=(14, 4))\n"
   ]
  },
  {
   "cell_type": "code",
   "execution_count": 9,
   "metadata": {},
   "outputs": [],
   "source": [
    "# # Save model\n",
    "# temp_path1 = \"saved_models/classification/BERT-CASED-L-12-H-768-A-12\"\n",
    "# classifier_model_1.model.save(temp_path1)\n"
   ]
  },
  {
   "cell_type": "code",
   "execution_count": 1,
   "metadata": {},
   "outputs": [
    {
     "name": "stdout",
     "output_type": "stream",
     "text": [
      "Log Loss1: 0.49538768231868746\n",
      "Log Loss2: 0.4953877\n"
     ]
    }
   ],
   "source": [
    "from sklearn.metrics import log_loss\n",
    "from tensorflow.keras.losses import sparse_categorical_crossentropy\n",
    "from tensorflow import constant\n",
    "from tensorflow import reduce_mean\n",
    "\n",
    "\n",
    "y_true = constant([0, 1, 2, 0, 1])\n",
    "\n",
    "y_pred_proba = constant([\n",
    "    [0.7, 0.2, 0.1],\n",
    "    [0.1, 0.6, 0.3],\n",
    "    [0.2, 0.3, 0.5],\n",
    "    [0.8, 0.1, 0.1],\n",
    "    [0.3, 0.5, 0.2]\n",
    "])\n",
    "\n",
    "loss1 = log_loss(y_true, y_pred_proba)\n",
    "loss2 = reduce_mean(sparse_categorical_crossentropy(y_true, y_pred_proba)).numpy()\n",
    "\n",
    "\n",
    "print(\"Log Loss1:\", loss1)\n",
    "print(\"Log Loss2:\", loss2)\n"
   ]
  },
  {
   "cell_type": "code",
   "execution_count": null,
   "metadata": {},
   "outputs": [],
   "source": []
  }
 ],
 "metadata": {
  "kernelspec": {
   "display_name": "aops_tf",
   "language": "python",
   "name": "python3"
  },
  "language_info": {
   "codemirror_mode": {
    "name": "ipython",
    "version": 3
   },
   "file_extension": ".py",
   "mimetype": "text/x-python",
   "name": "python",
   "nbconvert_exporter": "python",
   "pygments_lexer": "ipython3",
   "version": "3.9.12"
  }
 },
 "nbformat": 4,
 "nbformat_minor": 2
}
