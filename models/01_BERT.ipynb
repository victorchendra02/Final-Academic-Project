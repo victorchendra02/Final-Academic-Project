{
 "cells": [
  {
   "cell_type": "markdown",
   "metadata": {},
   "source": [
    "Conda env: `aops_tenflow`"
   ]
  },
  {
   "cell_type": "code",
   "execution_count": 1,
   "metadata": {},
   "outputs": [
    {
     "name": "stderr",
     "output_type": "stream",
     "text": [
      "c:\\Users\\IBDA\\.conda\\envs\\victor_aops_tenflow\\lib\\site-packages\\tensorflow_addons\\utils\\tfa_eol_msg.py:23: UserWarning: \n",
      "\n",
      "TensorFlow Addons (TFA) has ended development and introduction of new features.\n",
      "TFA has entered a minimal maintenance and release mode until a planned end of life in May 2024.\n",
      "Please modify downstream libraries to take dependencies from other repositories in our TensorFlow community (e.g. Keras, Keras-CV, and Keras-NLP). \n",
      "\n",
      "For more information see: https://github.com/tensorflow/addons/issues/2807 \n",
      "\n",
      "  warnings.warn(\n",
      "c:\\Users\\IBDA\\.conda\\envs\\victor_aops_tenflow\\lib\\site-packages\\tensorflow_addons\\utils\\ensure_tf_install.py:53: UserWarning: Tensorflow Addons supports using Python ops for all Tensorflow versions above or equal to 2.12.0 and strictly below 2.15.0 (nightly versions are not supported). \n",
      " The versions of TensorFlow you are currently using is 2.10.1 and is not supported. \n",
      "Some things might work, some things might not.\n",
      "If you were to encounter a bug, do not file an issue.\n",
      "If you want to make sure you're using a tested and supported configuration, either change the TensorFlow version or the TensorFlow Addons's version. \n",
      "You can find the compatibility matrix in TensorFlow Addon's readme:\n",
      "https://github.com/tensorflow/addons\n",
      "  warnings.warn(\n"
     ]
    }
   ],
   "source": [
    "import os\n",
    "import shutil\n",
    "from time import perf_counter\n",
    "\n",
    "import tensorflow as tf\n",
    "import tensorflow_hub as hub\n",
    "import tensorflow_text as text\n",
    "from official.nlp import optimization  # to create AdamW optimizer\n",
    "\n",
    "import numpy as np\n",
    "import pandas as pd\n",
    "import matplotlib.pyplot as plt\n",
    "\n",
    "from utils.util import create_folder\n",
    "from utils.util import save_pkl, load_pkl\n",
    "from sklearn.metrics import precision_score, recall_score, f1_score\n",
    "from sklearn.metrics import precision_recall_fscore_support\n",
    "\n",
    "from utils.utils_for_classification import classification_evaluation\n",
    "\n",
    "tf.get_logger().setLevel('ERROR')\n"
   ]
  },
  {
   "cell_type": "markdown",
   "metadata": {},
   "source": [
    "## Load Dataset"
   ]
  },
  {
   "cell_type": "code",
   "execution_count": 2,
   "metadata": {},
   "outputs": [
    {
     "name": "stdout",
     "output_type": "stream",
     "text": [
      "Found 2524 files belonging to 4 classes.\n",
      "Found 703 files belonging to 4 classes.\n",
      "Found 283 files belonging to 4 classes.\n"
     ]
    }
   ],
   "source": [
    "AUTOTUNE = tf.data.AUTOTUNE  # Output: -1 --> <class 'int'>\n",
    "batch_size = 16\n",
    "\n",
    "\n",
    "train_ds_ = tf.keras.utils.text_dataset_from_directory('../data/classification/train', batch_size=batch_size)\n",
    "train_ds = train_ds_.cache().prefetch(buffer_size=AUTOTUNE)\n",
    "\n",
    "test_ds = tf.keras.utils.text_dataset_from_directory('../data/classification/test', batch_size=batch_size)\n",
    "test_ds = test_ds.cache().prefetch(buffer_size=AUTOTUNE)\n",
    "\n",
    "val_ds = tf.keras.utils.text_dataset_from_directory('../data/classification/val', batch_size=batch_size)\n",
    "val_ds = val_ds.cache().prefetch(buffer_size=AUTOTUNE)\n",
    "\n",
    "class_names = train_ds_.class_names"
   ]
  },
  {
   "cell_type": "code",
   "execution_count": 3,
   "metadata": {},
   "outputs": [],
   "source": [
    "# Map string labels to integer indices\n",
    "label_processor = tf.keras.layers.StringLookup(\n",
    "    vocabulary=['Algebra', 'Combinatorics', 'Geometry', 'Number Theory'],\n",
    "    mask_token=None  # Treats unknown tokens as missing values\n",
    ")\n",
    "\n",
    "train_labels = train_ds.map(lambda text, label: label_processor(label))\n",
    "test_labels = test_ds.map(lambda text, label: label_processor(label))\n",
    "val_labels = val_ds.map(lambda text, label: label_processor(label))\n"
   ]
  },
  {
   "cell_type": "markdown",
   "metadata": {},
   "source": [
    "## Preview"
   ]
  },
  {
   "cell_type": "code",
   "execution_count": 4,
   "metadata": {},
   "outputs": [
    {
     "name": "stdout",
     "output_type": "stream",
     "text": [
      "Text: b'Find all sets of four real numbers x_1, x_2, x_3, x_4 such that the sum of any one and the product of the other three is equal to 2.'\n",
      "Label : 0 (Algebra)\n",
      "Text: b'Determine the smallest possible value of | A_{1} cup A_{2} cup A_{3} cup A_{4} cup A_{5} |, where A_{1}, A_{2}, A_{3}, A_{4}, A_{5} sets simultaneously satisfying the following conditions: (i) | A_{i} cap A_{j} | = 1 for all 1 leq i < j leq 5, i.e. any two distinct sets contain exactly one element in common; (ii) A_{i} cap A_{j} cap A_{k} cap A_{l} = varnothing for all 1 leq i<j<k<l leq 5, i.e. any four different sets contain no common element. Where | S | means the number of elements of S.'\n",
      "Label : 1 (Combinatorics)\n",
      "____________________________________________________________________________________________________________________________________________________________________________________________________________________________________________________________________________________________________________________________________________________________________________________________________________________________________________________________________________________________________________________\n",
      "Text: b'Fix an integer n ge 2. A fairy chess piece leopard may move one cell up, or one cell to the right, or one cell diagonally down-left. A leopard is placed onto some cell of a 3n times 3n chequer board. The leopard makes several moves, never visiting a cell twice, and comes back to the starting cell. Determine the largest possible number of moves the leopard could have made. Dmitry Khramtsov, Russia'\n",
      "Label : 1 (Combinatorics)\n",
      "Text: b'How many ways are there to remove an 11 times11 square from a 2011 times2011 square so that the remaining part can be tiled with dominoes (1 times 2 rectangles)?'\n",
      "Label : 1 (Combinatorics)\n",
      "____________________________________________________________________________________________________________________________________________________________________________________________________________________________________________________________________________________________________________________________________________________________________________________________________________________________________________________________________________________________________________________\n"
     ]
    }
   ],
   "source": [
    "for text_batch, label_batch in train_ds.take(2):\n",
    "    for i in range(2):\n",
    "        print(f'Text: {text_batch.numpy()[i]}')\n",
    "        label = label_batch.numpy()[i]\n",
    "        print(f'Label : {label} ({class_names[label]})')\n",
    "    print(f\"{'_'*500}\")\n"
   ]
  },
  {
   "cell_type": "markdown",
   "metadata": {},
   "source": [
    "Example preprocessor"
   ]
  },
  {
   "cell_type": "code",
   "execution_count": 4,
   "metadata": {},
   "outputs": [
    {
     "name": "stdout",
     "output_type": "stream",
     "text": [
      "Keys       : ['input_type_ids', 'input_word_ids', 'input_mask']\n",
      "Shape      : (1, 512)\n",
      "Word Ids   : [  101   138  1934  2443  1144 10351  4713   117  1199  7608  1104  2292]\n",
      "Input Mask : [1 1 1 1 1 1 1 1 1 1 1 1]\n",
      "Type Ids   : [0 0 0 0 0 0 0 0 0 0 0 0]\n"
     ]
    }
   ],
   "source": [
    "temp = \"https://www.kaggle.com/models/tensorflow/bert/frameworks/TensorFlow2/variations/en-cased-preprocess/versions/3\"\n",
    "\n",
    "text_test = ['A social network has 2019 users, some pairs of whom are friends. Whenever user A is friends with user B, user B is also friends with user A. Events of the following kind may happen repeatedly, one at a time: Three users A, B, and C such that A is friends with both B and C, but B and C are not friends, change their friendship statuses such that B and C are now friends, but A is no longer friends with B, and no longer friends with C. All other friendship statuses are unchanged. Initially, 1010 users have 1009 friends each, and 1009 users have 1010 friends each. Prove that there exists a sequence of such events after which each user is friends with at most one other user. Proposed by Adrian Beker, Croatia']\n",
    "preprocessor = hub.load(temp)\n",
    "text_preprocessed = preprocessor.bert_pack_inputs(\n",
    "    [preprocessor.tokenize(text_test)], \n",
    "    tf.constant(128*4))\n",
    "\n",
    "print(f'Keys       : {list(text_preprocessed.keys())}')\n",
    "print(f'Shape      : {text_preprocessed[\"input_word_ids\"].shape}')\n",
    "print(f'Word Ids   : {text_preprocessed[\"input_word_ids\"][0, :12]}')\n",
    "print(f'Input Mask : {text_preprocessed[\"input_mask\"][0, :12]}')\n",
    "print(f'Type Ids   : {text_preprocessed[\"input_type_ids\"][0, :12]}')\n"
   ]
  },
  {
   "cell_type": "markdown",
   "metadata": {},
   "source": [
    "## Modeling"
   ]
  },
  {
   "cell_type": "code",
   "execution_count": 4,
   "metadata": {},
   "outputs": [],
   "source": [
    "class ClassifierModel:\n",
    "    def __init__(self, tfhub_preprocess, tfhub_encoder, seq_length=512):\n",
    "        self.tfhub_preprocess = tfhub_preprocess\n",
    "        self.tfhub_encoder = tfhub_encoder\n",
    "        self.seq_length = seq_length\n",
    "        self.model = self.__build_model()\n",
    "        self.history = None\n",
    "        \n",
    "        self.train_ds = None\n",
    "        self.validation_data = None\n",
    "        self.epochs = None\n",
    "        self.learning_rate = None\n",
    "        self.optimizer_type = None\n",
    "        self.loss = None\n",
    "        self.metrics = None\n",
    "        self.optimizer = None\n",
    "        self.__is_compiled = False\n",
    "        \n",
    "        self.__is_trained = False\n",
    "\n",
    "    def __build_model(self):\n",
    "        # Step 1: Define text input layer\n",
    "        text_input = tf.keras.layers.Input(shape=(), dtype=tf.string, name='text')\n",
    "        \n",
    "        # Step 2: Tokenize batches of text inputs\n",
    "        bert_preprocess = hub.load(self.tfhub_preprocess)\n",
    "        tokenize = hub.KerasLayer(bert_preprocess.tokenize)\n",
    "        tokenized_input = tokenize(text_input)\n",
    "        \n",
    "        # Step 3: Pack input sequences for the Transformer encoder\n",
    "        bert_pack_inputs = hub.KerasLayer(\n",
    "            bert_preprocess.bert_pack_inputs,\n",
    "            arguments=dict(seq_length=self.seq_length))\n",
    "        encoder_inputs = bert_pack_inputs([tokenized_input])\n",
    "        \n",
    "        # Load BERT encoder\n",
    "        encoder = hub.KerasLayer(self.tfhub_encoder, trainable=True, name='BERT_encoder')\n",
    "        # Pass encoder inputs through BERT encoder\n",
    "        outputs = encoder(encoder_inputs)\n",
    "\n",
    "        # Define classifier layers\n",
    "        net = outputs['pooled_output']\n",
    "        net = tf.keras.layers.Dropout(0.1)(net)\n",
    "        net = tf.keras.layers.Dense(512, activation='relu')(net)  # Additional dense layer\n",
    "        net = tf.keras.layers.Dropout(0.1)(net)\n",
    "        net = tf.keras.layers.Dense(256, activation='relu')(net)  # Additional dense layer\n",
    "        net = tf.keras.layers.Dropout(0.1)(net)\n",
    "        net = tf.keras.layers.Dense(128, activation='relu')(net)  # Additional dense layer\n",
    "        net = tf.keras.layers.Dropout(0.1)(net)\n",
    "        net = tf.keras.layers.Dense(4, activation='softmax', name='classifier')(net)\n",
    "        \n",
    "        return tf.keras.Model(text_input, net)\n",
    "    \n",
    "    def compile_model(\n",
    "        self, \n",
    "        train_ds, \n",
    "        validation_data,\n",
    "        epochs, \n",
    "        learning_rate, \n",
    "        optimizer_type='adamw', \n",
    "        loss=tf.keras.losses.sparse_categorical_crossentropy,   # Assuming you have integer labels\n",
    "        metrics=['accuracy']):\n",
    "        \n",
    "        self.train_ds = train_ds\n",
    "        self.validation_data = validation_data\n",
    "        self.epochs = epochs\n",
    "        self.learning_rate = learning_rate\n",
    "        self.optimizer_type = optimizer_type\n",
    "        self.loss = loss\n",
    "        self.metrics = metrics\n",
    "        \n",
    "        steps_per_epoch = tf.data.experimental.cardinality(self.train_ds).numpy()\n",
    "        num_train_steps = steps_per_epoch * self.epochs\n",
    "        optimizer = optimization.create_optimizer(\n",
    "            init_lr=self.learning_rate,\n",
    "            num_train_steps=num_train_steps,\n",
    "            num_warmup_steps=int(0.1*num_train_steps),\n",
    "            optimizer_type=self.optimizer_type\n",
    "        )\n",
    "        self.optimizer= optimizer\n",
    "        \n",
    "        # Comple model\n",
    "        self.model.compile(optimizer=self.optimizer, loss=self.loss, metrics=self.metrics)\n",
    "        self.__is_compiled = True\n",
    "    \n",
    "    def train(self):\n",
    "        if self.__is_compiled is False: raise Warning(\"Model is not compiled yet\")\n",
    "        \n",
    "        print(f\"Model       : {self.tfhub_encoder}\")\n",
    "        print(f\"Preprocessor: {self.tfhub_preprocess}\\n\")\n",
    "\n",
    "        start = perf_counter()\n",
    "        history = self.model.fit(\n",
    "            self.train_ds, \n",
    "            validation_data=self.validation_data, \n",
    "            epochs=self.epochs\n",
    "            )\n",
    "        end = perf_counter()\n",
    "        print(f\"\\nTotal training time: {end-start:.2f}s\")\n",
    "        \n",
    "        self.history = history.history\n",
    "        self.__is_trained = True\n",
    "        return history\n",
    "    \n",
    "    def evaluate_test(self, test_ds):\n",
    "        if self.__is_trained is False: raise Warning(\"Model is not trained yet\")\n",
    "\n",
    "        result = self.model.evaluate(test_ds)\n",
    "        # loss, accuracy = result['loss'], result['accuracy']\n",
    "        # print(f'Loss     : {loss}')\n",
    "        # print(f'Accuracy : {accuracy}')\n",
    "\n",
    "        X_test, y_actual = [], []\n",
    "        for text_, label_ in test_ds:\n",
    "            text_, label_ = list(text_.numpy()), list(label_.numpy())\n",
    "            for i, item in enumerate(label_):\n",
    "                if item == 0:\n",
    "                    label_[i] = class_names[0]\n",
    "                elif item == 1:\n",
    "                    label_[i] = class_names[1]\n",
    "                elif item == 2:\n",
    "                    label_[i] = class_names[2]\n",
    "                elif item == 3:\n",
    "                    label_[i] = class_names[3]\n",
    "                else: raise ValueError(\"Tidak mungkin error!\")\n",
    "            X_test += text_\n",
    "            y_actual += label_\n",
    "\n",
    "        y_pred = list(self.predict(X_test))\n",
    "        for i, item in enumerate(y_pred):\n",
    "            temp = list(item)\n",
    "            if temp.index(max(temp)) == 0: y_pred[i] = class_names[0]\n",
    "            elif temp.index(max(temp)) == 1: y_pred[i] = class_names[1]\n",
    "            elif temp.index(max(temp)) == 2: y_pred[i] = class_names[2]\n",
    "            elif temp.index(max(temp)) == 3: y_pred[i] = class_names[3]\n",
    "            else: raise ValueError(\"Never error!\")\n",
    "\n",
    "        print()\n",
    "        classification_evaluation(y_actual, y_pred)\n",
    "\n",
    "    def plot_training_history_over_time(self, figsize=(14, 6)):\n",
    "        if self.history is None: raise Warning(\"Nothing to plot because model is not trained yet\")\n",
    "        \n",
    "        print(self.history.keys())\n",
    "        print(\"Training history over time\")\n",
    "        \n",
    "        acc = self.history['accuracy']\n",
    "        val_acc = self.history['val_accuracy']\n",
    "        loss = self.history['loss']\n",
    "        val_loss = self.history['val_loss']\n",
    "        epochs = range(1, len(acc) + 1)\n",
    "        \n",
    "        figure, ax = plt.subplots(1, 2, figsize=figsize, layout=\"constrained\")\n",
    "\n",
    "        plt.subplot(1, 2, 1)\n",
    "        plt.plot(epochs, loss, 'r', label='Training loss')  # r is for \"solid red line\"\n",
    "        plt.plot(epochs, val_loss, 'b', label='Validation loss')  # b is for \"solid blue line\"\n",
    "        plt.title('Training and validation loss')\n",
    "        plt.xlabel('Epochs')\n",
    "        plt.ylabel('Loss')\n",
    "        plt.legend()\n",
    "\n",
    "        plt.subplot(1, 2, 2)\n",
    "        plt.plot(epochs, acc, 'r', label='Training acc')\n",
    "        plt.plot(epochs, val_acc, 'b', label='Validation acc')\n",
    "        plt.title('Training and validation accuracy')\n",
    "        plt.xlabel('Epochs')\n",
    "        plt.ylabel('Accuracy')\n",
    "        plt.legend(loc='lower right')\n",
    "\n",
    "    def predict(self, text: list):\n",
    "        \"\"\"\n",
    "            text: should parsed like this --> [\"Your text here!\"]\n",
    "        \"\"\"\n",
    "        return self.model.predict(tf.constant(text))\n",
    "\n",
    "epochs = 4\n",
    "learning_rate = 1e-4\n",
    "optimizer_type = 'adamw'\n",
    "loss = tf.keras.losses.sparse_categorical_crossentropy\n",
    "metrics = ['accuracy']\n"
   ]
  },
  {
   "cell_type": "markdown",
   "metadata": {},
   "source": [
    "### `CASED` bert_en_cased_l_12_h_768_a_12"
   ]
  },
  {
   "cell_type": "code",
   "execution_count": 5,
   "metadata": {},
   "outputs": [],
   "source": [
    "tfhub_handle_preprocess_1 = \"https://www.kaggle.com/models/tensorflow/bert/frameworks/TensorFlow2/variations/en-cased-preprocess/versions/3\"\n",
    "tfhub_handle_encoder_1 = \"https://www.kaggle.com/models/tensorflow/bert/frameworks/TensorFlow2/variations/en-cased-l-12-h-768-a-12/versions/4\"\n",
    "\n",
    "classifier_model_1 = ClassifierModel(tfhub_handle_preprocess_1, tfhub_handle_encoder_1)\n",
    "classifier_model_1.compile_model(train_ds=train_ds,\n",
    "                                 validation_data=val_ds,\n",
    "                                 epochs=epochs, \n",
    "                                 learning_rate=learning_rate, \n",
    "                                 optimizer_type=optimizer_type, \n",
    "                                 loss=loss, \n",
    "                                 metrics=metrics)\n"
   ]
  },
  {
   "cell_type": "code",
   "execution_count": 6,
   "metadata": {},
   "outputs": [
    {
     "name": "stdout",
     "output_type": "stream",
     "text": [
      "Model       : https://www.kaggle.com/models/tensorflow/bert/frameworks/TensorFlow2/variations/en-cased-l-12-h-768-a-12/versions/4\n",
      "Preprocessor: https://www.kaggle.com/models/tensorflow/bert/frameworks/TensorFlow2/variations/en-cased-preprocess/versions/3\n",
      "\n",
      "Epoch 1/4\n"
     ]
    },
    {
     "name": "stdout",
     "output_type": "stream",
     "text": [
      "158/158 [==============================] - 76s 402ms/step - loss: 0.8579 - accuracy: 0.6236 - val_loss: 1.0454 - val_accuracy: 0.6784\n",
      "Epoch 2/4\n",
      "158/158 [==============================] - 62s 395ms/step - loss: 0.4836 - accuracy: 0.8522 - val_loss: 0.3827 - val_accuracy: 0.8905\n",
      "Epoch 3/4\n",
      "158/158 [==============================] - 63s 397ms/step - loss: 0.3126 - accuracy: 0.9124 - val_loss: 0.3169 - val_accuracy: 0.9223\n",
      "Epoch 4/4\n",
      "158/158 [==============================] - 63s 397ms/step - loss: 0.2164 - accuracy: 0.9445 - val_loss: 0.3592 - val_accuracy: 0.9152\n",
      "\n",
      "Total training time: 264.12s\n"
     ]
    },
    {
     "data": {
      "text/plain": [
       "<keras.callbacks.History at 0x23b14a56940>"
      ]
     },
     "execution_count": 6,
     "metadata": {},
     "output_type": "execute_result"
    }
   ],
   "source": [
    "classifier_model_1.train()\n"
   ]
  },
  {
   "cell_type": "code",
   "execution_count": 7,
   "metadata": {},
   "outputs": [
    {
     "name": "stdout",
     "output_type": "stream",
     "text": [
      "44/44 [==============================] - 6s 130ms/step - loss: 0.4545 - accuracy: 0.8862\n",
      "22/22 [==============================] - 7s 276ms/step\n",
      "\n",
      "Overall model accuracy:\n",
      "Accuracy  = 88.62%\n",
      "Precision = 88.80%\n",
      "Recall    = 88.62%\n",
      "F1-score  = 88.64%\n",
      "\n",
      "Model accuracy for each label:\n",
      "Algebra       = 82.76%\n",
      "Combinatorics = 90.51%\n",
      "Geometry      = 95.43%\n",
      "Number Theory = 85.06%\n"
     ]
    },
    {
     "data": {
      "image/png": "[encoded data removed]",
      "text/plain": [
       "<Figure size 432x288 with 2 Axes>"
      ]
     },
     "metadata": {
      "needs_background": "light"
     },
     "output_type": "display_data"
    },
    {
     "name": "stdout",
     "output_type": "stream",
     "text": [
      "               precision    recall  f1-score   support\n",
      "\n",
      "      Algebra     0.8889    0.8276    0.8571       174\n",
      "Combinatorics     0.8218    0.9051    0.8614       158\n",
      "     Geometry     0.9691    0.9543    0.9616       197\n",
      "Number Theory     0.8555    0.8506    0.8530       174\n",
      "\n",
      "     accuracy                         0.8862       703\n",
      "    macro avg     0.8838    0.8844    0.8833       703\n",
      " weighted avg     0.8880    0.8862    0.8864       703\n",
      "\n"
     ]
    }
   ],
   "source": [
    "classifier_model_1.evaluate_test(test_ds)\n"
   ]
  },
  {
   "cell_type": "code",
   "execution_count": 14,
   "metadata": {},
   "outputs": [
    {
     "name": "stdout",
     "output_type": "stream",
     "text": [
      "dict_keys(['loss', 'accuracy', 'val_loss', 'val_accuracy'])\n",
      "Training history over time\n"
     ]
    },
    {
     "data": {
      "image/png": "[encoded data removed]",
      "text/plain": [
       "<Figure size 1152x360 with 2 Axes>"
      ]
     },
     "metadata": {
      "needs_background": "light"
     },
     "output_type": "display_data"
    }
   ],
   "source": [
    "classifier_model_1.plot_training_history_over_time(figsize=(16, 5))\n"
   ]
  },
  {
   "cell_type": "code",
   "execution_count": 9,
   "metadata": {},
   "outputs": [
    {
     "name": "stderr",
     "output_type": "stream",
     "text": [
      "WARNING:absl:Found untraced functions such as restored_function_body, restored_function_body, restored_function_body, restored_function_body, restored_function_body while saving (showing 5 of 366). These functions will not be directly callable after loading.\n"
     ]
    }
   ],
   "source": [
    "temp_path1 = \"saved_models/classification/BERT-CASED-L-12-H-768-A-12\"\n",
    "classifier_model_1.model.save(temp_path1)\n"
   ]
  },
  {
   "cell_type": "markdown",
   "metadata": {},
   "source": [
    "### `UNCASED` bert_en_uncased_l_4_h_768_a_12 (RESTRAT BEFORE RUN THIS)"
   ]
  },
  {
   "cell_type": "code",
   "execution_count": 5,
   "metadata": {},
   "outputs": [],
   "source": [
    "tfhub_handle_preprocess_2 = \"https://www.kaggle.com/models/tensorflow/bert/frameworks/TensorFlow2/variations/en-uncased-preprocess/versions/3\"\n",
    "tfhub_handle_encoder_2 = \"https://www.kaggle.com/models/tensorflow/bert/frameworks/TensorFlow2/variations/bert-en-uncased-l-4-h-768-a-12/versions/2\"\n",
    "\n",
    "classifier_model_2 = ClassifierModel(tfhub_handle_preprocess_2, tfhub_handle_encoder_2)\n",
    "classifier_model_2.compile_model(train_ds=train_ds,\n",
    "                                 validation_data=val_ds,\n",
    "                                 epochs=epochs, \n",
    "                                 learning_rate=learning_rate, \n",
    "                                 optimizer_type=optimizer_type, \n",
    "                                 loss=loss, \n",
    "                                 metrics=metrics)\n"
   ]
  },
  {
   "cell_type": "code",
   "execution_count": 6,
   "metadata": {},
   "outputs": [
    {
     "name": "stdout",
     "output_type": "stream",
     "text": [
      "Model       : https://www.kaggle.com/models/tensorflow/bert/frameworks/TensorFlow2/variations/bert-en-uncased-l-4-h-768-a-12/versions/2\n",
      "Preprocessor: https://www.kaggle.com/models/tensorflow/bert/frameworks/TensorFlow2/variations/en-uncased-preprocess/versions/3\n",
      "\n",
      "Epoch 1/6\n",
      "133/133 [==============================] - 32s 191ms/step - loss: 1.1680 - accuracy: 0.4948 - val_loss: 0.6665 - val_accuracy: 0.8038\n",
      "Epoch 2/6\n",
      "133/133 [==============================] - 25s 185ms/step - loss: 0.5593 - accuracy: 0.8183 - val_loss: 0.4411 - val_accuracy: 0.8302\n",
      "Epoch 3/6\n",
      "133/133 [==============================] - 25s 187ms/step - loss: 0.4046 - accuracy: 0.8616 - val_loss: 0.4177 - val_accuracy: 0.8491\n",
      "Epoch 4/6\n",
      "133/133 [==============================] - 25s 187ms/step - loss: 0.3487 - accuracy: 0.8790 - val_loss: 0.3967 - val_accuracy: 0.8585\n",
      "Epoch 5/6\n",
      "133/133 [==============================] - 25s 187ms/step - loss: 0.3112 - accuracy: 0.8978 - val_loss: 0.3951 - val_accuracy: 0.8509\n",
      "Epoch 6/6\n",
      "133/133 [==============================] - 25s 186ms/step - loss: 0.2821 - accuracy: 0.9063 - val_loss: 0.4003 - val_accuracy: 0.8472\n",
      "\n",
      "Total training time: 155.54s\n"
     ]
    },
    {
     "data": {
      "text/plain": [
       "<keras.callbacks.History at 0x20e8468c610>"
      ]
     },
     "execution_count": 6,
     "metadata": {},
     "output_type": "execute_result"
    }
   ],
   "source": [
    "classifier_model_2.train()\n"
   ]
  },
  {
   "cell_type": "code",
   "execution_count": 7,
   "metadata": {},
   "outputs": [
    {
     "name": "stdout",
     "output_type": "stream",
     "text": [
      "42/42 [==============================] - 3s 75ms/step - loss: 0.4434 - accuracy: 0.8511\n",
      "\n",
      "Loss     : 0.4434243142604828\n",
      "Accuracy : 0.8511278033256531\n"
     ]
    }
   ],
   "source": [
    "result = classifier_model_2.evaluate_test(test_ds)\n",
    "loss, accuracy = result['loss'], result['accuracy']\n",
    "print()\n",
    "print(f'Loss     : {loss}')\n",
    "print(f'Accuracy : {accuracy}')\n"
   ]
  },
  {
   "cell_type": "code",
   "execution_count": 8,
   "metadata": {},
   "outputs": [
    {
     "name": "stdout",
     "output_type": "stream",
     "text": [
      "dict_keys(['loss', 'accuracy', 'val_loss', 'val_accuracy'])\n",
      "Training history over time\n"
     ]
    },
    {
     "data": {
      "image/png": "[encoded data removed]",
      "text/plain": [
       "<Figure size 1008x864 with 2 Axes>"
      ]
     },
     "metadata": {
      "needs_background": "light"
     },
     "output_type": "display_data"
    }
   ],
   "source": [
    "classifier_model_2.plot_training_history_over_time(figsize=(14, 12))\n"
   ]
  },
  {
   "cell_type": "code",
   "execution_count": 9,
   "metadata": {},
   "outputs": [
    {
     "name": "stderr",
     "output_type": "stream",
     "text": [
      "WARNING:absl:Found untraced functions such as restored_function_body, restored_function_body, restored_function_body, restored_function_body, restored_function_body while saving (showing 5 of 126). These functions will not be directly callable after loading.\n"
     ]
    }
   ],
   "source": [
    "temp_path2 = \"saved_models/classification/BERT-UNCASED-L-4-H-768-A-12\"\n",
    "classifier_model_2.model.save(temp_path2)\n"
   ]
  },
  {
   "cell_type": "markdown",
   "metadata": {},
   "source": [
    "### Does `cased` and `uncased` smaller version is same in this task?"
   ]
  },
  {
   "cell_type": "markdown",
   "metadata": {},
   "source": [
    "## End"
   ]
  },
  {
   "cell_type": "code",
   "execution_count": null,
   "metadata": {},
   "outputs": [],
   "source": [
    "raise TypeError(\"STOP HERE, DON'T, EXECUTE CELL BELOW!\")"
   ]
  },
  {
   "cell_type": "code",
   "execution_count": null,
   "metadata": {},
   "outputs": [],
   "source": [
    "# def build_classifier_model(tfhub_preprocess, tfhub_encoder, seq_length=512):\n",
    "#     # Step 1: Define text input layer\n",
    "#     text_input = tf.keras.layers.Input(shape=(), dtype=tf.string, name='text')\n",
    "    \n",
    "#     # Step 2: Tokenize batches of text inputs\n",
    "#     bert_preprocess = hub.load(tfhub_preprocess)\n",
    "#     tokenize = hub.KerasLayer(bert_preprocess.tokenize)\n",
    "#     tokenized_input = tokenize(text_input)\n",
    "    \n",
    "#     # Step 3: Pack input sequences for the Transformer encoder\n",
    "#     bert_pack_inputs = hub.KerasLayer(\n",
    "#         bert_preprocess.bert_pack_inputs,\n",
    "#         arguments=dict(seq_length=seq_length))\n",
    "#     encoder_inputs = bert_pack_inputs([tokenized_input])\n",
    "    \n",
    "#     print(f\"input_mask    : {encoder_inputs['input_mask']}\")\n",
    "#     print(f\"input_type_ids: {encoder_inputs['input_type_ids']}\")\n",
    "#     print(f\"input_word_ids: {encoder_inputs['input_word_ids']}\")\n",
    "#     # Load BERT encoder\n",
    "#     encoder = hub.KerasLayer(tfhub_encoder, trainable=True, name='BERT_encoder')\n",
    "    \n",
    "#     # Pass encoder inputs through BERT encoder\n",
    "#     outputs = encoder(encoder_inputs)\n",
    "    \n",
    "#     # Define classifier layers\n",
    "#     net = outputs['pooled_output']\n",
    "#     net = tf.keras.layers.Dropout(0.1)(net)\n",
    "#     net = tf.keras.layers.Dense(256, activation='relu')(net)  # Additional dense layer\n",
    "#     net = tf.keras.layers.Dropout(0.1)(net)\n",
    "#     net = tf.keras.layers.Dense(128, activation='relu')(net)  # Additional dense layer\n",
    "#     net = tf.keras.layers.Dropout(0.1)(net)\n",
    "#     net = tf.keras.layers.Dense(64, activation='relu')(net)  # Additional dense layer\n",
    "#     net = tf.keras.layers.Dropout(0.1)(net)\n",
    "#     net = tf.keras.layers.Dense(4, activation='softmax', name='classifier')(net)\n",
    "    \n",
    "#     # Define and return model\n",
    "#     return tf.keras.Model(text_input, net)\n"
   ]
  },
  {
   "cell_type": "code",
   "execution_count": 8,
   "metadata": {},
   "outputs": [
    {
     "name": "stdout",
     "output_type": "stream",
     "text": [
      "input_mask    : KerasTensor(type_spec=TensorSpec(shape=(None, 512), dtype=tf.int32, name=None), name='keras_layer_3/PartitionedCall:0', description=\"created by layer 'keras_layer_3'\")\n",
      "input_type_ids: KerasTensor(type_spec=TensorSpec(shape=(None, 512), dtype=tf.int32, name=None), name='keras_layer_3/PartitionedCall:1', description=\"created by layer 'keras_layer_3'\")\n",
      "input_word_ids: KerasTensor(type_spec=TensorSpec(shape=(None, 512), dtype=tf.int32, name=None), name='keras_layer_3/PartitionedCall:2', description=\"created by layer 'keras_layer_3'\")\n"
     ]
    }
   ],
   "source": [
    "# classifier_model = build_classifier_model(tfhub_preprocess=tfhub_handle_preprocess, tfhub_encoder=tfhub_handle_encoder)\n",
    "\n",
    "# epochs = 20\n",
    "# steps_per_epoch = tf.data.experimental.cardinality(train_ds).numpy()\n",
    "# num_train_steps = steps_per_epoch * epochs\n",
    "# optimizer = optimization.create_optimizer(\n",
    "#     init_lr=1e-5,\n",
    "#     num_train_steps=num_train_steps,\n",
    "#     num_warmup_steps=int(0.1*num_train_steps),\n",
    "#     optimizer_type='adamw')\n",
    "# # optimizer = tf.keras.optimizers.Adam(learning_rate=1e-4)\n",
    "\n",
    "# loss = tf.keras.losses.sparse_categorical_crossentropy  # Assuming you have integer labels\n",
    "# metrics = ['accuracy']\n",
    "\n",
    "# classifier_model.compile(optimizer=optimizer,\n",
    "#                          loss=loss,\n",
    "#                          metrics=metrics)\n"
   ]
  },
  {
   "cell_type": "code",
   "execution_count": 12,
   "metadata": {},
   "outputs": [
    {
     "name": "stdout",
     "output_type": "stream",
     "text": [
      "Model       : https://www.kaggle.com/models/tensorflow/bert/frameworks/TensorFlow2/variations/en-cased-l-12-h-768-a-12/versions/4\n",
      "Preprocessor: https://www.kaggle.com/models/tensorflow/bert/frameworks/TensorFlow2/variations/en-cased-preprocess/versions/3\n",
      "\n",
      "\n",
      "Training time: 0.00s\n"
     ]
    }
   ],
   "source": [
    "# print(f\"Model       : {tfhub_handle_encoder}\")\n",
    "# print(f\"Preprocessor: {tfhub_handle_preprocess}\\n\")\n",
    "# start = perf_counter()\n",
    "# history = classifier_model.fit(\n",
    "#     train_ds, \n",
    "#     validation_data=val_ds, \n",
    "#     epochs=epochs\n",
    "#     )\n",
    "# end = perf_counter()\n",
    "# print(f\"\\nTraining time: {end-start:.2f}s\")\n"
   ]
  },
  {
   "cell_type": "code",
   "execution_count": 10,
   "metadata": {},
   "outputs": [
    {
     "name": "stdout",
     "output_type": "stream",
     "text": [
      "1/1 [==============================] - 1s 876ms/step\n"
     ]
    },
    {
     "data": {
      "text/plain": [
       "array([[9.9960226e-01, 8.0112208e-05, 2.3596438e-06, 3.1528284e-04]],\n",
       "      dtype=float32)"
      ]
     },
     "execution_count": 10,
     "metadata": {},
     "output_type": "execute_result"
    }
   ],
   "source": [
    "# classifier_model.predict(tf.constant([\"Find all real functions f defined on mathbb R, such that f(f(x)+y) = f(f(x)-y)+4f(x)y ,for all real numbers x,y.\"]))"
   ]
  },
  {
   "cell_type": "code",
   "execution_count": 11,
   "metadata": {},
   "outputs": [
    {
     "name": "stdout",
     "output_type": "stream",
     "text": [
      "84/84 [==============================] - 6s 72ms/step - loss: 0.7840 - accuracy: 0.8797\n",
      "Loss: 0.7840174436569214\n",
      "Accuracy: 0.8796992301940918\n"
     ]
    }
   ],
   "source": [
    "# loss, accuracy = classifier_model.evaluate(test_ds)\n",
    "\n",
    "# print(f'Loss    : {loss}')\n",
    "# print(f'Accuracy: {accuracy}')\n"
   ]
  },
  {
   "cell_type": "code",
   "execution_count": 12,
   "metadata": {},
   "outputs": [
    {
     "name": "stdout",
     "output_type": "stream",
     "text": [
      "dict_keys(['loss', 'accuracy', 'val_loss', 'val_accuracy'])\n"
     ]
    },
    {
     "data": {
      "text/plain": [
       "<matplotlib.legend.Legend at 0x237a43cc3d0>"
      ]
     },
     "execution_count": 12,
     "metadata": {},
     "output_type": "execute_result"
    },
    {
     "data": {
      "image/png": "[encoded data removed]",
      "text/plain": [
       "<Figure size 864x576 with 2 Axes>"
      ]
     },
     "metadata": {
      "needs_background": "light"
     },
     "output_type": "display_data"
    }
   ],
   "source": [
    "# history_dict = history.history\n",
    "# print(history_dict.keys())\n",
    "\n",
    "# acc = history_dict['accuracy']\n",
    "# val_acc = history_dict['val_accuracy']\n",
    "# loss = history_dict['loss']\n",
    "# val_loss = history_dict['val_loss']\n",
    "\n",
    "# epochs = range(1, len(acc) + 1)\n",
    "# fig = plt.figure(figsize=(12, 8))\n",
    "# fig.tight_layout()\n",
    "\n",
    "# plt.subplot(2, 1, 1)\n",
    "# # r is for \"solid red line\"\n",
    "# plt.plot(epochs, loss, 'r', label='Training loss')\n",
    "# # b is for \"solid blue line\"\n",
    "# plt.plot(epochs, val_loss, 'b', label='Validation loss')\n",
    "# plt.title('Training and validation loss')\n",
    "# # plt.xlabel('Epochs')\n",
    "# plt.ylabel('Loss')\n",
    "# plt.legend()\n",
    "\n",
    "# plt.subplot(2, 1, 2)\n",
    "# plt.plot(epochs, acc, 'r', label='Training acc')\n",
    "# plt.plot(epochs, val_acc, 'b', label='Validation acc')\n",
    "# plt.title('Training and validation accuracy')\n",
    "# plt.xlabel('Epochs')\n",
    "# plt.ylabel('Accuracy')\n",
    "# plt.legend(loc='lower right')\n"
   ]
  },
  {
   "cell_type": "code",
   "execution_count": 13,
   "metadata": {},
   "outputs": [
    {
     "name": "stderr",
     "output_type": "stream",
     "text": [
      "WARNING:absl:Found untraced functions such as restored_function_body, restored_function_body, restored_function_body, restored_function_body, restored_function_body while saving (showing 5 of 366). These functions will not be directly callable after loading.\n"
     ]
    }
   ],
   "source": [
    "# classifier_model.save(\"saved_models/classification/bert-cased-l-12-h-768-a-12\")"
   ]
  },
  {
   "cell_type": "code",
   "execution_count": null,
   "metadata": {},
   "outputs": [],
   "source": []
  }
 ],
 "metadata": {
  "kernelspec": {
   "display_name": "aops_tf",
   "language": "python",
   "name": "python3"
  },
  "language_info": {
   "codemirror_mode": {
    "name": "ipython",
    "version": 3
   },
   "file_extension": ".py",
   "mimetype": "text/x-python",
   "name": "python",
   "nbconvert_exporter": "python",
   "pygments_lexer": "ipython3",
   "version": "3.9.12"
  }
 },
 "nbformat": 4,
 "nbformat_minor": 2
}
