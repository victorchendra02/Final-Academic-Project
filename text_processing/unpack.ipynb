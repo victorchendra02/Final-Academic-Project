{
 "cells": [
  {
   "cell_type": "code",
   "execution_count": 11,
   "metadata": {},
   "outputs": [],
   "source": [
    "import json\n",
    "import numpy as np\n",
    "import pandas as pd\n",
    "from bs4 import BeautifulSoup\n",
    "import re\n",
    "\n",
    "\n",
    "def read_json(fname):\n",
    "    with open(fname, \"r\") as file:\n",
    "        data = json.load(file)\n",
    "    return data\n",
    "\n",
    "def display_dictionary(d: dict):\n",
    "    print(json.dumps(d, indent=4))\n",
    "\n",
    "\n",
    "data = read_json(\"../data/data.json\")\n",
    "data = data[\"Contest Collections\"][\"International Contests\"]\n"
   ]
  },
  {
   "cell_type": "code",
   "execution_count": 32,
   "metadata": {},
   "outputs": [
    {
     "name": "stdout",
     "output_type": "stream",
     "text": [
      "\"<img \"\n"
     ]
    },
    {
     "data": {
      "text/plain": [
       "['$n>1$']"
      ]
     },
     "execution_count": 32,
     "metadata": {},
     "output_type": "execute_result"
    }
   ],
   "source": [
    "p = 'Determine all composite integers <img src=\"//latex.artofproblemsolving.com/6/5/2/65262bf247c4a3c6114a8223d249dc9702619d3e.png\" class=\"latex\" alt=\"$n>1$\" style=\"vertical-align: 0px\" width=\"43\" height=\"12\"> that satisfy the'\n",
    "\n",
    "def extract_alt_attribute_values_from_HTML_img_tags(text: str) -> list[str]:\n",
    "    return re.findall(r'<img[^>]*alt=\"([^\"]*)\"', text)\n",
    "\n",
    "\n",
    "for i in range(len(p)):\n",
    "    if p[i] == '<':\n",
    "        if p[i:i+5] == '<img ':\n",
    "            print(f'\"{p[i:i+5]}\"'); break\n",
    "\n",
    "extract_alt_attribute_values_from_HTML_img_tags('Determine all composite integers <img src=\"//latex.artofproblemsolving.com/6/5/2/65262bf247c4a3c6114a8223d249dc9702619d3e.png\" class=\"latex\" alt=\"$n>1$\" style=\"vertical-align: 0px\" width=\"43\" height=\"12\"> that satisfy the')\n"
   ]
  },
  {
   "cell_type": "code",
   "execution_count": 20,
   "metadata": {},
   "outputs": [
    {
     "data": {
      "text/plain": [
       "['$n>1$',\n",
       " '$d_1, d_2, \\\\ldots, d_k$',\n",
       " '$n$',\n",
       " '$1=d_1<d_2<\\\\cdots<d_k=n$',\n",
       " '$d_i$',\n",
       " '$d_{i+1}+d_{i+2}$',\n",
       " '$1 \\\\leqslant i \\\\leqslant k-2$']"
      ]
     },
     "execution_count": 20,
     "metadata": {},
     "output_type": "execute_result"
    }
   ],
   "source": [
    "text = data['imo']['2023imo']['items'][0]['post_rendered']\n",
    "alt_attributes = re.findall(r'<img[^>]*alt=\"([^\"]*)\"', text)\n",
    "alt_attributes"
   ]
  },
  {
   "cell_type": "code",
   "execution_count": 23,
   "metadata": {},
   "outputs": [
    {
     "name": "stdout",
     "output_type": "stream",
     "text": [
      "Determine all composite integers <img src=\"//latex.artofproblemsolving.com/6/5/2/65262bf247c4a3c6114a8223d249dc9702619d3e.png\" class=\"latex\" alt=\"$n>1$\" style=\"vertical-align: 0px\" width=\"43\" height=\"12\"> that satisfy the following property: if <img src=\"//latex.artofproblemsolving.com/6/6/5/665959df4eaff9ea12f0b4c106a07b06e303a1d5.png\" class=\"latex\" alt=\"$d_1, d_2, \\ldots, d_k$\" style=\"vertical-align: -3px\" width=\"99\" height=\"16\"> are all the positive divisors of <img src=\"//latex.artofproblemsolving.com/1/7/4/174fadd07fd54c9afe288e96558c92e0c1da733a.png\" class=\"latex\" alt=\"$n$\" width=\"10\" height=\"8\"> with <span style=\"white-space:pre;\"><img src=\"//latex.artofproblemsolving.com/2/1/b/21bea01637b90041b10801913cdb08b4e4ec7a36.png\" class=\"latex\" alt=\"$1=d_1<d_2<\\cdots<d_k=n$\" style=\"vertical-align: -2px\" width=\"213\" height=\"15\">,</span> then <img src=\"//latex.artofproblemsolving.com/f/1/5/f1544d77330dc5a289ad6a42beeb236b8dd70a9a.png\" class=\"latex\" alt=\"$d_i$\" style=\"vertical-align: -2px\" width=\"14\" height=\"15\"> divides <img src=\"//latex.artofproblemsolving.com/7/7/7/7775e33f3677b0b131dcd51dfd58106aa1829825.png\" class=\"latex\" alt=\"$d_{i+1}+d_{i+2}$\" style=\"vertical-align: -5px\" width=\"88\" height=\"18\"> for every <img src=\"//latex.artofproblemsolving.com/9/2/a/92ad4c2455570deb5cc6974676ed6be400ad4cb6.png\" class=\"latex\" alt=\"$1 \\leqslant i \\leqslant k-2$\" style=\"vertical-align: -3px\" width=\"106\" height=\"17\">\n"
     ]
    }
   ],
   "source": [
    "for i in range(len(data['imo']['2023imo']['items'])):\n",
    "    text = data['imo']['2023imo']['items'][i]['post_rendered']\n",
    "    print(text)\n",
    "    break\n",
    "\n",
    "# print(text_content)"
   ]
  },
  {
   "cell_type": "code",
   "execution_count": 6,
   "metadata": {},
   "outputs": [
    {
     "name": "stdout",
     "output_type": "stream",
     "text": [
      "Determine all composite integers $n>1$ that satisfy the following property: if $d_1, d_2, \\dots , d_k$ are all the positive divisors of $n$ with $1 = d_1 < d_2 < \\cdots < d_k = n$, then $d_i$ divides $d_{i+1} + d_{i+2}$ for every $1 \\leq i \\leq k - 2$.\n"
     ]
    }
   ],
   "source": [
    "print(\"Determine all composite integers $n>1$ that satisfy the following property: if $d_1, d_2, \\dots , d_k$ are all the positive divisors of $n$ with $1 = d_1 < d_2 < \\cdots < d_k = n$, then $d_i$ divides $d_{i+1} + d_{i+2}$ for every $1 \\leq i \\leq k - 2$.\")"
   ]
  },
  {
   "cell_type": "code",
   "execution_count": null,
   "metadata": {},
   "outputs": [],
   "source": []
  },
  {
   "cell_type": "code",
   "execution_count": null,
   "metadata": {},
   "outputs": [],
   "source": [
    "# Example\n",
    "{\n",
    "    \"Contest Collections\": {\n",
    "        \"link\": \"https://example.com\",\n",
    "        \"International Contests\": {\n",
    "            \"link\": \"https://example.com\",\n",
    "            \"contest_name1\": {\n",
    "                \"2023\": {\n",
    "                    \"link\": \"https://example.com\",\n",
    "                    \"items\": [\n",
    "                        {\n",
    "                            \"no\": \"1\",\n",
    "                            \"post_rendered\": \"Lorem Ipsum\",\n",
    "                            \"post_canonical\": None,\n",
    "                            \"label\": None\n",
    "                        },\n",
    "                        {\n",
    "                            \"no\": \"2\",\n",
    "                            \"post_rendered\": \"Lorem Ipsum\",\n",
    "                            \"post_canonical\": None,\n",
    "                            \"label\": None\n",
    "                        },\n",
    "                    ],\n",
    "                    \"pdf\": \"example.pdf\"\n",
    "                },\n",
    "                \"2023\": {\n",
    "                    \"link\": \"https://example.com\",\n",
    "                    \"items\": [\n",
    "                        {\n",
    "                            \"no\": \"1\",\n",
    "                            \"post_rendered\": \"Lorem Ipsum\",\n",
    "                            \"post_canonical\": None,\n",
    "                            \"label\": None\n",
    "                        },\n",
    "                        {\n",
    "                            \"no\": \"2\",\n",
    "                            \"post_rendered\": \"Lorem Ipsum\",\n",
    "                            \"post_canonical\": None,\n",
    "                            \"label\": None\n",
    "                        },\n",
    "                    ],\n",
    "                    \"pdf\": \"example.pdf\"\n",
    "                }\n",
    "            },\n",
    "            \"contest_name2\": {\n",
    "                \"2023\": {\n",
    "                    \"link\": \"https://example.com\",\n",
    "                    \"items\": [\n",
    "                        {\n",
    "                            \"no\": \"1\",\n",
    "                            \"post_rendered\": \"Lorem Ipsum\",\n",
    "                            \"post_canonical\": None,\n",
    "                            \"label\": None\n",
    "                        },\n",
    "                        {\n",
    "                            \"no\": \"2\",\n",
    "                            \"post_rendered\": \"Lorem Ipsum\",\n",
    "                            \"post_canonical\": None,\n",
    "                            \"label\": None\n",
    "                        },\n",
    "                    ],\n",
    "                    \"pdf\": \"example.pdf\"\n",
    "                },\n",
    "                \"2022\": {\n",
    "                    \"link\": \"https://example.com\",\n",
    "                    \"items\": [\n",
    "                        {\n",
    "                            \"no\": \"1\",\n",
    "                            \"post_rendered\": \"Lorem Ipsum\",\n",
    "                            \"post_canonical\": None,\n",
    "                            \"label\": None\n",
    "                        },\n",
    "                        {\n",
    "                            \"no\": \"2\",\n",
    "                            \"post_rendered\": \"Lorem Ipsum\",\n",
    "                            \"post_canonical\": None,\n",
    "                            \"label\": None\n",
    "                        },\n",
    "                    ],\n",
    "                    \"pdf\": \"example.pdf\"\n",
    "                }\n",
    "            },\n",
    "        },\n",
    "        \n",
    "        \"National and Regional Contests\": {\n",
    "            \"link\": \"\",\n",
    "            \"contest_name1\": {},\n",
    "            \"contest_name2\": {}\n",
    "        }\n",
    "    }\n",
    "}\n",
    "\n"
   ]
  }
 ],
 "metadata": {
  "kernelspec": {
   "display_name": "artofproblemsolving",
   "language": "python",
   "name": "python3"
  },
  "language_info": {
   "codemirror_mode": {
    "name": "ipython",
    "version": 3
   },
   "file_extension": ".py",
   "mimetype": "text/x-python",
   "name": "python",
   "nbconvert_exporter": "python",
   "pygments_lexer": "ipython3",
   "version": "3.9.12"
  },
  "orig_nbformat": 4
 },
 "nbformat": 4,
 "nbformat_minor": 2
}
