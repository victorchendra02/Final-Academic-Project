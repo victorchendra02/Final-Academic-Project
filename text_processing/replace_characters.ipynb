{
 "cells": [
  {
   "cell_type": "code",
   "execution_count": 1,
   "metadata": {},
   "outputs": [],
   "source": [
    "import json\n",
    "import pandas as pd\n",
    "\n",
    "\n",
    "\"\"\"\n",
    "TODO:\n",
    "1. Data sudah bener2 post_rendered, tinggal processing untuk di training BERT\n",
    "2. Tambah new column untuk ini mungkin namanya `post_processed`\n",
    "\"\"\"\n",
    "\n",
    "def remove_backslash(text: str) -> str:\n",
    "    result = text.replace(\"\\\\\", \" \")\n",
    "    return result\n",
    "\n",
    "def remove_redundant_white_spaces(text: str) -> str:\n",
    "    from re import sub\n",
    "    return sub(r'\\s+', ' ', text).strip()\n",
    "\n",
    "\n",
    "file_path = 'C:/wamp64/www/artofproblemsolving/data/data_post_rendered.csv'\n",
    "df = pd.read_csv(file_path)\n"
   ]
  },
  {
   "cell_type": "code",
   "execution_count": 17,
   "metadata": {},
   "outputs": [],
   "source": [
    "def processing_dollar_sign(text: str):\n",
    "    \"\"\"\n",
    "    Special case LaTex that look like this `\\[ ... \\]`\n",
    "    \"\"\"\n",
    "    text = text.replace(\"\\[\", \"$\")\n",
    "    text = text.replace(\"\\]\", \"$\")\n",
    "    \n",
    "    def extract_inside_dollar_sign(text: str) -> list:\n",
    "        \"\"\"\n",
    "        Case:\n",
    "        - \"lorem lorem $target 1$ $$target 2 lorem lorem\"  -->  ['target 1', '']\n",
    "        - \"lorem lorem $target 1$ $$target 2$$ lorem lorem\"  -->  ['target 1', 'target 2']\n",
    "        \"\"\"\n",
    "        import re\n",
    "\n",
    "        matches: list = re.findall(r'\\$+(.*?)\\$+', text)\n",
    "        for i in range(len(matches)):\n",
    "            matches[i] = matches[i].strip()\n",
    "\n",
    "        return matches\n",
    "\n",
    "    \n",
    "    list_dollar = extract_inside_dollar_sign(text)\n",
    "    for i in range(len(list_dollar)):\n",
    "        list_dollar[i] = list_dollar[i].replace(\"\\\\\", \" \")\n",
    "        list_dollar[i] = list_dollar[i].replace(\">\", \" BIGGERTHANSIGN \")\n",
    "        list_dollar[i] = list_dollar[i].replace(\"<\", \" SMALLERTHANSIGN \")\n",
    "        list_dollar[i] = list_dollar[i].replace(\"+\", \" PLUS_OR_POSITIVESIGN \")\n",
    "        list_dollar[i] = list_dollar[i].replace(\"-\", \" MINUS_OR_NEGATIVESIGN \")\n",
    "        list_dollar[i] = list_dollar[i].replace(\"=\", \" EQUALSIGN \")\n",
    "        list_dollar[i] = list_dollar[i].replace(\"!\", \" FACTORIALSIGN \")\n",
    "        \n",
    "    return list_dollar\n",
    "    "
   ]
  },
  {
   "cell_type": "code",
   "execution_count": 18,
   "metadata": {},
   "outputs": [
    {
     "name": "stdout",
     "output_type": "stream",
     "text": [
      "https://artofproblemsolving.com/community/c3381519_2023imo\n",
      "Determine all composite integers $n>1$ that satisfy the following property: if $d_1, d_2, \\ldots, d_k$ are all the positive divisors of $n$ with $1=d_1<d_2<\\cdots<d_k=n$, then $d_i$ divides $d_{i+1}+d_{i+2}$ for every $1 \\leqslant i \\leqslant k-2$\n",
      "['n biggerthanSIGN 1', 'd_1, d_2,  ldots, d_k', 'n', '1 equalSIGN d_1 smallerthanSIGN d_2 smallerthanSIGN  cdots smallerthanSIGN d_k equalSIGN n', 'd_i', 'd_{i plus_or_positiveSIGN 1} plus_or_positiveSIGN d_{i plus_or_positiveSIGN 2}', '1  leqslant i  leqslant k minus_or_negativeSIGN 2']\n"
     ]
    }
   ],
   "source": [
    "n = 0\n",
    "test_ = df.iloc[n]['post_canonical']\n",
    "link_ = df.iloc[n]['link']\n",
    "\n",
    "print(link_)\n",
    "print(test_)\n",
    "print(processing_dollar_sign(test_))\n"
   ]
  },
  {
   "cell_type": "code",
   "execution_count": null,
   "metadata": {},
   "outputs": [],
   "source": [
    "for i in range(df.shape[0]):\n",
    "    df.iloc[i]['']\n",
    "    ..."
   ]
  },
  {
   "cell_type": "code",
   "execution_count": 25,
   "metadata": {},
   "outputs": [],
   "source": [
    "\"\"\"\n",
    "NOTE:\n",
    "Jangan lupa `$...$ hilangin dolar`\n",
    "Extrak yang diapit dolar (ada yag `$$...$$`) atau lebih dolarnya\n",
    "\n",
    "1. Consider `\\legslant` and `\\leg`\n",
    "\"\"\"\n",
    "\n",
    "# >\n",
    "biggerthan = \"biggerthan\"\n",
    "# <\n",
    "smallerthan = \"smallerthan\"\n",
    "# +\n",
    "plus_or_positive = \"plus_or_positive\"\n",
    "# -\n",
    "minus_or_negative = \"minus_or_negative\"\n",
    "# / == \\frac{}{}\n",
    "\n",
    "# :\n",
    "\n",
    "# =\n",
    "equal = \"equal\"\n",
    "# !\n",
    "factorial = \"factorial\"\n",
    "\n",
    "# ^\n",
    "superscript_variable = \"superscript_variable\"\n",
    "# _\n",
    "subscript_variable = \"subscript_variable\"\n",
    "# ^_\n",
    "combined_supersubscript_variable = \"combined_supersubscript_variable\"\n",
    "\n",
    "# ABC --> \"uppercase_variable uppercase_variable uppercase_variable\"\n",
    "uppercase_variable = \"uppercase_variable\"\n",
    "# n, x, y --> lowercase_variable\n",
    "lowercase_variable = \"lowercase_variable\"\n"
   ]
  },
  {
   "cell_type": "code",
   "execution_count": null,
   "metadata": {},
   "outputs": [],
   "source": []
  }
 ],
 "metadata": {
  "kernelspec": {
   "display_name": "artofproblemsolving",
   "language": "python",
   "name": "python3"
  },
  "language_info": {
   "codemirror_mode": {
    "name": "ipython",
    "version": 3
   },
   "file_extension": ".py",
   "mimetype": "text/x-python",
   "name": "python",
   "nbconvert_exporter": "python",
   "pygments_lexer": "ipython3",
   "version": "3.9.12"
  }
 },
 "nbformat": 4,
 "nbformat_minor": 2
}
