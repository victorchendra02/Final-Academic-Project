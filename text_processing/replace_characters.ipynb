{
 "cells": [
  {
   "cell_type": "code",
   "execution_count": 2,
   "metadata": {},
   "outputs": [],
   "source": [
    "import json\n",
    "\n",
    "\n",
    "def display_dictionary(d: dict):\n",
    "    import json\n",
    "    print(json.dumps(d, indent=4))\n",
    "\n",
    "\n",
    "def remove_backslash(text: str) -> str:\n",
    "    result = text.replace(\"\\\\\", \" \")\n",
    "    return result\n",
    "\n",
    "def remove_redundant_white_spaces(text: str) -> str:\n",
    "    from re import sub\n",
    "    return sub(r'\\s+', ' ', text).strip()\n",
    "\n",
    "def replace_img_tag_with_the_alt_attribute(html_text: str) -> str: \n",
    "    from bs4 import BeautifulSoup\n",
    "    \n",
    "    html_text = html_text.replace(\"<br>\\n\", \" \")\n",
    "    html_text = html_text.replace(\"\\f\", \"\\\\f\")\n",
    "    html_text = html_text.replace(\"\\v\", \"\\\\v\")\n",
    "    html_text = html_text.replace(\"\\t\", \"\\\\t\")\n",
    "    # html_text = html_text.replace(\"$$\", \"$\")\n",
    "    html_text = remove_redundant_white_spaces(html_text)\n",
    "    \n",
    "    soup = BeautifulSoup(html_text, 'html.parser')\n",
    "    img_tags = soup.find_all('img')\n",
    "    \n",
    "    # Replace img tags with their alt attribute content\n",
    "    for img_tag in img_tags:\n",
    "        img_tag.replace_with(img_tag['alt'])\n",
    "\n",
    "    modified_text = str(soup)\n",
    "    modified_text = modified_text.replace(\"\\a\", \"\\\\a\")\n",
    "    # modified_text = modified_text.replace(\"\\r\", \"\\\\r\")\n",
    "    modified_text = modified_text.replace(\"\\b\", \"\\\\b\")\n",
    "    modified_text = modified_text.replace(\"&gt;\", \">\")\n",
    "    modified_text = modified_text.replace(\"&lt;\", \"<\")\n",
    "\n",
    "    return remove_redundant_white_spaces(modified_text)\n",
    "\n",
    "def remove_html_tag_in_a_text(html_text: str) -> str:\n",
    "    from bs4 import BeautifulSoup\n",
    "    \n",
    "    clean_text = BeautifulSoup(html_text, 'html.parser').get_text()\n",
    "    return str(clean_text)\n",
    "\n",
    "def decode_html_entities(html_text: str) -> str:\n",
    "    \"\"\"\n",
    "    Decode HTML entities in a given text. Example:\n",
    "    - `... 4 &amp; 5 ...` --> `... 4 & 5 ...`\n",
    "    \"\"\"\n",
    "    import html\n",
    "\n",
    "    decoded_text = html.unescape(html_text)\n",
    "    return decoded_text\n",
    "\n",
    "\n",
    "file_path = 'C:/wamp64/www/artofproblemsolving/data/data.json'\n",
    "with open(file_path, 'r') as file:\n",
    "    data = json.load(file)\n",
    "    data = data[\"Contest Collections\"][\"International Contests\"]\n",
    "    \n",
    "\n",
    "# display_dictionary(data)\n"
   ]
  },
  {
   "cell_type": "code",
   "execution_count": 22,
   "metadata": {},
   "outputs": [
    {
     "name": "stdout",
     "output_type": "stream",
     "text": [
      "For each integer <span style=\"white-space:pre;\"><img src=\"//latex.artofproblemsolving.com/d/8/7/d87c2b4566d22220a6ba3b51d206a466e07ef257.png\" class=\"latex\" alt=\"$k \\geqslant 2$\" style=\"vertical-align: -3px\" width=\"45\" height=\"17\">,</span> determine all infinite sequences of positive integers <img src=\"//latex.artofproblemsolving.com/5/6/5/56551a1cd4be3a5d996736e858917416035f3c8c.png\" class=\"latex\" alt=\"$a_1, a_2, \\ldots$\" style=\"vertical-align: -3px\" width=\"70\" height=\"11\"> for which there exists a polynomial <img src=\"//latex.artofproblemsolving.com/4/b/4/4b4cade9ca8a2c8311fafcf040bc5b15ca507f52.png\" class=\"latex\" alt=\"$P$\" width=\"14\" height=\"12\"> of the form <span style=\"white-space:pre;\"><img src=\"//latex.artofproblemsolving.com/f/9/f/f9f06f0c47c3a3ca538f1b16ab264179ef7d8e20.png\" class=\"latex\" alt=\"$P(x)=x^k+c_{k-1} x^{k-1}+\\cdots+c_1 x+c_0$\" style=\"vertical-align: -5px\" width=\"303\" height=\"22\">,</span> where <img src=\"//latex.artofproblemsolving.com/9/1/d/91d79fb1bd20571ade92582af5fc9f1d8e63a083.png\" class=\"latex\" alt=\"$c_0, c_1, \\ldots, c_{k-1}$\" style=\"vertical-align: -5px\" width=\"114\" height=\"14\"> are non-negative integers, such that<br>\n",
      "<img src=\"//latex.artofproblemsolving.com/f/a/0/fa0ca08871ee0f6ae789affef39820e58810976f.png\" class=\"latexcenter\" alt=\"$$\n",
      "P\\left(a_n\\right)=a_{n+1} a_{n+2} \\cdots a_{n+k}\n",
      "$$\" width=\"206\" height=\"18\">for every integer <span style=\"white-space:pre;\"><img src=\"//latex.artofproblemsolving.com/5/b/d/5bd637ab33d51cf34fea5d81ba8317243a24b74b.png\" class=\"latex\" alt=\"$n \\geqslant 1$\" style=\"vertical-align: -2px\" width=\"43\" height=\"14\">.</span>\n",
      "\n",
      "\n",
      "For each integer <span style=\"white-space:pre;\"><img src=\"//latex.artofproblemsolving.com/d/8/7/d87c2b4566d22220a6ba3b51d206a466e07ef257.png\" class=\"latex\" alt=\"$k \\geqslant 2$\" style=\"vertical-align: -3px\" width=\"45\" height=\"17\">,</span> determine all infinite sequences of positive integers <img src=\"//latex.artofproblemsolving.com/5/6/5/56551a1cd4be3a5d996736e858917416035f3c8c.png\" class=\"latex\" alt=\"$a_1, a_2, \\ldots$\" style=\"vertical-align: -3px\" width=\"70\" height=\"11\"> for which there exists a polynomial <img src=\"//latex.artofproblemsolving.com/4/b/4/4b4cade9ca8a2c8311fafcf040bc5b15ca507f52.png\" class=\"latex\" alt=\"$P$\" width=\"14\" height=\"12\"> of the form <span style=\"white-space:pre;\"><img src=\"//latex.artofproblemsolving.com/f/9/f/f9f06f0c47c3a3ca538f1b16ab264179ef7d8e20.png\" class=\"latex\" alt=\"$P(x)=x^k+c_{k-1} x^{k-1}+\\cdots+c_1 x+c_0$\" style=\"vertical-align: -5px\" width=\"303\" height=\"22\">,</span> where <img src=\"//latex.artofproblemsolving.com/9/1/d/91d79fb1bd20571ade92582af5fc9f1d8e63a083.png\" class=\"latex\" alt=\"$c_0, c_1, \\ldots, c_{k-1}$\" style=\"vertical-align: -5px\" width=\"114\" height=\"14\"> are non-negative integers, such that<br>\n",
      "<img src=\"//latex.artofproblemsolving.com/f/a/0/fa0ca08871ee0f6ae789affef39820e58810976f.png\" class=\"latexcenter\" alt=\"$$\n",
      "P\\left(a_n\\right)=a_{n+1} a_{n+2} \\cdots a_{n+k}\n",
      "$$\" width=\"206\" height=\"18\">for every integer <span style=\"white-space:pre;\"><img src=\"//latex.artofproblemsolving.com/5/b/d/5bd637ab33d51cf34fea5d81ba8317243a24b74b.png\" class=\"latex\" alt=\"$n \\geqslant 1$\" style=\"vertical-align: -2px\" width=\"43\" height=\"14\">.</span>\n"
     ]
    }
   ],
   "source": [
    "contoh = (data[\"imo\"]\n",
    "      [\"2023imo\"]\n",
    "      [\"items\"]\n",
    "      [2]\n",
    "      [\"post_rendered\"])\n",
    "print(contoh)\n",
    "print()\n",
    "print()\n",
    "print(decode_html_entities(contoh))\n",
    "\n",
    "# print(contoh.replace(\"\\\\\", \" \"))\n",
    "# print()\n",
    "# print(remove_redundant_white_spaces(contoh.replace(\"\\\\\", \" \")))\n",
    "# print()\n",
    "# print(\n",
    "#     html.unescape(contoh.replace(\"\\\\\", \" \"))\n",
    "# )\n"
   ]
  },
  {
   "cell_type": "code",
   "execution_count": 16,
   "metadata": {},
   "outputs": [
    {
     "name": "stdout",
     "output_type": "stream",
     "text": [
      "1 leq i<j leq 100\n"
     ]
    }
   ],
   "source": [
    "a = \"1\\leq i<j\\leq 100\"\n",
    "\n",
    "print(a.replace(\"\\\\\", \" \"))"
   ]
  },
  {
   "cell_type": "code",
   "execution_count": 54,
   "metadata": {},
   "outputs": [
    {
     "name": "stdout",
     "output_type": "stream",
     "text": [
      "ABC \\begin{asdf}\n"
     ]
    }
   ],
   "source": [
    "dum = \"ABC\\n\\\\begin{asdf}\"\n",
    "\n",
    "print(dum.replace(\"\\n\", \" \"))\n"
   ]
  },
  {
   "cell_type": "code",
   "execution_count": 3,
   "metadata": {},
   "outputs": [
    {
     "name": "stdout",
     "output_type": "stream",
     "text": [
      "☃\n"
     ]
    }
   ],
   "source": [
    "print(\"\\N{SNOWMAN}\")"
   ]
  },
  {
   "cell_type": "code",
   "execution_count": null,
   "metadata": {},
   "outputs": [],
   "source": []
  }
 ],
 "metadata": {
  "kernelspec": {
   "display_name": "artofproblemsolving",
   "language": "python",
   "name": "python3"
  },
  "language_info": {
   "codemirror_mode": {
    "name": "ipython",
    "version": 3
   },
   "file_extension": ".py",
   "mimetype": "text/x-python",
   "name": "python",
   "nbconvert_exporter": "python",
   "pygments_lexer": "ipython3",
   "version": "3.9.12"
  }
 },
 "nbformat": 4,
 "nbformat_minor": 2
}
