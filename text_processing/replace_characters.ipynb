{
 "cells": [
  {
   "cell_type": "code",
   "execution_count": 23,
   "metadata": {},
   "outputs": [],
   "source": [
    "import json\n",
    "import pandas as pd\n",
    "\n",
    "\n",
    "\"\"\"\n",
    "TODO:\n",
    "1. Data sudah bener2 post_rendered, tinggal processing untuk di training BERT\n",
    "\"\"\"\n",
    "\n",
    "def remove_backslash(text: str) -> str:\n",
    "    result = text.replace(\"\\\\\", \" \")\n",
    "    return result\n",
    "\n",
    "def remove_redundant_white_spaces(text: str) -> str:\n",
    "    from re import sub\n",
    "    return sub(r'\\s+', ' ', text).strip()\n",
    "\n",
    "\n",
    "file_path = 'C:/wamp64/www/artofproblemsolving/data/data_post_rendered.csv'\n",
    "df = pd.read_csv(file_path)\n",
    "\n",
    "# display_dictionary(data)\n"
   ]
  },
  {
   "cell_type": "code",
   "execution_count": null,
   "metadata": {},
   "outputs": [],
   "source": []
  },
  {
   "cell_type": "code",
   "execution_count": null,
   "metadata": {},
   "outputs": [],
   "source": []
  }
 ],
 "metadata": {
  "kernelspec": {
   "display_name": "artofproblemsolving",
   "language": "python",
   "name": "python3"
  },
  "language_info": {
   "codemirror_mode": {
    "name": "ipython",
    "version": 3
   },
   "file_extension": ".py",
   "mimetype": "text/x-python",
   "name": "python",
   "nbconvert_exporter": "python",
   "pygments_lexer": "ipython3",
   "version": "3.9.12"
  }
 },
 "nbformat": 4,
 "nbformat_minor": 2
}
