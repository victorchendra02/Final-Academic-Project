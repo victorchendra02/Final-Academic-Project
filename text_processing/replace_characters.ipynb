{
 "cells": [
  {
   "cell_type": "code",
   "execution_count": 23,
   "metadata": {},
   "outputs": [],
   "source": [
    "import json\n",
    "import pandas as pd\n",
    "\n",
    "\n",
    "\"\"\"\n",
    "TODO:\n",
    "1. Data sudah bener2 post_rendered, tinggal processing untuk di training BERT\n",
    "\"\"\"\n",
    "\n",
    "def remove_backslash(text: str) -> str:\n",
    "    result = text.replace(\"\\\\\", \" \")\n",
    "    return result\n",
    "\n",
    "def remove_redundant_white_spaces(text: str) -> str:\n",
    "    from re import sub\n",
    "    return sub(r'\\s+', ' ', text).strip()\n",
    "\n",
    "\n",
    "file_path = 'C:/wamp64/www/artofproblemsolving/data/data_post_rendered.csv'\n",
    "df = pd.read_csv(file_path)\n",
    "\n",
    "# display_dictionary(data)\n"
   ]
  },
  {
   "cell_type": "code",
   "execution_count": 24,
   "metadata": {},
   "outputs": [],
   "source": [
    "\"\"\"\n",
    "NOTE:\n",
    "Jangan lupa `$...$ hilangin dolar`\n",
    "Extrak yang diapit dolar (ada yag `$$...$$`) atau lebih dolarnya\n",
    "\"\"\"\n",
    "\n",
    "# >\n",
    "biggerthan = \"biggerthan\"\n",
    "# <\n",
    "smallerthan = \"smallerthan\"\n",
    "# +\n",
    "plus_or_positive = \"plus_or_positive\"\n",
    "# -\n",
    "minus_or_negative = \"minus_or_negative\"\n",
    "# / == \\frac{}{}\n",
    "\n",
    "# :\n",
    "\n",
    "# =\n",
    "equal = \"equal\"\n",
    "# !\n",
    "factorial = \"factorial\"\n",
    "\n",
    "# ^\n",
    "superscript_variable = \"superscript_variable\"\n",
    "# _\n",
    "subscript_variable = \"subscript_variable\"\n",
    "# ^_\n",
    "combined_supersubscript_variable = \"combined_supersubscript_variable\"\n",
    "\n",
    "# ABC --> \"uppercase_variable uppercase_variable uppercase_variable\"\n",
    "uppercase_variable = \"uppercase_variable\"\n",
    "# n, x, y --> lowercase_variable\n",
    "lowercase_variable = \"lowercase_variable\"\n"
   ]
  },
  {
   "cell_type": "code",
   "execution_count": null,
   "metadata": {},
   "outputs": [],
   "source": []
  }
 ],
 "metadata": {
  "kernelspec": {
   "display_name": "artofproblemsolving",
   "language": "python",
   "name": "python3"
  },
  "language_info": {
   "codemirror_mode": {
    "name": "ipython",
    "version": 3
   },
   "file_extension": ".py",
   "mimetype": "text/x-python",
   "name": "python",
   "nbconvert_exporter": "python",
   "pygments_lexer": "ipython3",
   "version": "3.9.12"
  }
 },
 "nbformat": 4,
 "nbformat_minor": 2
}
