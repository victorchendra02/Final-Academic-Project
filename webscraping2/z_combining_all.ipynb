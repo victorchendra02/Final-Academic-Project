{
 "cells": [
  {
   "cell_type": "code",
   "execution_count": 3,
   "metadata": {},
   "outputs": [],
   "source": [
    "import pandas as pd\n",
    "\n",
    "apmo = pd.read_csv(\"../data/regression/apmo/apmo_combined.csv\")\n",
    "benelux = pd.read_csv(\"../data/regression/benelux/benelux_combined.csv\")\n",
    "egmo = pd.read_csv(\"../data/regression/egmo/egmo_combined.csv\")\n",
    "imo = pd.read_csv(\"../data/regression/imo/imo_combined.csv\")\n",
    "\n",
    "combined_df = pd.concat([apmo, benelux, egmo, imo], ignore_index=True)\n",
    "combined_df.drop(columns=['Unnamed: 0'], inplace=True, errors='ignore')\n",
    "combined_df = combined_df.sample(frac=1, random_state=42)\n",
    "\n",
    "combined_df.to_csv(\"../data/regression/combined_all.csv\")\n"
   ]
  },
  {
   "cell_type": "code",
   "execution_count": null,
   "metadata": {},
   "outputs": [],
   "source": []
  }
 ],
 "metadata": {
  "kernelspec": {
   "display_name": "aops_tenflow",
   "language": "python",
   "name": "python3"
  },
  "language_info": {
   "codemirror_mode": {
    "name": "ipython",
    "version": 3
   },
   "file_extension": ".py",
   "mimetype": "text/x-python",
   "name": "python",
   "nbconvert_exporter": "python",
   "pygments_lexer": "ipython3",
   "version": "3.9.12"
  }
 },
 "nbformat": 4,
 "nbformat_minor": 2
}
