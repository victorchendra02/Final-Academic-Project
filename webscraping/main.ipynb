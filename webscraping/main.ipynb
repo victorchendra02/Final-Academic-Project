{
 "cells": [
  {
   "cell_type": "markdown",
   "metadata": {},
   "source": [
    "## Scraping AoPS (Art of Problem Solving)"
   ]
  },
  {
   "cell_type": "code",
   "execution_count": 1,
   "metadata": {},
   "outputs": [],
   "source": [
    "# !pip install -r requirements.txt"
   ]
  },
  {
   "cell_type": "code",
   "execution_count": 1,
   "metadata": {},
   "outputs": [
    {
     "name": "stdout",
     "output_type": "stream",
     "text": [
      "pygame 2.5.0 (SDL 2.28.0, Python 3.9.12)\n",
      "Hello from the pygame community. https://www.pygame.org/contribute.html\n"
     ]
    }
   ],
   "source": [
    "# Import library needed\n",
    "import os\n",
    "import json\n",
    "import pickle\n",
    "import ctypes\n",
    "import pygame\n",
    "import datetime\n",
    "import requests\n",
    "import webbrowser\n",
    "import numpy as np\n",
    "import pandas as pd\n",
    "\n",
    "from time import sleep\n",
    "from selenium import webdriver\n",
    "from selenium.webdriver.common.by import By\n",
    "from selenium.webdriver.support.wait import WebDriverWait\n",
    "from selenium.common.exceptions import NoSuchElementException\n",
    "from selenium.webdriver.support import expected_conditions as EC\n",
    "\n",
    "\n",
    "from selenium.webdriver.firefox.options import Options\n",
    "root_url = \"https://artofproblemsolving.com/community/c13_contest_collections\"\n",
    "opts = Options().add_argument(\"--private\")\n",
    "\n",
    "# Configuration\n",
    "os.environ['PATH'] += r\";C:/SeleniumDrivers\"\n",
    "firefox_driver_path = \"C:/SeleniumDrivers/geckodriver.exe\"\n",
    "driver = webdriver.Firefox(executable_path=firefox_driver_path, options=opts)\n",
    "wait = WebDriverWait(driver, 20)\n",
    "driver.maximize_window()\n",
    "driver.get(root_url)\n",
    "sleep(2)\n"
   ]
  },
  {
   "cell_type": "code",
   "execution_count": 2,
   "metadata": {},
   "outputs": [
    {
     "name": "stdout",
     "output_type": "stream",
     "text": [
      "\u001b[94m'data.json'\u001b[0m exist!\n"
     ]
    }
   ],
   "source": [
    "class bcolors:\n",
    "    FAIL = \"\\033[91m\"\n",
    "    OKGREEN = \"\\033[92m\"\n",
    "    WARNING = \"\\033[93m\"\n",
    "    OKBLUE = \"\\033[94m\"\n",
    "    HEADER = \"\\033[95m\"\n",
    "    OKCYAN = \"\\033[96m\"\n",
    "    ENDC = \"\\033[0m\"\n",
    "    BOLD = \"\\033[1m\"\n",
    "    UNDERLINE = \"\\033[4m\"\n",
    "\n",
    "def save_as_json(the_dictionary, fname):\n",
    "    with open(f'{fname}', \"w\") as file:\n",
    "        json.dump(the_dictionary, file)\n",
    "    return \"Saved as .json!\"\n",
    "\n",
    "def read_json(fname):\n",
    "    with open(f'{fname}', \"r\") as file:\n",
    "        data = json.load(file)\n",
    "    return data\n",
    "\n",
    "def scroll_to_bottom(driver):\n",
    "    # Get initial document height\n",
    "    prev_height = driver.execute_script(\"return Math.max( document.body.scrollHeight, document.body.offsetHeight, document.documentElement.clientHeight, document.documentElement.scrollHeight, document.documentElement.offsetHeight );\")\n",
    "\n",
    "    while True:\n",
    "        # Scroll to the bottom of the page\n",
    "        driver.execute_script(\"window.scrollTo(0, document.body.scrollHeight);\")\n",
    "\n",
    "        # Wait for a brief moment for the page to load more content (you can adjust the wait time if needed)\n",
    "        # driver.implicitly_wait(3)\n",
    "        sleep(2)\n",
    "\n",
    "        # Get the new document height after scrolling\n",
    "        new_height = driver.execute_script(\"return Math.max( document.body.scrollHeight, document.body.offsetHeight, document.documentElement.clientHeight, document.documentElement.scrollHeight, document.documentElement.offsetHeight );\")\n",
    "\n",
    "        # If the new height is the same as the previous height, we've reached the bottom of the page\n",
    "        if new_height == prev_height:\n",
    "            break\n",
    "\n",
    "        # Update the previous height with the new height\n",
    "        prev_height = new_height\n",
    "\n",
    "def scroll_to_top(driver):\n",
    "    driver.execute_script(\"window.scrollTo(0, 0);\")\n",
    "\n",
    "def display_dictionary(d: dict):\n",
    "    print(json.dumps(d, indent=4))\n",
    "\n",
    "def previous_page():\n",
    "    driver.back()\n",
    "    sleep(2)\n",
    "\n",
    "\n",
    "# ############# CAREFULL WITH THIS #############\n",
    "__file_path__ = r\"C:/Users/victo/artofproblemsolving/data.json\"\n",
    "if os.path.exists(__file_path__):\n",
    "    data = read_json(__file_path__)\n",
    "    print(f\"{bcolors.OKBLUE}'data.json'{bcolors.ENDC} exist!\")\n",
    "else:\n",
    "    data = \\\n",
    "    {\n",
    "        \"Contest Collections\" : {\n",
    "            \"link\": \"https://artofproblemsolving.com/community/c13_contest_collections\",\n",
    "            \"International Contests\": {\n",
    "                \"link\": \"https://artofproblemsolving.com/community/c14_international_contests\",\n",
    "                },\n",
    "            \"National and Regional Contests\": {\n",
    "                \"link\": \"https://artofproblemsolving.com/community/c16_national_and_regional_contests\",\n",
    "                }\n",
    "        }\n",
    "    }\n",
    "    save_as_json(data, __file_path__)\n",
    "    print(f\"Initializing new {bcolors.OKGREEN}'data.json'{bcolors.ENDC}\")\n"
   ]
  },
  {
   "cell_type": "code",
   "execution_count": null,
   "metadata": {},
   "outputs": [],
   "source": []
  },
  {
   "cell_type": "markdown",
   "metadata": {},
   "source": [
    "### 1. International Contests\n"
   ]
  },
  {
   "cell_type": "code",
   "execution_count": 5,
   "metadata": {},
   "outputs": [
    {
     "data": {
      "text/plain": [
       "'Saved as .json!'"
      ]
     },
     "execution_count": 5,
     "metadata": {},
     "output_type": "execute_result"
    }
   ],
   "source": [
    "# 1. Masuk International Contests\n",
    "root_international_contests = wait.until(EC.visibility_of_element_located((By.CSS_SELECTOR, \"div.cmty-category-cell:nth-child(1) > div:nth-child(2)\")))\n",
    "driver.execute_script('return arguments[0].shadowRoot', root_international_contests)\n",
    "root_international_contests.click(); sleep(1)\n",
    "scroll_to_bottom(driver); sleep(1)\n",
    "scroll_to_top(driver); sleep(1)\n",
    "\n",
    "# 2. Loop ke semua CATEGORY INTERNATIONAL CONTESTS (IMO)\n",
    "container_div = driver.find_element_by_css_selector(\".cmty-folder-grid-container\")\n",
    "content_of_each_IMO_div: list = container_div.find_elements_by_css_selector(\"div[class^='cmty-category-cell cmty-category-cell-folder  cmty-category-cell-no-numrow']\")\n",
    "for div in content_of_each_IMO_div:\n",
    "    link = div.find_element_by_css_selector(\".cmty-category-cell-heading.cmty-cat-cell-top-legit\").find_element_by_css_selector('.cmty-full-cell-link').get_attribute(\"href\")\n",
    "    \n",
    "    # Setiap CATEGORY IMO menjadi key\n",
    "    for i in range(len(str(link))):\n",
    "        if link[i] == '_':\n",
    "            # Membuat key baru\n",
    "            data['Contest Collections']['International Contests'][link[i+1:]] = {}\n",
    "            \n",
    "            # Masuk ke halaman CATEGORY ITU\n",
    "            div.find_element_by_css_selector(\".cmty-category-cell-heading.cmty-cat-cell-top-legit\").click()\n",
    "            scroll_to_bottom(driver); sleep(1)\n",
    "            scroll_to_top(driver); sleep(1)\n",
    "            \n",
    "            # 3. List dari tahun ke tahun\n",
    "            container_yearIMO_div = driver.find_element_by_css_selector(\".cmty-folder-grid-container\")\n",
    "            content_of_each_yearIMO_div: list = container_yearIMO_div.find_elements_by_css_selector(\"div[class^='cmty-category-cell cmty-category-cell-folder']\")\n",
    "            \n",
    "            for each_content_yearIMO in content_of_each_yearIMO_div:\n",
    "                link_yearIMO = each_content_yearIMO.find_element_by_css_selector(\".cmty-category-cell-heading.cmty-cat-cell-top-legit\").find_element_by_css_selector('.cmty-full-cell-link').get_attribute(\"href\")\n",
    "\n",
    "                for j in range(len(str(link_yearIMO))):\n",
    "                    if link_yearIMO[j] == '_':\n",
    "                        # Membuat key baru dan data soal dalam bentuk record\n",
    "                        data['Contest Collections']['International Contests'][link[i+1:]][link_yearIMO[j+1:]] = {\"link\": link_yearIMO, \"items\": [], \"pdf\": \"\"}\n",
    "\n",
    "                        # Masuk ke halaman SOAL\n",
    "                        each_content_yearIMO.find_element_by_css_selector(\".cmty-category-cell-heading.cmty-cat-cell-top-legit\").click(); sleep(1)\n",
    "\n",
    "\n",
    "                        # ############################## DI SINI SOALNYA DISCRAPING ##############################\n",
    "                        scroll_to_bottom(driver); sleep(1)\n",
    "                        scroll_to_top(driver); sleep(1)\n",
    "                        container_soal = driver.find_element_by_css_selector(\".cmty-folder-grid-container\")\n",
    "                        content_each_soal: list = container_soal.find_elements_by_css_selector(\"div[class^='cmty-view-posts-item cmty-view-post-item-w-label']\")\n",
    "                        \n",
    "\n",
    "                        # Link PDF SOAL\n",
    "                        data['Contest Collections']['International Contests'][link[i+1:]][link_yearIMO[j+1:]]['pdf'] = driver.find_element_by_css_selector(\".cmty-category-cell-mid.cmty-view-pdf\").find_element_by_css_selector(\".aops-font\").get_attribute(\"href\")\n",
    "                        for soal in content_each_soal:\n",
    "                            if \"cmty-view-posts-item cmty-view-post-item-w-label cmty-vp-both\" in \" \".join(soal.get_attribute('class').lower().split()):\n",
    "                                no = soal.find_element_by_css_selector(\".cmty-view-post-item-label\").text\n",
    "                                post_rendered = soal.find_element_by_css_selector(\".cmty-view-post-item-text\").get_attribute(\"innerHTML\")\n",
    "\n",
    "                                record = {\n",
    "                                    # \"day\": None,\n",
    "                                    # \"date\": None,\n",
    "                                    \"no\": no,\n",
    "                                    \"post_rendered\": str(post_rendered),\n",
    "                                    \"post_canonical\": None,\n",
    "                                    \"label\": None\n",
    "                                }\n",
    "                                \n",
    "                                data['Contest Collections']['International Contests'][link[i+1:]][link_yearIMO[j+1:]]['items'].append(record)\n",
    "                        break  # FIX\n",
    "                previous_page()\n",
    "                # break  # TAHUN LOMBA \n",
    "            break  # FIX\n",
    "    previous_page()\n",
    "    sleep(1)\n",
    "    # break  # CATEGORY INTERNATIONAL CONTESTS\n",
    "\n",
    "save_as_json(data, \"data.json\")\n"
   ]
  },
  {
   "cell_type": "code",
   "execution_count": 7,
   "metadata": {},
   "outputs": [
    {
     "name": "stdout",
     "output_type": "stream",
     "text": [
      "Done\n"
     ]
    }
   ],
   "source": [
    "print('Done')"
   ]
  },
  {
   "cell_type": "markdown",
   "metadata": {},
   "source": [
    "### 2. National and Regional Contests\n"
   ]
  },
  {
   "cell_type": "code",
   "execution_count": null,
   "metadata": {},
   "outputs": [],
   "source": [
    "def filter_link(link):\n",
    "    for i in range(len(str(link))):\n",
    "        if link[i] == '_':\n",
    "            return link[i+1:]\n",
    "    "
   ]
  },
  {
   "cell_type": "code",
   "execution_count": 3,
   "metadata": {},
   "outputs": [],
   "source": [
    "# 1. Masuk National and Regional Contests\n",
    "root_international_contests = wait.until(EC.visibility_of_element_located((By.CSS_SELECTOR, \"div.cmty-category-cell:nth-child(2) > div:nth-child(2)\")))\n",
    "driver.execute_script('return arguments[0].shadowRoot', root_international_contests)\n",
    "root_international_contests.click(); sleep(1)\n",
    "scroll_to_bottom(driver); sleep(1)\n",
    "scroll_to_top(driver); sleep(1)\n"
   ]
  },
  {
   "cell_type": "markdown",
   "metadata": {},
   "source": [
    "#### 2.1. USA Contests (Special Case)"
   ]
  },
  {
   "cell_type": "code",
   "execution_count": 16,
   "metadata": {},
   "outputs": [],
   "source": [
    "# 2. Masuk ke UAS Contests\n",
    "container_div = driver.find_element_by_css_selector(\".cmty-folder-grid-container\")\n",
    "USA_Contests = container_div.find_elements_by_css_selector(\"div[class^='cmty-category-cell cmty-category-cell-folder  cmty-category-cell-no-numrow']\")[0]\n",
    "link = USA_Contests.find_element_by_css_selector(\".cmty-category-cell-heading.cmty-cat-cell-top-legit\").find_element_by_css_selector('.cmty-full-cell-link').get_attribute(\"href\")\n",
    "\n",
    "# for div in content_of_each_NR_contest:\n",
    "#     div.find_element_by_css_selector(\".cmty-category-cell-heading.cmty-cat-cell-top-legit\").click()\n",
    "#     break\n",
    "\n",
    "    # for i in range(len(str(link))):\n",
    "    #     print(link)\n",
    "    #     break\n",
    "        # if link[i] == '_':\n",
    "        #     print(link[i+1:])\n",
    "        #     break\n"
   ]
  },
  {
   "cell_type": "code",
   "execution_count": null,
   "metadata": {},
   "outputs": [],
   "source": []
  }
 ],
 "metadata": {
  "kernelspec": {
   "display_name": "Python 3",
   "language": "python",
   "name": "python3"
  },
  "language_info": {
   "codemirror_mode": {
    "name": "ipython",
    "version": 3
   },
   "file_extension": ".py",
   "mimetype": "text/x-python",
   "name": "python",
   "nbconvert_exporter": "python",
   "pygments_lexer": "ipython3",
   "version": "3.9.12"
  },
  "orig_nbformat": 4
 },
 "nbformat": 4,
 "nbformat_minor": 2
}
