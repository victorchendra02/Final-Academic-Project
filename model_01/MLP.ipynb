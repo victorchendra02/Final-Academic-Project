{
 "cells": [
  {
   "cell_type": "code",
   "execution_count": 1,
   "metadata": {},
   "outputs": [],
   "source": [
    "import pickle\n",
    "\n",
    "import numpy as np\n",
    "import pandas as pd\n",
    "from sklearn.feature_extraction.text import TfidfVectorizer\n",
    "from sklearn.neural_network import MLPClassifier\n",
    "from sklearn.neural_network import MLPRegressor\n",
    "from sklearn.pipeline import make_pipeline\n",
    "from sklearn.model_selection import train_test_split\n",
    "from sklearn.metrics import classification_report, confusion_matrix\n",
    "\n",
    "from sklearn.metrics import mean_absolute_error, mean_squared_error, r2_score\n",
    "from sklearn.metrics import accuracy_score\n",
    "\n",
    "\n",
    "# Function\n",
    "def save_pkl(obj: any, name: str):\n",
    "    \"\"\"Saves an object to a pickle file, ensuring proper file extension and security.\n",
    "\n",
    "    Args:\n",
    "        obj: The object to serialize and save.\n",
    "        name (str): The desired filename or path.\n",
    "            - If it doesn't end with \".pkl\", `.pkl` will be appended.\n",
    "            - Supports relative and absolute paths.\n",
    "        protocol (int, optional): The pickle protocol version to use. Defaults to the\n",
    "            highest compatible with the current Python version.\n",
    "\n",
    "    Raises:\n",
    "        ValueError: If `name` is an empty string or if file operations fail.\n",
    "        PickleError: If pickling encounters an error.\n",
    "    \"\"\"\n",
    "\n",
    "    \n",
    "    if len(name) == 0:\n",
    "        raise ValueError(\"Filename cannot be empty\")\n",
    "\n",
    "    if not name.endswith(\".pkl\"):\n",
    "        name += \".pkl\"\n",
    "\n",
    "    try:\n",
    "        with open(name, 'wb') as file:\n",
    "            pickle.dump(obj, file)\n",
    "    except (OSError, IOError) as e:\n",
    "        raise ValueError(f\"Failed to save pickle file: {e}\") from e\n",
    "    except pickle.PickleError as e:\n",
    "        raise pickle.PickleError(f\"Pickling error: {e}\") from e\n",
    "\n",
    "    print(f\"Saved: \\\"{name}\\\"\")\n",
    "\n",
    "def load_pkl(name: str):\n",
    "    if len(name) == 0:\n",
    "        raise ValueError(\"Filename cannot be empty\")\n",
    "\n",
    "    with open(name, 'rb') as file:\n",
    "        return pickle.load(file)\n",
    "\n",
    "def model_information(model, X_test, y_test):\n",
    "    import numpy as np\n",
    "    import matplotlib.pyplot as plt\n",
    "    \n",
    "    from sklearn.metrics import accuracy_score\n",
    "    from sklearn.metrics import precision_score\n",
    "    from sklearn.metrics import recall_score\n",
    "    from sklearn.metrics import f1_score\n",
    "    from sklearn.metrics import confusion_matrix, ConfusionMatrixDisplay\n",
    "    \n",
    "    y_pred = model.predict(X_test)\n",
    "    \n",
    "    accuracy = accuracy_score(y_test, y_pred)\n",
    "    precision = precision_score(y_test, y_pred, average='weighted')\n",
    "    recall = recall_score(y_test, y_pred, average='weighted')\n",
    "    f1 = f1_score(y_test, y_pred, average='weighted')\n",
    "    \n",
    "    print(\"Overall accuracy model:\")\n",
    "    print(f\"Accuracy  = {accuracy*100:<.2f}%\")\n",
    "    print(f\"Precision = {precision*100:<.2f}%\")\n",
    "    print(f\"Recall    = {recall*100:<.2f}%\")\n",
    "    print(f\"F1-score  = {f1*100:<.2f}%\\n\")\n",
    "    \n",
    "    cm = confusion_matrix(y_test, y_pred, labels=model.classes_)\n",
    "\n",
    "    heatmap = ConfusionMatrixDisplay(confusion_matrix=cm, display_labels=model.classes_)\n",
    "    labels = np.unique(y_test)\n",
    "\n",
    "    print(\"Accuracy model for each label:\")\n",
    "    for label in labels:\n",
    "        idx = np.where(model.classes_ == label)[0][0]\n",
    "        label_accuracy = cm[idx, idx] / np.sum(cm[idx, :])\n",
    "        print(f\"{label:<14s}= {label_accuracy*100:.2f}%\")\n",
    "\n",
    "    heatmap.plot()\n",
    "    plt.show()\n"
   ]
  },
  {
   "cell_type": "code",
   "execution_count": 2,
   "metadata": {},
   "outputs": [
    {
     "name": "stdout",
     "output_type": "stream",
     "text": [
      "Algebra       = 726\n",
      "Combinatorics = 630\n",
      "Geometry      = 1164\n",
      "Number Theory = 704\n"
     ]
    }
   ],
   "source": [
    "# Read dataset\n",
    "df = pd.read_csv('../data/imo.csv')\n",
    "\n",
    "\n",
    "df_notna = df[df[\"label\"].notna()]\n",
    "df_notna.reset_index(drop=True, inplace=True)\n",
    "\n",
    "number_of_occurrences = [\n",
    "    df_notna[df_notna['label'] == 'Algebra'].shape[0],\n",
    "    df_notna[df_notna['label'] == 'Combinatorics'].shape[0],\n",
    "    df_notna[df_notna['label'] == 'Geometry'].shape[0],\n",
    "    df_notna[df_notna['label'] == 'Number Theory'].shape[0]\n",
    "]\n",
    "print(f\"Algebra       = {number_of_occurrences[0]}\")\n",
    "print(f\"Combinatorics = {number_of_occurrences[1]}\")\n",
    "print(f\"Geometry      = {number_of_occurrences[2]}\")\n",
    "print(f\"Number Theory = {number_of_occurrences[3]}\")\n"
   ]
  },
  {
   "cell_type": "code",
   "execution_count": 3,
   "metadata": {},
   "outputs": [],
   "source": [
    "# Kurangi soal geometry\n",
    "aa = df_notna[df_notna['label'] == \"Algebra\"].sample(726)\n",
    "cc = df_notna[df_notna['label'] == \"Combinatorics\"].sample(630)\n",
    "gg = df_notna[df_notna['label'] == \"Geometry\"].sample(790)\n",
    "nt = df_notna[df_notna['label'] == \"Number Theory\"].sample(704)\n",
    "df_notna = pd.concat([aa, cc, gg, nt], axis=0)\n",
    "\n",
    "# Shuffle \n",
    "df_notna = df_notna.sample(frac=1, random_state=42)\n",
    "df_notna.reset_index(drop=True, inplace=True)\n",
    "\n",
    "# Split\n",
    "X, y = df_notna[\"post_canonical\"], df_notna[\"label\"]\n"
   ]
  },
  {
   "cell_type": "code",
   "execution_count": 4,
   "metadata": {},
   "outputs": [],
   "source": [
    "X_train, X_test, y_train, y_test = train_test_split(X, y, test_size=0.2, random_state=42)\n",
    "\n",
    "# Creating a pipeline with TF-IDF vectorizer and MLP classifier\n",
    "clf = make_pipeline(\n",
    "    TfidfVectorizer(),\n",
    "    MLPClassifier(\n",
    "        hidden_layer_sizes=(900, 600, 300,), \n",
    "        activation=\"logistic\",\n",
    "        solver=\"adam\",\n",
    "        alpha=0.00012,\n",
    "        batch_size=\"auto\",\n",
    "        learning_rate='constant',\n",
    "        learning_rate_init=0.00012,\n",
    "        power_t=0.5,\n",
    "        max_iter=1050,\n",
    "        shuffle=True, \n",
    "        random_state=42\n",
    "        )\n",
    ")\n",
    "\n",
    "# Training the classifier\n",
    "clf.fit(X_train, y_train)\n",
    "\n",
    "# Predicting labels for the test set\n",
    "y_pred = clf.predict(X_test)\n"
   ]
  },
  {
   "cell_type": "code",
   "execution_count": 5,
   "metadata": {},
   "outputs": [
    {
     "name": "stdout",
     "output_type": "stream",
     "text": [
      "Overall accuracy model:\n",
      "Accuracy  = 85.61%\n",
      "Precision = 86.23%\n",
      "Recall    = 85.61%\n",
      "F1-score  = 85.76%\n",
      "\n",
      "Accuracy model for each label:\n",
      "Algebra       = 80.00%\n",
      "Combinatorics = 89.19%\n",
      "Geometry      = 91.25%\n",
      "Number Theory = 82.73%\n"
     ]
    },
    {
     "data": {
      "image/png": "[encoded data removed]",
      "text/plain": [
       "<Figure size 640x480 with 2 Axes>"
      ]
     },
     "metadata": {},
     "output_type": "display_data"
    }
   ],
   "source": [
    "model_information(clf, X_test, y_test)"
   ]
  },
  {
   "cell_type": "code",
   "execution_count": 6,
   "metadata": {},
   "outputs": [
    {
     "name": "stdout",
     "output_type": "stream",
     "text": [
      "               precision    recall  f1-score   support\n",
      "\n",
      "      Algebra       0.85      0.80      0.83       160\n",
      "Combinatorics       0.77      0.89      0.83       111\n",
      "     Geometry       0.99      0.91      0.95       160\n",
      "Number Theory       0.79      0.83      0.81       139\n",
      "\n",
      "     accuracy                           0.86       570\n",
      "    macro avg       0.85      0.86      0.85       570\n",
      " weighted avg       0.86      0.86      0.86       570\n",
      "\n"
     ]
    }
   ],
   "source": [
    "print(classification_report(y_test, y_pred))"
   ]
  },
  {
   "cell_type": "code",
   "execution_count": 7,
   "metadata": {},
   "outputs": [
    {
     "name": "stdout",
     "output_type": "stream",
     "text": [
      "[[128  10   0  22]\n",
      " [  4  99   1   7]\n",
      " [  2  11 146   1]\n",
      " [ 16   8   0 115]]\n"
     ]
    }
   ],
   "source": [
    "print(confusion_matrix(y_test, y_pred))"
   ]
  },
  {
   "cell_type": "code",
   "execution_count": null,
   "metadata": {},
   "outputs": [],
   "source": []
  }
 ],
 "metadata": {
  "kernelspec": {
   "display_name": "artofproblemsolving",
   "language": "python",
   "name": "python3"
  },
  "language_info": {
   "codemirror_mode": {
    "name": "ipython",
    "version": 3
   },
   "file_extension": ".py",
   "mimetype": "text/x-python",
   "name": "python",
   "nbconvert_exporter": "python",
   "pygments_lexer": "ipython3",
   "version": "3.9.12"
  }
 },
 "nbformat": 4,
 "nbformat_minor": 2
}
