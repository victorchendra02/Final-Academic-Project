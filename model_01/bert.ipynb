{
 "cells": [
  {
   "cell_type": "code",
   "execution_count": 1,
   "metadata": {},
   "outputs": [
    {
     "name": "stderr",
     "output_type": "stream",
     "text": [
      "c:\\Users\\victo\\anaconda3\\envs\\aops_tf\\lib\\site-packages\\tensorflow_addons\\utils\\tfa_eol_msg.py:23: UserWarning: \n",
      "\n",
      "TensorFlow Addons (TFA) has ended development and introduction of new features.\n",
      "TFA has entered a minimal maintenance and release mode until a planned end of life in May 2024.\n",
      "Please modify downstream libraries to take dependencies from other repositories in our TensorFlow community (e.g. Keras, Keras-CV, and Keras-NLP). \n",
      "\n",
      "For more information see: https://github.com/tensorflow/addons/issues/2807 \n",
      "\n",
      "  warnings.warn(\n",
      "c:\\Users\\victo\\anaconda3\\envs\\aops_tf\\lib\\site-packages\\tensorflow_addons\\utils\\ensure_tf_install.py:53: UserWarning: Tensorflow Addons supports using Python ops for all Tensorflow versions above or equal to 2.12.0 and strictly below 2.15.0 (nightly versions are not supported). \n",
      " The versions of TensorFlow you are currently using is 2.10.1 and is not supported. \n",
      "Some things might work, some things might not.\n",
      "If you were to encounter a bug, do not file an issue.\n",
      "If you want to make sure you're using a tested and supported configuration, either change the TensorFlow version or the TensorFlow Addons's version. \n",
      "You can find the compatibility matrix in TensorFlow Addon's readme:\n",
      "https://github.com/tensorflow/addons\n",
      "  warnings.warn(\n"
     ]
    }
   ],
   "source": [
    "import os\n",
    "import shutil\n",
    "\n",
    "import tensorflow as tf\n",
    "import tensorflow_hub as hub\n",
    "import tensorflow_text as text\n",
    "from official.nlp import optimization  # to create AdamW optimizer\n",
    "\n",
    "import matplotlib.pyplot as plt\n",
    "import pandas as pd\n",
    "\n",
    "tf.get_logger().setLevel('ERROR')\n"
   ]
  },
  {
   "cell_type": "markdown",
   "metadata": {},
   "source": [
    "# Create Dataset"
   ]
  },
  {
   "cell_type": "code",
   "execution_count": 2,
   "metadata": {},
   "outputs": [],
   "source": [
    "def create_folder(path):\n",
    "    try:\n",
    "        os.makedirs(path)\n",
    "        print(f\"Folder --> '{path}' created\")\n",
    "    except FileExistsError:\n",
    "        print(f\"Already exist --> '{path}'\")\n",
    "        \n",
    "def string_to_txt(path, file_name, string):\n",
    "    if not file_name.endswith('.txt'):\n",
    "        file_name += '.txt'\n",
    "        \n",
    "    file_path = f\"{path}/{file_name}\"\n",
    "\n",
    "    with open(file_path, 'w') as file:\n",
    "        file.write(string)\n",
    "\n",
    "\n",
    "# import nltk\n",
    "# nltk.download('averaged_perceptron_tagger')\n",
    "# nltk.download('stopwords')\n",
    "# nltk.download('punkt')\n",
    "# nltk.download('wordnet')\n",
    "\n",
    "import string\n",
    "import nltk\n",
    "from nltk.corpus import stopwords\n",
    "from nltk.stem import PorterStemmer\n",
    "class GeneralNLPPreprocessing:\n",
    "    \n",
    "    def remove_punctuation(self, text):\n",
    "        # import string\n",
    "\n",
    "        punctuations = string.punctuation  # !\\\"#$%&\\'()*+,-./:;<=>?@[\\\\]^_`{|}~\n",
    "        no_punct = \"\".join([char for char in text if char not in punctuations])\n",
    "        return no_punct\n",
    "\n",
    "    def remove_stopwords(self, text):\n",
    "        # import nltk\n",
    "        # from nltk.corpus import stopwords\n",
    "        # nltk.download('stopwords')\n",
    "\n",
    "        stop_words = stopwords.words('english')  # Get English stopwords\n",
    "        words = text.split()  # Convert text to lowercase and split into words\n",
    "        filtered_words = [word for word in words if word.lower() not in stop_words]  # Filter out stop words\n",
    "        return \" \".join(filtered_words)\n",
    "\n",
    "    def lowercase(self, text):\n",
    "        return text.lower()\n",
    "\n",
    "    def stemming(self, text):\n",
    "        # import nltk\n",
    "        # from nltk.stem import PorterStemmer\n",
    "        # nltk.download('punkt')\n",
    "\n",
    "        stemmer = PorterStemmer()\n",
    "        words = text.split()\n",
    "        stemmed_words = [stemmer.stem(word, to_lowercase=False) for word in words]  # Apply stemming to each word\n",
    "        return \" \".join(stemmed_words)\n",
    "\n",
    "    def lemmatize(self, text):\n",
    "        import nltk\n",
    "        from nltk.stem import WordNetLemmatizer\n",
    "        from nltk.corpus import wordnet\n",
    "\n",
    "        def get_wordnet_pos(treebank_tag):\n",
    "            \"\"\"\n",
    "            Convert the part-of-speech naming scheme from Penn Treebank to WordNet.\n",
    "            \"\"\"\n",
    "            if treebank_tag.startswith('J'):\n",
    "                return wordnet.ADJ\n",
    "            elif treebank_tag.startswith('V'):\n",
    "                return wordnet.VERB\n",
    "            elif treebank_tag.startswith('N'):\n",
    "                return wordnet.NOUN\n",
    "            elif treebank_tag.startswith('R'):\n",
    "                return wordnet.ADV\n",
    "            else:\n",
    "                return wordnet.NOUN  # Default to noun if not found\n",
    "        \"\"\"\n",
    "        Perform lemmatization on the input text.\n",
    "        \"\"\"\n",
    "        lemmatizer = WordNetLemmatizer()\n",
    "        tokens = nltk.word_tokenize(text)\n",
    "        pos_tags = nltk.pos_tag(tokens)\n",
    "        lemmatized_words = []\n",
    "        for word, tag in pos_tags:\n",
    "            pos = get_wordnet_pos(tag)\n",
    "            lemmatized_word = lemmatizer.lemmatize(word, pos=pos)\n",
    "            lemmatized_words.append(lemmatized_word)\n",
    "        return ' '.join(lemmatized_words)\n",
    "\n",
    "    def fit(self, text):\n",
    "        # text = self.remove_punctuation(text)\n",
    "        text = self.remove_stopwords(text)\n",
    "        # text = self.lowercase(text)\n",
    "        text = self.stemming(text)\n",
    "        # text = self.lemmatize(text)\n",
    "\n",
    "        return text\n",
    "\n",
    "\n",
    "import re\n",
    "import html\n",
    "import unicodedata\n",
    "from bs4 import BeautifulSoup\n",
    "class Preprocess:\n",
    "\n",
    "    def decode_html_entities(self, text: str):\n",
    "        \"\"\"\n",
    "        Decode HTML entities in a given text. Example:\n",
    "            - &amp; --> &\n",
    "            - &lt; --> <\n",
    "            - &gt; --> >\n",
    "            - &quot; --> \"\n",
    "            - &apos; --> '\n",
    "            - etc.\n",
    "        \"\"\"\n",
    "        # import html\n",
    "\n",
    "        decoded_text = html.unescape(text)\n",
    "        return str(decoded_text)\n",
    "\n",
    "    def remove_html_tag_in_a_text(self, text: str):\n",
    "        \"\"\"\n",
    "        Remove html tag in a text such as:\n",
    "            - <br>\n",
    "            - <span></span>\n",
    "            - <b></b>\n",
    "            - etc.\n",
    "        \"\"\"\n",
    "        # from bs4 import BeautifulSoup\n",
    "\n",
    "        clean_text = BeautifulSoup(text, 'html.parser').get_text()\n",
    "        return str(clean_text)\n",
    "\n",
    "    def remove_accented_characters(self, text: str):\n",
    "        \"\"\"\n",
    "        Function replaces accented characters with their closest ASCII equivalents.\n",
    "        In some cases, this may not be the desired behavior.\n",
    "        For example, the character \"ñ\" would be replaced with \"n\".\n",
    "\n",
    "        ÀáÉéÍíÓóÚúÑñ --> AaEeIiOoUuNn\n",
    "        \"\"\"\n",
    "        # import unicodedata\n",
    "\n",
    "        new_text = unicodedata.normalize('NFKD', text).encode('ascii', 'ignore').decode('utf-8', 'ignore')\n",
    "        return str(new_text)\n",
    "\n",
    "    def remove_redundant_white_spaces(self, text: str):\n",
    "        # import re\n",
    "\n",
    "        clean_text = re.sub(r'\\s+', ' ', text).strip()\n",
    "        return str(clean_text)\n",
    "\n",
    "    def replace_img_tag_with_the_alt_attribute(self, html_text: str):\n",
    "        \"\"\"\n",
    "        Before using this function, must perform:\n",
    "            - `decode_html_entities()`\n",
    "        \"\"\"\n",
    "        # from bs4 import BeautifulSoup\n",
    "\n",
    "        soup = BeautifulSoup(html_text, 'html.parser')\n",
    "        img_tags = soup.find_all('img')\n",
    "\n",
    "        # Replace img tags with their alt attribute content\n",
    "        for img_tag in img_tags:\n",
    "            alt_text = img_tag.get('alt', '[MISSING_ALT]')  # Get alt attribute or [MISSING_ALT] string if missing\n",
    "            img_tag.replace_with(alt_text)\n",
    "\n",
    "        modified_text = str(soup)\n",
    "\n",
    "        return modified_text\n",
    "\n",
    "    def clean_text(self, text: str):\n",
    "        text = text.replace(\"\\n\", \" \")\n",
    "        text = text.replace(\"\\t\", \" \")\n",
    "        text = text.replace(\"\\r\", \" \")\n",
    "        text = text.replace(\"\\v\", \" \")\n",
    "        return text\n",
    "\n",
    "    def findall_occurrences_of_LaTex(self, text: str) -> list:\n",
    "        \"\"\"\n",
    "        Find/capture all occurrences LaTex that indicated with `$ ... $` with an n number of `$`\n",
    "        \"\"\"\n",
    "        # import re\n",
    "\n",
    "        regex = re.compile(r'(\\$+.*?\\$+)')\n",
    "        matches = re.findall(regex, text)  # Output: [$...$, $...$, ...]\n",
    "\n",
    "        return matches\n",
    "\n",
    "    def extract_inside_dollar_sign(self, text: str) -> str:\n",
    "        \"\"\"\n",
    "        This function only for this specific input:\n",
    "            - `$ 1/x \\leq 10 $`  -->  ` 1/x \\leq 10 `\n",
    "            - `$1  anything z$`  -->  `1   anything z`  with the redundant spaces\n",
    "\n",
    "        You can say this function remove suffix and prefix for `$` sign\\n\n",
    "        OR\\n\n",
    "        It takes/extracts text that flanked (diapit) with `$` sign\n",
    "        \"\"\"\n",
    "        # import re\n",
    "\n",
    "        regex = re.compile(r'\\$+(.*?)\\$+')\n",
    "        result = re.findall(regex, text)\n",
    "        return result[0]\n",
    "\n",
    "    def fit(self, text: str):\n",
    "        # text = self.remove_redundant_white_spaces(text)\n",
    "        text = self.decode_html_entities(text)\n",
    "        # text = self.remove_redundant_white_spaces(text)\n",
    "        text = self.remove_accented_characters(text)\n",
    "        # text = self.remove_redundant_white_spaces(text)\n",
    "        text = self.clean_text(text)\n",
    "        text = self.remove_redundant_white_spaces(text)\n",
    "        text = self.replace_img_tag_with_the_alt_attribute(text)\n",
    "\n",
    "        # text = self.remove_redundant_white_spaces(text)\n",
    "        text = self.remove_html_tag_in_a_text(text)\n",
    "        text = self.remove_redundant_white_spaces(text)\n",
    "\n",
    "        text = text.replace(\"\\[\", \"$\")\n",
    "        text = text.replace(\"\\]\", \"$\")\n",
    "\n",
    "        captured_LaTex = self.findall_occurrences_of_LaTex(text)\n",
    "        processed_LaTex = captured_LaTex.copy()\n",
    "        for i in range(len(processed_LaTex)):\n",
    "            processed_LaTex[i] = self.extract_inside_dollar_sign(processed_LaTex[i])\n",
    "\n",
    "        for j in range(len(captured_LaTex)):\n",
    "            text = text.replace(captured_LaTex[j], processed_LaTex[j])\n",
    "\n",
    "        # text = GeneralNLPPreprocessing().fit(text)\n",
    "        text = text.replace(\"\\\\\", \" \")\n",
    "        text = self.remove_redundant_white_spaces(text)\n",
    "        return text\n"
   ]
  },
  {
   "cell_type": "code",
   "execution_count": 3,
   "metadata": {},
   "outputs": [
    {
     "name": "stderr",
     "output_type": "stream",
     "text": [
      "C:\\Users\\victo\\AppData\\Local\\Temp\\ipykernel_8924\\1287750841.py:162: MarkupResemblesLocatorWarning: The input looks more like a filename than markup. You may want to open this file and pass the filehandle into Beautiful Soup.\n",
      "  soup = BeautifulSoup(html_text, 'html.parser')\n",
      "C:\\Users\\victo\\AppData\\Local\\Temp\\ipykernel_8924\\1287750841.py:133: MarkupResemblesLocatorWarning: The input looks more like a filename than markup. You may want to open this file and pass the filehandle into Beautiful Soup.\n",
      "  clean_text = BeautifulSoup(text, 'html.parser').get_text()\n"
     ]
    }
   ],
   "source": [
    "df = pd.read_csv(\"../data/imo.csv\")\n",
    "df = df[df['label'].notna()]\n",
    "\n",
    "# df['post_canonical'] = df['post_canonical'].apply(GeneralNLPPreprocessing().fit)\n",
    "df['post_canonical'] = df['post_canonical'].apply(Preprocess().fit)\n"
   ]
  },
  {
   "cell_type": "code",
   "execution_count": 4,
   "metadata": {},
   "outputs": [
    {
     "name": "stdout",
     "output_type": "stream",
     "text": [
      "Folder --> 'post_canonical' created\n",
      "Folder --> 'post_canonical/train' created\n",
      "Folder --> 'post_canonical/test' created\n",
      "Folder --> 'post_canonical/train/Algebra' created\n",
      "Folder --> 'post_canonical/test/Algebra' created\n",
      "Folder --> 'post_canonical/train/Combinatorics' created\n",
      "Folder --> 'post_canonical/test/Combinatorics' created\n",
      "Folder --> 'post_canonical/train/Geometry' created\n",
      "Folder --> 'post_canonical/test/Geometry' created\n",
      "Folder --> 'post_canonical/train/Number Theory' created\n",
      "Folder --> 'post_canonical/test/Number Theory' created\n"
     ]
    }
   ],
   "source": [
    "from sklearn.model_selection import train_test_split\n",
    "\n",
    "algebra = df[df['label'] == 'Algebra'][['id_key', 'post_canonical', 'label']]\n",
    "combin = df[df['label'] == 'Combinatorics'][['id_key', 'post_canonical', 'label']]\n",
    "geomet = df[df['label'] == 'Geometry'][['id_key', 'post_canonical', 'label']]\n",
    "nt = df[df['label'] == 'Number Theory'][['id_key', 'post_canonical', 'label']]\n",
    "\n",
    "m = min([algebra.shape[0], combin.shape[0], geomet.shape[0], nt.shape[0]])\n",
    "\n",
    "algebra = algebra.sample(m, random_state=42)\n",
    "combin = combin.sample(m, random_state=42)\n",
    "geomet = geomet.sample(m, random_state=42)\n",
    "nt = nt.sample(m, random_state=42)\n",
    "\n",
    "algebra_combin_geomet_nt = [algebra, combin, geomet, nt]\n",
    "\n",
    "create_folder(\"post_canonical\")\n",
    "create_folder(\"post_canonical/train\")\n",
    "create_folder(\"post_canonical/test\")\n",
    "\n",
    "for each in algebra_combin_geomet_nt:\n",
    "    train, test = train_test_split(each, test_size=0.2, random_state=42)\n",
    "    \n",
    "    current_label = str(list(each['label'])[0])\n",
    "    current_path_train, current_path_test = f\"post_canonical/train/{current_label}\", f\"post_canonical/test/{current_label}\"\n",
    "    create_folder(current_path_train)\n",
    "    create_folder(current_path_test)\n",
    "    \n",
    "    train = train.to_dict('records')\n",
    "    for i in range(len(train)):\n",
    "        id_key = str(train[i]['id_key'])\n",
    "        string = train[i]['post_canonical']\n",
    "        string_to_txt(\n",
    "            path=current_path_train, \n",
    "            file_name=id_key, \n",
    "            string=string\n",
    "        )\n",
    "\n",
    "    test = test.to_dict('records')\n",
    "    for j in range(len(test)):\n",
    "        id_key = str(test[j]['id_key'])\n",
    "        string = test[j]['post_canonical']\n",
    "        string_to_txt(\n",
    "            path=current_path_test, \n",
    "            file_name=id_key, \n",
    "            string=string\n",
    "        )\n"
   ]
  },
  {
   "cell_type": "markdown",
   "metadata": {},
   "source": [
    "# Model"
   ]
  },
  {
   "cell_type": "code",
   "execution_count": 2,
   "metadata": {},
   "outputs": [
    {
     "name": "stdout",
     "output_type": "stream",
     "text": [
      "Found 2208 files belonging to 4 classes.\n",
      "Using 1767 files for training.\n",
      "Found 2208 files belonging to 4 classes.\n",
      "Using 441 files for validation.\n",
      "Found 552 files belonging to 4 classes.\n"
     ]
    }
   ],
   "source": [
    "AUTOTUNE = tf.data.AUTOTUNE  # Output: -1 --> <class 'int'>\n",
    "batch_size = 8\n",
    "seed = 42\n",
    "\n",
    "raw_train_ds = tf.keras.utils.text_dataset_from_directory(\n",
    "    'post_canonical/train',\n",
    "    batch_size=batch_size,\n",
    "    validation_split=0.2,\n",
    "    subset='training',\n",
    "    seed=seed\n",
    ")\n",
    "class_names = raw_train_ds.class_names\n",
    "train_ds = raw_train_ds.cache().prefetch(buffer_size=AUTOTUNE)\n",
    "\n",
    "val_ds = tf.keras.utils.text_dataset_from_directory(\n",
    "    'post_canonical/train',\n",
    "    batch_size=batch_size,\n",
    "    validation_split=0.2,\n",
    "    subset='validation',\n",
    "    seed=seed\n",
    ")\n",
    "val_ds = val_ds.cache().prefetch(buffer_size=AUTOTUNE)\n",
    "\n",
    "test_ds = tf.keras.utils.text_dataset_from_directory(\n",
    "    'post_canonical/test',\n",
    "    batch_size=batch_size\n",
    ")\n",
    "test_ds = test_ds.cache().prefetch(buffer_size=AUTOTUNE)\n"
   ]
  },
  {
   "cell_type": "code",
   "execution_count": 3,
   "metadata": {},
   "outputs": [],
   "source": [
    "# for text_batch, label_batch in train_ds.take(2):\n",
    "#     for i in range(2):\n",
    "#         print(f'Text: {text_batch.numpy()[i]}')\n",
    "#         label = label_batch.numpy()[i]\n",
    "#         print(f'Label : {label} ({class_names[label]})')\n"
   ]
  },
  {
   "cell_type": "code",
   "execution_count": 4,
   "metadata": {},
   "outputs": [
    {
     "name": "stdout",
     "output_type": "stream",
     "text": [
      "BERT model selected           : https://tfhub.dev/tensorflow/small_bert/bert_en_uncased_L-4_H-768_A-12/2\n",
      "Preprocess model auto-selected: https://kaggle.com/models/tensorflow/bert/frameworks/TensorFlow2/variations/en-uncased-preprocess/versions/3\n"
     ]
    }
   ],
   "source": [
    "# bert_model_name = \"\"\n",
    "# tfhub_handle_encoder = \"https://www.kaggle.com/models/tensorflow/bert/frameworks/TensorFlow2/variations/bert-en-uncased-l-4-h-768-a-12/versions/2\"\n",
    "tfhub_handle_encoder = \"https://tfhub.dev/tensorflow/small_bert/bert_en_uncased_L-4_H-768_A-12/2\"\n",
    "tfhub_handle_preprocess = \"https://kaggle.com/models/tensorflow/bert/frameworks/TensorFlow2/variations/en-uncased-preprocess/versions/3\"\n",
    "\n",
    "bert_model = hub.KerasLayer(tfhub_handle_encoder)\n",
    "bert_preprocess_model = hub.KerasLayer(tfhub_handle_preprocess)\n",
    "\n",
    "print(f'BERT model selected           : {tfhub_handle_encoder}')\n",
    "print(f'Preprocess model auto-selected: {tfhub_handle_preprocess}')\n"
   ]
  },
  {
   "cell_type": "code",
   "execution_count": 5,
   "metadata": {},
   "outputs": [
    {
     "name": "stdout",
     "output_type": "stream",
     "text": [
      "Keys       : ['input_word_ids', 'input_mask', 'input_type_ids']\n",
      "Shape      : (1, 128)\n",
      "Word Ids   : [  101  1037  2591  2897  2038 10476  5198  1010  2070  7689]\n",
      "Input Mask : [1 1 1 1 1 1 1 1 1 1]\n",
      "Type Ids   : [0 0 0 0 0 0 0 0 0 0]\n"
     ]
    }
   ],
   "source": [
    "text_test = ['A social network has 2019 users, some pairs of whom are friends. Whenever user A is friends with user B, user B is also friends with user A. Events of the following kind may happen repeatedly, one at a time: Three users A, B, and C such that A is friends with both B and C, but B and C are not friends, change their friendship statuses such that B and C are now friends, but A is no longer friends with B, and no longer friends with C. All other friendship statuses are unchanged. Initially, 1010 users have 1009 friends each, and 1009 users have 1010 friends each. Prove that there exists a sequence of such events after which each user is friends with at most one other user. Proposed by Adrian Beker, Croatia']\n",
    "# text_test = ['x^2']\n",
    "text_preprocessed = bert_preprocess_model(text_test)\n",
    "\n",
    "print(f'Keys       : {list(text_preprocessed.keys())}')\n",
    "print(f'Shape      : {text_preprocessed[\"input_word_ids\"].shape}')\n",
    "print(f'Word Ids   : {text_preprocessed[\"input_word_ids\"][0, :10]}')\n",
    "print(f'Input Mask : {text_preprocessed[\"input_mask\"][0, :10]}')\n",
    "print(f'Type Ids   : {text_preprocessed[\"input_type_ids\"][0, :10]}')\n"
   ]
  },
  {
   "cell_type": "code",
   "execution_count": 6,
   "metadata": {},
   "outputs": [],
   "source": [
    "# bert_results = bert_model(text_preprocessed)\n",
    "\n",
    "# print(f'Loaded BERT: {(tfhub_handle_encoder)}\\n')\n",
    "# print(f'Keys: {list(bert_results.keys())}')\n",
    "# print(f'Pooled Outputs Shape:{bert_results[\"pooled_output\"].shape}')\n",
    "# print(f'Pooled Outputs Values:{bert_results[\"pooled_output\"][0, :12]}')\n",
    "# print(f'Sequence Outputs Shape:{bert_results[\"sequence_output\"].shape}')\n",
    "# print(f'Sequence Outputs Values:{bert_results[\"sequence_output\"][0, :12]}')\n"
   ]
  },
  {
   "cell_type": "code",
   "execution_count": 7,
   "metadata": {},
   "outputs": [],
   "source": [
    "def build_classifier_model(tfhub_preprocess, tfhub_encoder):\n",
    "    text_input = tf.keras.layers.Input(shape=(), dtype=tf.string, name='text')\n",
    "    \n",
    "    preprocessing_layer = hub.KerasLayer(tfhub_preprocess, name='preprocessing')\n",
    "    encoder_inputs = preprocessing_layer(text_input)\n",
    "    \n",
    "    encoder = hub.KerasLayer(tfhub_encoder, trainable=True, name='BERT_encoder')\n",
    "    outputs = encoder(encoder_inputs)\n",
    "    \n",
    "    net = outputs['pooled_output']\n",
    "    net = tf.keras.layers.Dropout(0.1)(net)\n",
    "    net = tf.keras.layers.Dense(256, activation='relu')(net)  # Additional dense layer\n",
    "    net = tf.keras.layers.Dropout(0.1)(net)\n",
    "    net = tf.keras.layers.Dense(128, activation='relu')(net)  # Additional dense layer\n",
    "    net = tf.keras.layers.Dropout(0.1)(net)\n",
    "    net = tf.keras.layers.Dense(4, activation='softmax', name='classifier')(net)\n",
    "    \n",
    "    return tf.keras.Model(text_input, net)\n"
   ]
  },
  {
   "cell_type": "code",
   "execution_count": 8,
   "metadata": {},
   "outputs": [],
   "source": [
    "# Create a StringLookup layer to map string labels to integer indices\n",
    "label_processor = tf.keras.layers.StringLookup(\n",
    "    vocabulary=['Algebra', 'Combinatorics', 'Geometry', 'Number Theory'],\n",
    "    mask_token=None  # Treats unknown tokens as missing values\n",
    ")\n",
    "\n",
    "# Map string labels to integer indices\n",
    "train_labels = train_ds.map(lambda text, label: label_processor(label))\n",
    "val_labels = val_ds.map(lambda text, label: label_processor(label))\n",
    "test_labels = test_ds.map(lambda text, label: label_processor(label))\n"
   ]
  },
  {
   "cell_type": "code",
   "execution_count": 12,
   "metadata": {},
   "outputs": [],
   "source": [
    "classifier_model = build_classifier_model(tfhub_preprocess=tfhub_handle_preprocess, tfhub_encoder=tfhub_handle_encoder)\n",
    "\n",
    "epochs = 3\n",
    "steps_per_epoch = tf.data.experimental.cardinality(train_ds).numpy()\n",
    "num_train_steps = steps_per_epoch * epochs\n",
    "optimizer = optimization.create_optimizer(\n",
    "    init_lr=1e-4,\n",
    "    num_train_steps=num_train_steps,\n",
    "    num_warmup_steps=int(0.1*num_train_steps),\n",
    "    optimizer_type='adamw')\n",
    "# optimizer = tf.keras.optimizers.Adam(learning_rate=1e-4)\n",
    "\n",
    "loss = tf.keras.losses.sparse_categorical_crossentropy  # Assuming you have integer labels\n",
    "metrics = ['accuracy']\n",
    "\n",
    "classifier_model.compile(optimizer=optimizer,\n",
    "                         loss=loss,\n",
    "                         metrics=metrics)\n",
    "\n",
    "# bert_raw_result = classifier_model(tf.constant(text_test))\n",
    "# print(tf.sigmoid(bert_raw_result))\n"
   ]
  },
  {
   "cell_type": "code",
   "execution_count": 13,
   "metadata": {},
   "outputs": [
    {
     "name": "stdout",
     "output_type": "stream",
     "text": [
      "Epoch 1/3\n"
     ]
    },
    {
     "name": "stdout",
     "output_type": "stream",
     "text": [
      "221/221 [==============================] - 51s 203ms/step - loss: 0.7543 - accuracy: 0.7119 - val_loss: 0.3741 - val_accuracy: 0.8753\n",
      "Epoch 2/3\n",
      "221/221 [==============================] - 45s 203ms/step - loss: 0.3731 - accuracy: 0.8902 - val_loss: 0.4565 - val_accuracy: 0.8866\n",
      "Epoch 3/3\n",
      "221/221 [==============================] - 45s 204ms/step - loss: 0.2262 - accuracy: 0.9423 - val_loss: 0.5176 - val_accuracy: 0.8980\n"
     ]
    }
   ],
   "source": [
    "history = classifier_model.fit(\n",
    "    train_ds, \n",
    "    validation_data=val_ds, \n",
    "    epochs=epochs\n",
    "    )\n"
   ]
  },
  {
   "cell_type": "code",
   "execution_count": 38,
   "metadata": {},
   "outputs": [
    {
     "name": "stdout",
     "output_type": "stream",
     "text": [
      "1/1 [==============================] - 0s 38ms/step\n"
     ]
    },
    {
     "data": {
      "text/plain": [
       "array([[9.9915266e-01, 1.8473837e-04, 3.7815607e-05, 6.2481739e-04]],\n",
       "      dtype=float32)"
      ]
     },
     "execution_count": 38,
     "metadata": {},
     "output_type": "execute_result"
    }
   ],
   "source": [
    "classifier_model.predict(tf.constant([\"Find all real functions f defined on mathbb R, such that f(f(x)+y) = f(f(x)-y)+4f(x)y ,for all real numbers x,y.\"]))"
   ]
  },
  {
   "cell_type": "code",
   "execution_count": 32,
   "metadata": {},
   "outputs": [
    {
     "name": "stdout",
     "output_type": "stream",
     "text": [
      "69/69 [==============================] - 5s 61ms/step - loss: 0.4952 - accuracy: 0.8768\n",
      "Loss: 0.49515554308891296\n",
      "Accuracy: 0.8768116235733032\n"
     ]
    }
   ],
   "source": [
    "loss, accuracy = classifier_model.evaluate(test_ds)\n",
    "\n",
    "print(f'Loss: {loss}')\n",
    "print(f'Accuracy: {accuracy}')\n"
   ]
  },
  {
   "cell_type": "code",
   "execution_count": 36,
   "metadata": {},
   "outputs": [
    {
     "name": "stdout",
     "output_type": "stream",
     "text": [
      "dict_keys(['loss', 'accuracy', 'val_loss', 'val_accuracy'])\n"
     ]
    },
    {
     "data": {
      "text/plain": [
       "<matplotlib.legend.Legend at 0x2825876bc40>"
      ]
     },
     "execution_count": 36,
     "metadata": {},
     "output_type": "execute_result"
    },
    {
     "data": {
      "image/png": "[encoded data removed]",
      "text/plain": [
       "<Figure size 1200x800 with 2 Axes>"
      ]
     },
     "metadata": {},
     "output_type": "display_data"
    }
   ],
   "source": [
    "history_dict = history.history\n",
    "print(history_dict.keys())\n",
    "\n",
    "acc = history_dict['accuracy']\n",
    "val_acc = history_dict['val_accuracy']\n",
    "loss = history_dict['loss']\n",
    "val_loss = history_dict['val_loss']\n",
    "\n",
    "epochs = range(1, len(acc) + 1)\n",
    "fig = plt.figure(figsize=(12, 8))\n",
    "fig.tight_layout()\n",
    "\n",
    "plt.subplot(2, 1, 1)\n",
    "# r is for \"solid red line\"\n",
    "plt.plot(epochs, loss, 'r', label='Training loss')\n",
    "# b is for \"solid blue line\"\n",
    "plt.plot(epochs, val_loss, 'b', label='Validation loss')\n",
    "plt.title('Training and validation loss')\n",
    "# plt.xlabel('Epochs')\n",
    "plt.ylabel('Loss')\n",
    "plt.legend()\n",
    "\n",
    "plt.subplot(2, 1, 2)\n",
    "plt.plot(epochs, acc, 'r', label='Training acc')\n",
    "plt.plot(epochs, val_acc, 'b', label='Validation acc')\n",
    "plt.title('Training and validation accuracy')\n",
    "plt.xlabel('Epochs')\n",
    "plt.ylabel('Accuracy')\n",
    "plt.legend(loc='lower right')\n"
   ]
  },
  {
   "cell_type": "code",
   "execution_count": null,
   "metadata": {},
   "outputs": [],
   "source": []
  }
 ],
 "metadata": {
  "kernelspec": {
   "display_name": "aops_tf",
   "language": "python",
   "name": "python3"
  },
  "language_info": {
   "codemirror_mode": {
    "name": "ipython",
    "version": 3
   },
   "file_extension": ".py",
   "mimetype": "text/x-python",
   "name": "python",
   "nbconvert_exporter": "python",
   "pygments_lexer": "ipython3",
   "version": "3.9.18"
  }
 },
 "nbformat": 4,
 "nbformat_minor": 2
}
