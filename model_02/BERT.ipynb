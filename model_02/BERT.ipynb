{
 "cells": [
  {
   "cell_type": "code",
   "execution_count": 1,
   "metadata": {},
   "outputs": [
    {
     "name": "stderr",
     "output_type": "stream",
     "text": [
      "c:\\Users\\victo\\anaconda3\\envs\\aops_tf\\lib\\site-packages\\tensorflow_addons\\utils\\tfa_eol_msg.py:23: UserWarning: \n",
      "\n",
      "TensorFlow Addons (TFA) has ended development and introduction of new features.\n",
      "TFA has entered a minimal maintenance and release mode until a planned end of life in May 2024.\n",
      "Please modify downstream libraries to take dependencies from other repositories in our TensorFlow community (e.g. Keras, Keras-CV, and Keras-NLP). \n",
      "\n",
      "For more information see: https://github.com/tensorflow/addons/issues/2807 \n",
      "\n",
      "  warnings.warn(\n",
      "c:\\Users\\victo\\anaconda3\\envs\\aops_tf\\lib\\site-packages\\tensorflow_addons\\utils\\ensure_tf_install.py:53: UserWarning: Tensorflow Addons supports using Python ops for all Tensorflow versions above or equal to 2.12.0 and strictly below 2.15.0 (nightly versions are not supported). \n",
      " The versions of TensorFlow you are currently using is 2.10.1 and is not supported. \n",
      "Some things might work, some things might not.\n",
      "If you were to encounter a bug, do not file an issue.\n",
      "If you want to make sure you're using a tested and supported configuration, either change the TensorFlow version or the TensorFlow Addons's version. \n",
      "You can find the compatibility matrix in TensorFlow Addon's readme:\n",
      "https://github.com/tensorflow/addons\n",
      "  warnings.warn(\n"
     ]
    }
   ],
   "source": [
    "import tensorflow as tf\n",
    "import tensorflow_hub as hub\n",
    "import tensorflow_text as text\n",
    "from official.nlp import optimization  # to create AdamW optimizer\n",
    "\n",
    "import matplotlib.pyplot as plt\n",
    "import pandas as pd\n",
    "\n",
    "tf.get_logger().setLevel('ERROR')\n"
   ]
  },
  {
   "cell_type": "markdown",
   "metadata": {},
   "source": [
    "# Prepare & Load Dataset"
   ]
  },
  {
   "cell_type": "code",
   "execution_count": 2,
   "metadata": {},
   "outputs": [],
   "source": [
    "# import nltk\n",
    "# nltk.download('averaged_perceptron_tagger')\n",
    "# nltk.download('stopwords')\n",
    "# nltk.download('punkt')\n",
    "# nltk.download('wordnet')\n",
    "\n",
    "import string\n",
    "import nltk\n",
    "from nltk.corpus import stopwords\n",
    "from nltk.stem import PorterStemmer\n",
    "class GeneralNLPPreprocessing:\n",
    "    \n",
    "    def remove_punctuation(self, text):\n",
    "        # import string\n",
    "\n",
    "        punctuations = string.punctuation  # !\\\"#$%&\\'()*+,-./:;<=>?@[\\\\]^_`{|}~\n",
    "        no_punct = \"\".join([char for char in text if char not in punctuations])\n",
    "        return no_punct\n",
    "\n",
    "    def remove_stopwords(self, text):\n",
    "        # import nltk\n",
    "        # from nltk.corpus import stopwords\n",
    "        # nltk.download('stopwords')\n",
    "\n",
    "        stop_words = stopwords.words('english')  # Get English stopwords\n",
    "        words = text.split()  # Convert text to lowercase and split into words\n",
    "        filtered_words = [word for word in words if word.lower() not in stop_words]  # Filter out stop words\n",
    "        return \" \".join(filtered_words)\n",
    "\n",
    "    def lowercase(self, text):\n",
    "        return text.lower()\n",
    "\n",
    "    def stemming(self, text):\n",
    "        # import nltk\n",
    "        # from nltk.stem import PorterStemmer\n",
    "        # nltk.download('punkt')\n",
    "\n",
    "        stemmer = PorterStemmer()\n",
    "        words = text.split()\n",
    "        stemmed_words = [stemmer.stem(word, to_lowercase=False) for word in words]  # Apply stemming to each word\n",
    "        return \" \".join(stemmed_words)\n",
    "\n",
    "    def lemmatize(self, text):\n",
    "        import nltk\n",
    "        from nltk.stem import WordNetLemmatizer\n",
    "        from nltk.corpus import wordnet\n",
    "\n",
    "        def get_wordnet_pos(treebank_tag):\n",
    "            \"\"\"\n",
    "            Convert the part-of-speech naming scheme from Penn Treebank to WordNet.\n",
    "            \"\"\"\n",
    "            if treebank_tag.startswith('J'):\n",
    "                return wordnet.ADJ\n",
    "            elif treebank_tag.startswith('V'):\n",
    "                return wordnet.VERB\n",
    "            elif treebank_tag.startswith('N'):\n",
    "                return wordnet.NOUN\n",
    "            elif treebank_tag.startswith('R'):\n",
    "                return wordnet.ADV\n",
    "            else:\n",
    "                return wordnet.NOUN  # Default to noun if not found\n",
    "        \"\"\"\n",
    "        Perform lemmatization on the input text.\n",
    "        \"\"\"\n",
    "        lemmatizer = WordNetLemmatizer()\n",
    "        tokens = nltk.word_tokenize(text)\n",
    "        pos_tags = nltk.pos_tag(tokens)\n",
    "        lemmatized_words = []\n",
    "        for word, tag in pos_tags:\n",
    "            pos = get_wordnet_pos(tag)\n",
    "            lemmatized_word = lemmatizer.lemmatize(word, pos=pos)\n",
    "            lemmatized_words.append(lemmatized_word)\n",
    "        return ' '.join(lemmatized_words)\n",
    "\n",
    "    def fit(self, text):\n",
    "        # text = self.remove_punctuation(text)\n",
    "        text = self.remove_stopwords(text)\n",
    "        # text = self.lowercase(text)\n",
    "        text = self.stemming(text)\n",
    "        # text = self.lemmatize(text)\n",
    "\n",
    "        return text\n",
    "\n",
    "\n",
    "import re\n",
    "import html\n",
    "import unicodedata\n",
    "from bs4 import BeautifulSoup\n",
    "class Preprocess:\n",
    "\n",
    "    def decode_html_entities(self, text: str):\n",
    "        \"\"\"\n",
    "        Decode HTML entities in a given text. Example:\n",
    "            - &amp; --> &\n",
    "            - &lt; --> <\n",
    "            - &gt; --> >\n",
    "            - &quot; --> \"\n",
    "            - &apos; --> '\n",
    "            - etc.\n",
    "        \"\"\"\n",
    "        # import html\n",
    "\n",
    "        decoded_text = html.unescape(text)\n",
    "        return str(decoded_text)\n",
    "\n",
    "    def remove_html_tag_in_a_text(self, text: str):\n",
    "        \"\"\"\n",
    "        Remove html tag in a text such as:\n",
    "            - <br>\n",
    "            - <span></span>\n",
    "            - <b></b>\n",
    "            - etc.\n",
    "        \"\"\"\n",
    "        # from bs4 import BeautifulSoup\n",
    "\n",
    "        clean_text = BeautifulSoup(text, 'html.parser').get_text()\n",
    "        return str(clean_text)\n",
    "\n",
    "    def remove_accented_characters(self, text: str):\n",
    "        \"\"\"\n",
    "        Function replaces accented characters with their closest ASCII equivalents.\n",
    "        In some cases, this may not be the desired behavior.\n",
    "        For example, the character \"ñ\" would be replaced with \"n\".\n",
    "\n",
    "        ÀáÉéÍíÓóÚúÑñ --> AaEeIiOoUuNn\n",
    "        \"\"\"\n",
    "        # import unicodedata\n",
    "\n",
    "        new_text = unicodedata.normalize('NFKD', text).encode('ascii', 'ignore').decode('utf-8', 'ignore')\n",
    "        return str(new_text)\n",
    "\n",
    "    def remove_redundant_white_spaces(self, text: str):\n",
    "        # import re\n",
    "\n",
    "        clean_text = re.sub(r'\\s+', ' ', text).strip()\n",
    "        return str(clean_text)\n",
    "\n",
    "    def replace_img_tag_with_the_alt_attribute(self, html_text: str):\n",
    "        \"\"\"\n",
    "        Before using this function, must perform:\n",
    "            - `decode_html_entities()`\n",
    "        \"\"\"\n",
    "        # from bs4 import BeautifulSoup\n",
    "\n",
    "        soup = BeautifulSoup(html_text, 'html.parser')\n",
    "        img_tags = soup.find_all('img')\n",
    "\n",
    "        # Replace img tags with their alt attribute content\n",
    "        for img_tag in img_tags:\n",
    "            alt_text = img_tag.get('alt', '[MISSING_ALT]')  # Get alt attribute or [MISSING_ALT] string if missing\n",
    "            img_tag.replace_with(alt_text)\n",
    "\n",
    "        modified_text = str(soup)\n",
    "\n",
    "        return modified_text\n",
    "\n",
    "    def clean_text(self, text: str):\n",
    "        text = text.replace(\"\\n\", \" \")\n",
    "        text = text.replace(\"\\t\", \" \")\n",
    "        text = text.replace(\"\\r\", \" \")\n",
    "        text = text.replace(\"\\v\", \" \")\n",
    "        return text\n",
    "\n",
    "    def findall_occurrences_of_LaTex(self, text: str) -> list:\n",
    "        \"\"\"\n",
    "        Find/capture all occurrences LaTex that indicated with `$ ... $` with an n number of `$`\n",
    "        \"\"\"\n",
    "        # import re\n",
    "\n",
    "        regex = re.compile(r'(\\$+.*?\\$+)')\n",
    "        matches = re.findall(regex, text)  # Output: [$...$, $...$, ...]\n",
    "\n",
    "        return matches\n",
    "\n",
    "    def extract_inside_dollar_sign(self, text: str) -> str:\n",
    "        \"\"\"\n",
    "        This function only for this specific input:\n",
    "            - `$ 1/x \\leq 10 $`  -->  ` 1/x \\leq 10 `\n",
    "            - `$1  anything z$`  -->  `1   anything z`  with the redundant spaces\n",
    "\n",
    "        You can say this function remove suffix and prefix for `$` sign\\n\n",
    "        OR\\n\n",
    "        It takes/extracts text that flanked (diapit) with `$` sign\n",
    "        \"\"\"\n",
    "        # import re\n",
    "\n",
    "        regex = re.compile(r'\\$+(.*?)\\$+')\n",
    "        result = re.findall(regex, text)\n",
    "        return result[0]\n",
    "\n",
    "    def fit(self, text: str):\n",
    "        # text = self.remove_redundant_white_spaces(text)\n",
    "        text = self.decode_html_entities(text)\n",
    "        # text = self.remove_redundant_white_spaces(text)\n",
    "        text = self.remove_accented_characters(text)\n",
    "        # text = self.remove_redundant_white_spaces(text)\n",
    "        text = self.clean_text(text)\n",
    "        text = self.remove_redundant_white_spaces(text)\n",
    "        text = self.replace_img_tag_with_the_alt_attribute(text)\n",
    "\n",
    "        # text = self.remove_redundant_white_spaces(text)\n",
    "        text = self.remove_html_tag_in_a_text(text)\n",
    "        text = self.remove_redundant_white_spaces(text)\n",
    "\n",
    "        text = text.replace(\"\\[\", \"$\")\n",
    "        text = text.replace(\"\\]\", \"$\")\n",
    "\n",
    "        captured_LaTex = self.findall_occurrences_of_LaTex(text)\n",
    "        processed_LaTex = captured_LaTex.copy()\n",
    "        for i in range(len(processed_LaTex)):\n",
    "            processed_LaTex[i] = self.extract_inside_dollar_sign(processed_LaTex[i])\n",
    "\n",
    "        for j in range(len(captured_LaTex)):\n",
    "            text = text.replace(captured_LaTex[j], processed_LaTex[j])\n",
    "\n",
    "        # text = GeneralNLPPreprocessing().fit(text)\n",
    "        text = text.replace(\"\\\\\", \" \")\n",
    "        text = self.remove_redundant_white_spaces(text)\n",
    "        return text\n"
   ]
  },
  {
   "cell_type": "code",
   "execution_count": 3,
   "metadata": {},
   "outputs": [
    {
     "name": "stderr",
     "output_type": "stream",
     "text": [
      "C:\\Users\\victo\\AppData\\Local\\Temp\\ipykernel_11404\\3053953799.py:116: MarkupResemblesLocatorWarning: The input looks more like a filename than markup. You may want to open this file and pass the filehandle into Beautiful Soup.\n",
      "  clean_text = BeautifulSoup(text, 'html.parser').get_text()\n"
     ]
    }
   ],
   "source": [
    "from sklearn.model_selection import train_test_split\n",
    "\n",
    "AUTOTUNE = tf.data.AUTOTUNE  # Output: -1 --> <class 'int'>\n",
    "batch_size = 8\n",
    "seed = 42\n",
    "def load_and_prepare_dataset() -> tuple[tf.data.Dataset]:\n",
    "    \n",
    "    df = pd.read_csv(\"imo_combined.csv\")\n",
    "\n",
    "    df['post_canonical'] = df['post_rendered'].apply(Preprocess().fit)\n",
    "    df = df[['post_canonical', 'score']]\n",
    "\n",
    "    train, test = train_test_split(df, test_size=0.2, random_state=42)    # train: 340 - test: 85\n",
    "    train, val = train_test_split(train, test_size=0.1, random_state=42)  # train: 306 - val:  34\n",
    "    \n",
    "    train_post_canonical = train['post_canonical'].values\n",
    "    train_score = train['score'].values\n",
    "    \n",
    "    val_post_canonical = val['post_canonical'].values\n",
    "    val_score = val['score'].values\n",
    "    \n",
    "    test_post_canonical = test['post_canonical'].values\n",
    "    test_score = test['score'].values\n",
    "    \n",
    "    train_ds = tf.data.Dataset.from_tensor_slices((train_post_canonical, train_score))\n",
    "    val_ds = tf.data.Dataset.from_tensor_slices((val_post_canonical, val_score))\n",
    "    test_ds = tf.data.Dataset.from_tensor_slices((test_post_canonical, test_score))\n",
    "\n",
    "\n",
    "    train_ds = train_ds.shuffle(buffer_size=len(train), seed=seed).batch(batch_size).prefetch(buffer_size=AUTOTUNE)\n",
    "    val_ds = val_ds.batch(batch_size).prefetch(buffer_size=AUTOTUNE)\n",
    "    test_ds = test_ds.batch(batch_size).prefetch(buffer_size=AUTOTUNE)\n",
    "    \n",
    "    return train_ds, val_ds, test_ds\n",
    "\n",
    "train_ds, val_ds, test_ds = load_and_prepare_dataset()\n"
   ]
  },
  {
   "cell_type": "markdown",
   "metadata": {},
   "source": [
    "# Model"
   ]
  },
  {
   "cell_type": "code",
   "execution_count": 4,
   "metadata": {},
   "outputs": [
    {
     "name": "stdout",
     "output_type": "stream",
     "text": [
      "Text: We have 0 le x_i<b for i=0,1, ldots,n and x_n>0,x_{n-1}>0. If a>b, and x_nx_{n-1} ldots x_0 represents the number A base a and B base b, whilst x_{n-1}x_{n-2} ldots x_0 represents the number A' base a and B' base b, prove that A'B<AB'.\n",
      "Score: 1.5102040816326523\n",
      "Text: Prove that cos{ frac{ pi}{7}}- cos{ frac{2 pi}{7}}+ cos{ frac{3 pi}{7}}= frac{1}{2}\n",
      "Score: 6.041666666666668\n",
      "================================================\n",
      "\n",
      "Text: Let D be an interior point of the acute triangle ABC with AB > AC so that angle DAB = angle CAD. The point E on the segment AC satisfies angle ADE = angle BCD, the point F on the segment AB satisfies angle FDA = angle DBC, and the point X on the line AC satisfies CX = BX. Let O_1 and O_2 be the circumcenters of the triangles ADC and EXD, respectively. Prove that the lines BC, EF, and O_1O_2 are concurrent.\n",
      "Score: 9.469189937687512\n",
      "Text: Triangle ABC has circumcircle Omega and circumcenter O. A circle Gamma with center A intersects the segment BC at points D and E, such that B, D, E, and C are all different and lie on line BC in this order. Let F and G be the points of intersection of Gamma and Omega, such that A, F, B, C, and G lie on Omega in this order. Let K be the second point of intersection of the circumcircle of triangle BDF and the segment AB. Let L be the second point of intersection of the circumcircle of triangle CGE and the segment CA. Suppose that the lines FK and GL are different and intersect at the point X. Prove that X lies on the line AO. Proposed by Greece\n",
      "Score: 3.151770240158455\n",
      "================================================\n",
      "\n",
      "Text: Given real numbers x_1,x_2,y_1,y_2,z_1,z_2 satisfying x_1>0,x_2>0,x_1y_1>z_1^2, and x_2y_2>z_2^2, prove that: {8 over(x_1+x_2)(y_1+y_2)-(z_1+z_2)^2} le{1 over x_1y_1-z_1^2}+{1 over x_2y_2-z_2^2}. Give necessary and sufficient conditions for equality.\n",
      "Score: 6.953125\n",
      "Text: Determine all pairs of positive integers (a,b) such that dfrac{a^2}{2ab^2-b^3+1} is a positive integer.\n",
      "Score: 6.70834635823695\n",
      "================================================\n",
      "\n"
     ]
    }
   ],
   "source": [
    "for text_batch, score_batch in train_ds.take(3):\n",
    "    for i in range(2):\n",
    "        text = text_batch.numpy()[i].decode('utf-8')  # Decode bytes to string\n",
    "        label = score_batch.numpy()[i]\n",
    "        print(f'Text: {text}')\n",
    "        print(f'Score: {label}')\n",
    "    print(\"================================================\\n\")"
   ]
  },
  {
   "cell_type": "code",
   "execution_count": 9,
   "metadata": {},
   "outputs": [
    {
     "name": "stdout",
     "output_type": "stream",
     "text": [
      "BERT model selected           : https://kaggle.com/models/tensorflow/bert/frameworks/TensorFlow2/variations/en-cased-l-12-h-768-a-12/versions/4\n",
      "Preprocess model auto-selected: https://kaggle.com/models/tensorflow/bert/frameworks/TensorFlow2/variations/en-cased-preprocess/versions/3\n"
     ]
    }
   ],
   "source": [
    "# bert_model_name = \"\"\n",
    "# tfhub_handle_encoder = \"https://tfhub.dev/tensorflow/small_bert/bert_en_uncased_L-4_H-768_A-12/2\"\n",
    "tfhub_handle_encoder = \"https://kaggle.com/models/tensorflow/bert/frameworks/TensorFlow2/variations/en-cased-l-12-h-768-a-12/versions/4\"\n",
    "tfhub_handle_preprocess = \"https://kaggle.com/models/tensorflow/bert/frameworks/TensorFlow2/variations/en-cased-preprocess/versions/3\"\n",
    "# preprocessor = hub.load(tfhub_handle_preprocess)\n",
    "\n",
    "\n",
    "bert_model = hub.KerasLayer(tfhub_handle_encoder)\n",
    "bert_preprocess_model = hub.KerasLayer(tfhub_handle_preprocess)\n",
    "\n",
    "print(f'BERT model selected           : {tfhub_handle_encoder}')\n",
    "print(f'Preprocess model auto-selected: {tfhub_handle_preprocess}')\n"
   ]
  },
  {
   "cell_type": "code",
   "execution_count": 6,
   "metadata": {},
   "outputs": [
    {
     "ename": "ValueError",
     "evalue": "Exception encountered when calling layer \"keras_layer_1\" \"                 f\"(type KerasLayer).\n\nCould not find matching concrete function to call loaded from the SavedModel. Got:\n  Positional arguments (3 total):\n    * ['A social network has 2019 users, some pairs of whom are friends. Whenever '\n 'user A is friends with user B, user B is also friends with user A. Events of '\n 'the following kind may happen repeatedly, one at a time: Three users A, B, '\n 'and C such that A is friends with both B and C, but B and C are not friends, '\n 'change their friendship statuses such that B and C are now friends, but A is '\n 'no longer friends with B, and no longer friends with C. All other friendship '\n 'statuses are unchanged. Initially, 1010 users have 1009 friends each, and '\n '1009 users have 1010 friends each. Prove that there exists a sequence of '\n 'such events after which each user is friends with at most one other user. '\n 'Proposed by Adrian Beker, Croatia']\n    * False\n    * None\n  Keyword arguments: {'max_length': 512}\n\n Expected these arguments to match one of the following 4 option(s):\n\nOption 1:\n  Positional arguments (3 total):\n    * TensorSpec(shape=(None,), dtype=tf.string, name='sentences')\n    * False\n    * None\n  Keyword arguments: {}\n\nOption 2:\n  Positional arguments (3 total):\n    * TensorSpec(shape=(None,), dtype=tf.string, name='sentences')\n    * True\n    * None\n  Keyword arguments: {}\n\nOption 3:\n  Positional arguments (3 total):\n    * TensorSpec(shape=(None,), dtype=tf.string, name='inputs')\n    * False\n    * None\n  Keyword arguments: {}\n\nOption 4:\n  Positional arguments (3 total):\n    * TensorSpec(shape=(None,), dtype=tf.string, name='inputs')\n    * True\n    * None\n  Keyword arguments: {}\n\nCall arguments received by layer \"keras_layer_1\" \"                 f\"(type KerasLayer):\n  • inputs=[\"'A social network has 2019 users, some pairs of whom are friends. Whenever user A is friends with user B, user B is also friends with user A. Events of the following kind may happen repeatedly, one at a time: Three users A, B, and C such that A is friends with both B and C, but B and C are not friends, change their friendship statuses such that B and C are now friends, but A is no longer friends with B, and no longer friends with C. All other friendship statuses are unchanged. Initially, 1010 users have 1009 friends each, and 1009 users have 1010 friends each. Prove that there exists a sequence of such events after which each user is friends with at most one other user. Proposed by Adrian Beker, Croatia'\"]\n  • training=None",
     "output_type": "error",
     "traceback": [
      "\u001b[1;31m---------------------------------------------------------------------------\u001b[0m",
      "\u001b[1;31mValueError\u001b[0m                                Traceback (most recent call last)",
      "Cell \u001b[1;32mIn[6], line 3\u001b[0m\n\u001b[0;32m      1\u001b[0m text_test \u001b[38;5;241m=\u001b[39m [\u001b[38;5;124m'\u001b[39m\u001b[38;5;124mA social network has 2019 users, some pairs of whom are friends. Whenever user A is friends with user B, user B is also friends with user A. Events of the following kind may happen repeatedly, one at a time: Three users A, B, and C such that A is friends with both B and C, but B and C are not friends, change their friendship statuses such that B and C are now friends, but A is no longer friends with B, and no longer friends with C. All other friendship statuses are unchanged. Initially, 1010 users have 1009 friends each, and 1009 users have 1010 friends each. Prove that there exists a sequence of such events after which each user is friends with at most one other user. Proposed by Adrian Beker, Croatia\u001b[39m\u001b[38;5;124m'\u001b[39m]\n\u001b[0;32m      2\u001b[0m \u001b[38;5;66;03m# text_test = ['x^2']\u001b[39;00m\n\u001b[1;32m----> 3\u001b[0m text_preprocessed \u001b[38;5;241m=\u001b[39m \u001b[43mbert_preprocess_model\u001b[49m\u001b[43m(\u001b[49m\u001b[43mtext_test\u001b[49m\u001b[43m)\u001b[49m\n\u001b[0;32m      5\u001b[0m \u001b[38;5;28mprint\u001b[39m(\u001b[38;5;124mf\u001b[39m\u001b[38;5;124m'\u001b[39m\u001b[38;5;124mKeys       : \u001b[39m\u001b[38;5;132;01m{\u001b[39;00m\u001b[38;5;28mlist\u001b[39m(text_preprocessed\u001b[38;5;241m.\u001b[39mkeys())\u001b[38;5;132;01m}\u001b[39;00m\u001b[38;5;124m'\u001b[39m)\n\u001b[0;32m      6\u001b[0m \u001b[38;5;28mprint\u001b[39m(\u001b[38;5;124mf\u001b[39m\u001b[38;5;124m'\u001b[39m\u001b[38;5;124mShape      : \u001b[39m\u001b[38;5;132;01m{\u001b[39;00mtext_preprocessed[\u001b[38;5;124m\"\u001b[39m\u001b[38;5;124minput_word_ids\u001b[39m\u001b[38;5;124m\"\u001b[39m]\u001b[38;5;241m.\u001b[39mshape\u001b[38;5;132;01m}\u001b[39;00m\u001b[38;5;124m'\u001b[39m)\n",
      "File \u001b[1;32mc:\\Users\\victo\\anaconda3\\envs\\aops_tf\\lib\\site-packages\\keras\\utils\\traceback_utils.py:70\u001b[0m, in \u001b[0;36mfilter_traceback.<locals>.error_handler\u001b[1;34m(*args, **kwargs)\u001b[0m\n\u001b[0;32m     67\u001b[0m     filtered_tb \u001b[38;5;241m=\u001b[39m _process_traceback_frames(e\u001b[38;5;241m.\u001b[39m__traceback__)\n\u001b[0;32m     68\u001b[0m     \u001b[38;5;66;03m# To get the full stack trace, call:\u001b[39;00m\n\u001b[0;32m     69\u001b[0m     \u001b[38;5;66;03m# `tf.debugging.disable_traceback_filtering()`\u001b[39;00m\n\u001b[1;32m---> 70\u001b[0m     \u001b[38;5;28;01mraise\u001b[39;00m e\u001b[38;5;241m.\u001b[39mwith_traceback(filtered_tb) \u001b[38;5;28;01mfrom\u001b[39;00m \u001b[38;5;28;01mNone\u001b[39;00m\n\u001b[0;32m     71\u001b[0m \u001b[38;5;28;01mfinally\u001b[39;00m:\n\u001b[0;32m     72\u001b[0m     \u001b[38;5;28;01mdel\u001b[39;00m filtered_tb\n",
      "File \u001b[1;32m~\\AppData\\Roaming\\Python\\Python39\\site-packages\\tensorflow_hub\\keras_layer.py:250\u001b[0m, in \u001b[0;36mKerasLayer.call\u001b[1;34m(self, inputs, training)\u001b[0m\n\u001b[0;32m    247\u001b[0m   \u001b[38;5;28;01melse\u001b[39;00m:\n\u001b[0;32m    248\u001b[0m     \u001b[38;5;66;03m# Behave like BatchNormalization. (Dropout is different, b/181839368.)\u001b[39;00m\n\u001b[0;32m    249\u001b[0m     training \u001b[38;5;241m=\u001b[39m \u001b[38;5;28;01mFalse\u001b[39;00m\n\u001b[1;32m--> 250\u001b[0m   result \u001b[38;5;241m=\u001b[39m \u001b[43msmart_cond\u001b[49m\u001b[38;5;241;43m.\u001b[39;49m\u001b[43msmart_cond\u001b[49m\u001b[43m(\u001b[49m\u001b[43mtraining\u001b[49m\u001b[43m,\u001b[49m\n\u001b[0;32m    251\u001b[0m \u001b[43m                                 \u001b[49m\u001b[38;5;28;43;01mlambda\u001b[39;49;00m\u001b[43m:\u001b[49m\u001b[43m \u001b[49m\u001b[43mf\u001b[49m\u001b[43m(\u001b[49m\u001b[43mtraining\u001b[49m\u001b[38;5;241;43m=\u001b[39;49m\u001b[38;5;28;43;01mTrue\u001b[39;49;00m\u001b[43m)\u001b[49m\u001b[43m,\u001b[49m\n\u001b[0;32m    252\u001b[0m \u001b[43m                                 \u001b[49m\u001b[38;5;28;43;01mlambda\u001b[39;49;00m\u001b[43m:\u001b[49m\u001b[43m \u001b[49m\u001b[43mf\u001b[49m\u001b[43m(\u001b[49m\u001b[43mtraining\u001b[49m\u001b[38;5;241;43m=\u001b[39;49m\u001b[38;5;28;43;01mFalse\u001b[39;49;00m\u001b[43m)\u001b[49m\u001b[43m)\u001b[49m\n\u001b[0;32m    254\u001b[0m \u001b[38;5;66;03m# Unwrap dicts returned by signatures.\u001b[39;00m\n\u001b[0;32m    255\u001b[0m \u001b[38;5;28;01mif\u001b[39;00m \u001b[38;5;28mself\u001b[39m\u001b[38;5;241m.\u001b[39m_output_key:\n",
      "File \u001b[1;32m~\\AppData\\Roaming\\Python\\Python39\\site-packages\\tensorflow_hub\\keras_layer.py:252\u001b[0m, in \u001b[0;36mKerasLayer.call.<locals>.<lambda>\u001b[1;34m()\u001b[0m\n\u001b[0;32m    247\u001b[0m   \u001b[38;5;28;01melse\u001b[39;00m:\n\u001b[0;32m    248\u001b[0m     \u001b[38;5;66;03m# Behave like BatchNormalization. (Dropout is different, b/181839368.)\u001b[39;00m\n\u001b[0;32m    249\u001b[0m     training \u001b[38;5;241m=\u001b[39m \u001b[38;5;28;01mFalse\u001b[39;00m\n\u001b[0;32m    250\u001b[0m   result \u001b[38;5;241m=\u001b[39m smart_cond\u001b[38;5;241m.\u001b[39msmart_cond(training,\n\u001b[0;32m    251\u001b[0m                                  \u001b[38;5;28;01mlambda\u001b[39;00m: f(training\u001b[38;5;241m=\u001b[39m\u001b[38;5;28;01mTrue\u001b[39;00m),\n\u001b[1;32m--> 252\u001b[0m                                  \u001b[38;5;28;01mlambda\u001b[39;00m: \u001b[43mf\u001b[49m\u001b[43m(\u001b[49m\u001b[43mtraining\u001b[49m\u001b[38;5;241;43m=\u001b[39;49m\u001b[38;5;28;43;01mFalse\u001b[39;49;00m\u001b[43m)\u001b[49m)\n\u001b[0;32m    254\u001b[0m \u001b[38;5;66;03m# Unwrap dicts returned by signatures.\u001b[39;00m\n\u001b[0;32m    255\u001b[0m \u001b[38;5;28;01mif\u001b[39;00m \u001b[38;5;28mself\u001b[39m\u001b[38;5;241m.\u001b[39m_output_key:\n",
      "\u001b[1;31mValueError\u001b[0m: Exception encountered when calling layer \"keras_layer_1\" \"                 f\"(type KerasLayer).\n\nCould not find matching concrete function to call loaded from the SavedModel. Got:\n  Positional arguments (3 total):\n    * ['A social network has 2019 users, some pairs of whom are friends. Whenever '\n 'user A is friends with user B, user B is also friends with user A. Events of '\n 'the following kind may happen repeatedly, one at a time: Three users A, B, '\n 'and C such that A is friends with both B and C, but B and C are not friends, '\n 'change their friendship statuses such that B and C are now friends, but A is '\n 'no longer friends with B, and no longer friends with C. All other friendship '\n 'statuses are unchanged. Initially, 1010 users have 1009 friends each, and '\n '1009 users have 1010 friends each. Prove that there exists a sequence of '\n 'such events after which each user is friends with at most one other user. '\n 'Proposed by Adrian Beker, Croatia']\n    * False\n    * None\n  Keyword arguments: {'max_length': 512}\n\n Expected these arguments to match one of the following 4 option(s):\n\nOption 1:\n  Positional arguments (3 total):\n    * TensorSpec(shape=(None,), dtype=tf.string, name='sentences')\n    * False\n    * None\n  Keyword arguments: {}\n\nOption 2:\n  Positional arguments (3 total):\n    * TensorSpec(shape=(None,), dtype=tf.string, name='sentences')\n    * True\n    * None\n  Keyword arguments: {}\n\nOption 3:\n  Positional arguments (3 total):\n    * TensorSpec(shape=(None,), dtype=tf.string, name='inputs')\n    * False\n    * None\n  Keyword arguments: {}\n\nOption 4:\n  Positional arguments (3 total):\n    * TensorSpec(shape=(None,), dtype=tf.string, name='inputs')\n    * True\n    * None\n  Keyword arguments: {}\n\nCall arguments received by layer \"keras_layer_1\" \"                 f\"(type KerasLayer):\n  • inputs=[\"'A social network has 2019 users, some pairs of whom are friends. Whenever user A is friends with user B, user B is also friends with user A. Events of the following kind may happen repeatedly, one at a time: Three users A, B, and C such that A is friends with both B and C, but B and C are not friends, change their friendship statuses such that B and C are now friends, but A is no longer friends with B, and no longer friends with C. All other friendship statuses are unchanged. Initially, 1010 users have 1009 friends each, and 1009 users have 1010 friends each. Prove that there exists a sequence of such events after which each user is friends with at most one other user. Proposed by Adrian Beker, Croatia'\"]\n  • training=None"
     ]
    }
   ],
   "source": [
    "text_test = ['A social network has 2019 users, some pairs of whom are friends. Whenever user A is friends with user B, user B is also friends with user A. Events of the following kind may happen repeatedly, one at a time: Three users A, B, and C such that A is friends with both B and C, but B and C are not friends, change their friendship statuses such that B and C are now friends, but A is no longer friends with B, and no longer friends with C. All other friendship statuses are unchanged. Initially, 1010 users have 1009 friends each, and 1009 users have 1010 friends each. Prove that there exists a sequence of such events after which each user is friends with at most one other user. Proposed by Adrian Beker, Croatia']\n",
    "# text_test = ['x^2']\n",
    "text_preprocessed = bert_preprocess_model(text_test)\n",
    "\n",
    "print(f'Keys       : {list(text_preprocessed.keys())}')\n",
    "print(f'Shape      : {text_preprocessed[\"input_word_ids\"].shape}')\n",
    "print(f'Word Ids   : {text_preprocessed[\"input_word_ids\"][0, :10]}')\n",
    "print(f'Input Mask : {text_preprocessed[\"input_mask\"][0, :10]}')\n",
    "print(f'Type Ids   : {text_preprocessed[\"input_type_ids\"][0, :10]}')\n"
   ]
  },
  {
   "cell_type": "code",
   "execution_count": 7,
   "metadata": {},
   "outputs": [],
   "source": [
    "# bert_results = bert_model(text_preprocessed)\n",
    "\n",
    "# print(f'Loaded BERT: {(tfhub_handle_encoder)}\\n')\n",
    "# print(f'Keys: {list(bert_results.keys())}')\n",
    "# print(f'Pooled Outputs Shape:{bert_results[\"pooled_output\"].shape}')\n",
    "# print(f'Pooled Outputs Values:{bert_results[\"pooled_output\"][0, :12]}')\n",
    "# print(f'Sequence Outputs Shape:{bert_results[\"sequence_output\"].shape}')\n",
    "# print(f'Sequence Outputs Values:{bert_results[\"sequence_output\"][0, :12]}')\n"
   ]
  },
  {
   "cell_type": "code",
   "execution_count": 10,
   "metadata": {},
   "outputs": [],
   "source": [
    "def build_regressor_model(tfhub_preprocess, tfhub_encoder):\n",
    "    text_input = tf.keras.layers.Input(shape=(), dtype=tf.string, name='text')\n",
    "    \n",
    "    preprocessing_layer = hub.KerasLayer(tfhub_preprocess, name='preprocessing')\n",
    "    encoder_inputs = preprocessing_layer(text_input)\n",
    "    \n",
    "    encoder = hub.KerasLayer(tfhub_encoder, trainable=True, name='BERT_encoder')\n",
    "    outputs = encoder(encoder_inputs)\n",
    "    \n",
    "    net = outputs['pooled_output']\n",
    "    net = tf.keras.layers.Dropout(0.1)(net)\n",
    "    net = tf.keras.layers.Dense(256, activation='relu')(net)  # Additional dense layer\n",
    "    net = tf.keras.layers.Dropout(0.1)(net)\n",
    "    net = tf.keras.layers.Dense(128, activation='relu')(net)  # Additional dense layer\n",
    "    net = tf.keras.layers.Dropout(0.1)(net)\n",
    "    net = tf.keras.layers.Dense(1, activation='linear', name='regressor')(net)\n",
    "    \n",
    "    return tf.keras.Model(text_input, net)\n"
   ]
  },
  {
   "cell_type": "code",
   "execution_count": 11,
   "metadata": {},
   "outputs": [],
   "source": [
    "regressor_model = build_regressor_model(tfhub_preprocess=tfhub_handle_preprocess, tfhub_encoder=tfhub_handle_encoder)\n",
    "\n",
    "epochs = 3\n",
    "steps_per_epoch = tf.data.experimental.cardinality(train_ds).numpy()\n",
    "num_train_steps = steps_per_epoch * epochs\n",
    "optimizer = optimization.create_optimizer(\n",
    "    init_lr=1e-4,\n",
    "    num_train_steps=num_train_steps,\n",
    "    num_warmup_steps=int(0.1*num_train_steps),\n",
    "    optimizer_type='adamw')\n",
    "# optimizer = tf.keras.optimizers.Adam(learning_rate=1e-4)\n",
    "\n",
    "loss = tf.keras.losses.mean_squared_error\n",
    "metrics = ['mae']\n",
    "\n",
    "regressor_model.compile(optimizer=optimizer,\n",
    "                         loss=loss,\n",
    "                         metrics=metrics)\n"
   ]
  },
  {
   "cell_type": "code",
   "execution_count": 12,
   "metadata": {},
   "outputs": [
    {
     "name": "stdout",
     "output_type": "stream",
     "text": [
      "Epoch 1/3\n"
     ]
    },
    {
     "name": "stdout",
     "output_type": "stream",
     "text": [
      "35/35 [==============================] - 15s 202ms/step - loss: 12.6567 - mae: 2.7767 - val_loss: 4.0417 - val_mae: 1.7356\n",
      "Epoch 2/3\n",
      "35/35 [==============================] - 7s 187ms/step - loss: 5.4602 - mae: 1.9103 - val_loss: 4.9394 - val_mae: 1.8456\n",
      "Epoch 3/3\n",
      "35/35 [==============================] - 7s 187ms/step - loss: 5.4798 - mae: 1.8976 - val_loss: 4.4662 - val_mae: 1.8319\n"
     ]
    }
   ],
   "source": [
    "history = regressor_model.fit(\n",
    "    train_ds, \n",
    "    validation_data=val_ds, \n",
    "    epochs=epochs\n",
    "    )\n"
   ]
  },
  {
   "cell_type": "markdown",
   "metadata": {},
   "source": [
    "Find all real functions $f$ defined on $\\mathbb{R}$, such that $f(f(x)+y) = f(f(x)-y)+4f(x)y$ ,for all real numbers $x,y$."
   ]
  },
  {
   "cell_type": "code",
   "execution_count": 13,
   "metadata": {},
   "outputs": [
    {
     "name": "stdout",
     "output_type": "stream",
     "text": [
      "1/1 [==============================] - 0s 490ms/step\n"
     ]
    },
    {
     "data": {
      "text/plain": [
       "array([[6.173266]], dtype=float32)"
      ]
     },
     "execution_count": 13,
     "metadata": {},
     "output_type": "execute_result"
    }
   ],
   "source": [
    "example_text = \"Find all real functions f defined on mathbb R, such that f(f(x)+y) = f(f(x)-y)+4f(x)y ,for all real numbers x,y.\"\n",
    "regressor_model.predict(tf.constant([example_text]))\n"
   ]
  },
  {
   "cell_type": "code",
   "execution_count": 14,
   "metadata": {},
   "outputs": [
    {
     "name": "stdout",
     "output_type": "stream",
     "text": [
      "10/10 [==============================] - 1s 62ms/step - loss: 6.2743 - mae: 2.1155\n",
      "Loss: 6.2743048667907715\n",
      "Accuracy: 2.1155002117156982\n"
     ]
    }
   ],
   "source": [
    "loss, mae = regressor_model.evaluate(test_ds)\n",
    "\n",
    "print(f'Loss: {loss}')\n",
    "print(f'MAE: {mae}')\n"
   ]
  },
  {
   "cell_type": "code",
   "execution_count": 15,
   "metadata": {},
   "outputs": [
    {
     "data": {
      "text/plain": [
       "{'loss': [12.656743049621582, 5.460222244262695, 5.479800224304199],\n",
       " 'mae': [2.7767105102539062, 1.910332441329956, 1.8975918292999268],\n",
       " 'val_loss': [4.041679859161377, 4.939436435699463, 4.4661784172058105],\n",
       " 'val_mae': [1.735615849494934, 1.845645785331726, 1.8318814039230347]}"
      ]
     },
     "execution_count": 15,
     "metadata": {},
     "output_type": "execute_result"
    }
   ],
   "source": [
    "history.history"
   ]
  },
  {
   "cell_type": "code",
   "execution_count": 16,
   "metadata": {},
   "outputs": [
    {
     "name": "stdout",
     "output_type": "stream",
     "text": [
      "dict_keys(['loss', 'mae', 'val_loss', 'val_mae'])\n"
     ]
    },
    {
     "data": {
      "text/plain": [
       "<matplotlib.legend.Legend at 0x21d36b5bdc0>"
      ]
     },
     "execution_count": 16,
     "metadata": {},
     "output_type": "execute_result"
    },
    {
     "data": {
      "image/png": "[encoded data removed]",
      "text/plain": [
       "<Figure size 1200x800 with 2 Axes>"
      ]
     },
     "metadata": {},
     "output_type": "display_data"
    }
   ],
   "source": [
    "history_dict = history.history\n",
    "print(history_dict.keys())\n",
    "\n",
    "mae = history_dict['mae']\n",
    "val_acc = history_dict['val_mae']\n",
    "loss = history_dict['loss']\n",
    "val_mae = history_dict['val_mae']\n",
    "\n",
    "epochs = range(1, len(mae) + 1)\n",
    "fig = plt.figure(figsize=(12, 8))\n",
    "fig.tight_layout()\n",
    "\n",
    "plt.subplot(2, 1, 1)\n",
    "# r is for \"solid red line\"\n",
    "plt.plot(epochs, loss, 'r', label='Training loss')\n",
    "# b is for \"solid blue line\"\n",
    "plt.plot(epochs, val_mae, 'b', label='Validation loss')\n",
    "plt.title('Training and validation loss')\n",
    "# plt.xlabel('Epochs')\n",
    "plt.ylabel('Loss')\n",
    "plt.legend()\n",
    "\n",
    "plt.subplot(2, 1, 2)\n",
    "plt.plot(epochs, mae, 'r', label='Training mae')\n",
    "plt.plot(epochs, val_acc, 'b', label='Validation mae')\n",
    "plt.title('Training and validation mae')\n",
    "plt.xlabel('Epochs')\n",
    "plt.ylabel('Accuracy')\n",
    "plt.legend(loc='lower right')\n"
   ]
  },
  {
   "cell_type": "code",
   "execution_count": null,
   "metadata": {},
   "outputs": [],
   "source": []
  }
 ],
 "metadata": {
  "kernelspec": {
   "display_name": "aops_tf",
   "language": "python",
   "name": "python3"
  },
  "language_info": {
   "codemirror_mode": {
    "name": "ipython",
    "version": 3
   },
   "file_extension": ".py",
   "mimetype": "text/x-python",
   "name": "python",
   "nbconvert_exporter": "python",
   "pygments_lexer": "ipython3",
   "version": "3.9.18"
  }
 },
 "nbformat": 4,
 "nbformat_minor": 2
}
